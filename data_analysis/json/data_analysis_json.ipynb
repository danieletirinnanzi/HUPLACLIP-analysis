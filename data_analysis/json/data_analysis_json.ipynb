{
 "cells": [
  {
   "attachments": {},
   "cell_type": "markdown",
   "metadata": {},
   "source": [
    "EXPLANATION OF OUTPUT VARIABLES (the relevant trials are the \"canvas-keyboard-response\" ones):\n",
    "\n",
    "Experiment flow:\n",
    "- *block_index* -> index of the block (NB: starts from zero)\n",
    "- *presentation_index* -> index of the presentation inside one block (NB: starts from zero)\n",
    "\n",
    "Experiment parameters:\n",
    "- *clique_size* -> size of the clique in one of the two displayed graphs\n",
    "- *graphs_size* -> size of the displayed graphs \n",
    "- *graphs_couple* -> couple of graphs shown in current trial\n",
    "- *nodes_order* -> order of the nodes in current trial\n",
    "\n",
    "Dependent variables:\n",
    "- *rt* -> response time in ms (collected automatically)\n",
    "- *response* -> in this experiment, the accepted keys are \" \"; \"arrowright\" or \"arrowleft\"\n",
    "- *accuracy* -> this variable is manually computed and added only to the trials where response was arrowright or arrowleft\n",
    "\n",
    "Comparison variables:\n",
    "- *correct_response* -> correct response for current trial\n",
    "\n",
    "Produced automatically / not relevant:\n",
    "\n",
    "For all trials:\n",
    "- *trial_type* -> the name of the plugin used to run the trial (the real trials of the experiment are \"canvas-keyboard-response\")\n",
    "- *trial_index* -> the index of the current trial across the whole experiment (it is a global counter of trials, it also includes instructions and tutorial ones)\n",
    "- *time_elapsed* -> the number of milliseconds between the start of the experiment and when the trial ended\n",
    "- *internal_node_id* -> string identifier for the current TimelineNode\n",
    "\n",
    "For preload plugin:\n",
    "- *success*\t-> if true, then all files loaded successfully within the max_load_time. If false, then one or more file requests returned a failure and/or the file loading did not complete within the max_load_time duration.\n",
    "- *timeout* -> \tif true, then the files did not finish loading within the max_load_time duration. If false, then the file loading did not timeout.\n",
    "- *failed_images* -> one or more image file paths that produced a loading failure before the trial ended.\n",
    "- *failed_audio* -> one or more audio file paths that produced a loading failure before the trial ended.\n",
    "- *failed_video* -> one or more video file paths that produced a loading failure before the trial ended.\n",
    "\n",
    "For instructions plugin:\n",
    "- *rt* -> the response time (in ms) for the subject to view all of the pages\n",
    "- *view_history* -> array containing the order of pages the subject viewed (collected only for \"instructions\" plugin)\n",
    "\n",
    "For image-keyboard-response plugin:\n",
    "- *stimulus* -> the path of the image that was displayed.\n",
    "\n"
   ]
  },
  {
   "attachments": {},
   "cell_type": "markdown",
   "metadata": {},
   "source": [
    "------------------------------------------------------------------------------------------------------------"
   ]
  },
  {
   "attachments": {},
   "cell_type": "markdown",
   "metadata": {},
   "source": [
    "Importing packages:"
   ]
  },
  {
   "cell_type": "code",
   "execution_count": 8,
   "metadata": {},
   "outputs": [],
   "source": [
    "import pandas as pd\n",
    "import numpy as np\n",
    "from matplotlib import pyplot as plt\n",
    "from pathlib import Path"
   ]
  },
  {
   "attachments": {},
   "cell_type": "markdown",
   "metadata": {},
   "source": [
    "Importing and \"cleaning\" a single json file:"
   ]
  },
  {
   "cell_type": "code",
   "execution_count": 38,
   "metadata": {},
   "outputs": [
    {
     "name": "stdout",
     "output_type": "stream",
     "text": [
      "(430, 21)\n",
      "<class 'pandas.core.frame.DataFrame'>\n",
      "RangeIndex: 430 entries, 0 to 429\n",
      "Data columns (total 21 columns):\n",
      " #   Column              Non-Null Count  Dtype  \n",
      "---  ------              --------------  -----  \n",
      " 0   view_history        8 non-null      object \n",
      " 1   rt                  427 non-null    float64\n",
      " 2   trial_type          430 non-null    object \n",
      " 3   trial_index         430 non-null    int64  \n",
      " 4   time_elapsed        430 non-null    int64  \n",
      " 5   internal_node_id    430 non-null    object \n",
      " 6   success             3 non-null      float64\n",
      " 7   timeout             3 non-null      float64\n",
      " 8   failed_images       3 non-null      object \n",
      " 9   failed_audio        3 non-null      object \n",
      " 10  failed_video        3 non-null      object \n",
      " 11  stimulus            39 non-null     object \n",
      " 12  response            419 non-null    object \n",
      " 13  nodes_order         380 non-null    object \n",
      " 14  correct_response    380 non-null    object \n",
      " 15  block_index         380 non-null    float64\n",
      " 16  presentation_index  380 non-null    float64\n",
      " 17  clique_size         380 non-null    float64\n",
      " 18  graph_size          380 non-null    float64\n",
      " 19  graphs_couple       120 non-null    object \n",
      " 20  accuracy            120 non-null    float64\n",
      "dtypes: float64(8), int64(2), object(11)\n",
      "memory usage: 70.7+ KB\n",
      "None\n"
     ]
    }
   ],
   "source": [
    "file1Path = Path('C:/Users/danie/OneDrive/Desktop/HUPLACLIP/data_analysis/json/data/8_trials_per_cliqueSize/HUPLACLIP_pilot_myrun_14.4.2023_19.7.59.json')\n",
    "df1 = pd.read_json(file1Path)\n",
    "print(df1.shape)\n",
    "print(df1.info())"
   ]
  },
  {
   "cell_type": "code",
   "execution_count": 32,
   "metadata": {},
   "outputs": [
    {
     "name": "stdout",
     "output_type": "stream",
     "text": [
      "<class 'pandas.core.frame.DataFrame'>\n",
      "Int64Index: 380 entries, 46 to 428\n",
      "Data columns (total 21 columns):\n",
      " #   Column              Non-Null Count  Dtype  \n",
      "---  ------              --------------  -----  \n",
      " 0   view_history        0 non-null      object \n",
      " 1   rt                  380 non-null    float64\n",
      " 2   trial_type          380 non-null    object \n",
      " 3   trial_index         380 non-null    int64  \n",
      " 4   time_elapsed        380 non-null    int64  \n",
      " 5   internal_node_id    380 non-null    object \n",
      " 6   success             0 non-null      float64\n",
      " 7   timeout             0 non-null      float64\n",
      " 8   failed_images       0 non-null      object \n",
      " 9   failed_audio        0 non-null      object \n",
      " 10  failed_video        0 non-null      object \n",
      " 11  stimulus            0 non-null      object \n",
      " 12  response            380 non-null    object \n",
      " 13  nodes_order         380 non-null    object \n",
      " 14  correct_response    380 non-null    object \n",
      " 15  block_index         380 non-null    float64\n",
      " 16  presentation_index  380 non-null    float64\n",
      " 17  clique_size         380 non-null    float64\n",
      " 18  graph_size          380 non-null    float64\n",
      " 19  graphs_couple       120 non-null    object \n",
      " 20  accuracy            120 non-null    float64\n",
      "dtypes: float64(8), int64(2), object(11)\n",
      "memory usage: 65.3+ KB\n",
      "None\n"
     ]
    }
   ],
   "source": [
    "# isolating experiment trials (\"canvas-keyboard-response\" ones)\n",
    "df1_experiment = df1[df1.trial_type == \"canvas-keyboard-response\"]\n",
    "df1_experiment.head()\n",
    "print(df1_experiment.info())"
   ]
  },
  {
   "cell_type": "code",
   "execution_count": 33,
   "metadata": {},
   "outputs": [
    {
     "name": "stdout",
     "output_type": "stream",
     "text": [
      "<class 'pandas.core.frame.DataFrame'>\n",
      "Int64Index: 380 entries, 46 to 428\n",
      "Data columns (total 11 columns):\n",
      " #   Column              Non-Null Count  Dtype  \n",
      "---  ------              --------------  -----  \n",
      " 0   rt                  380 non-null    float64\n",
      " 1   trial_type          380 non-null    object \n",
      " 2   response            380 non-null    object \n",
      " 3   nodes_order         380 non-null    object \n",
      " 4   correct_response    380 non-null    object \n",
      " 5   block_index         380 non-null    float64\n",
      " 6   presentation_index  380 non-null    float64\n",
      " 7   clique_size         380 non-null    float64\n",
      " 8   graph_size          380 non-null    float64\n",
      " 9   graphs_couple       120 non-null    object \n",
      " 10  accuracy            120 non-null    float64\n",
      "dtypes: float64(6), object(5)\n",
      "memory usage: 35.6+ KB\n",
      "None\n"
     ]
    }
   ],
   "source": [
    "# dropping empty/irrelevant variables:\n",
    "df1_cleaned = df1_experiment.drop([\"view_history\",\"trial_index\", \"time_elapsed\",\"internal_node_id\" ,\"success\", \"timeout\", \"failed_images\", \"failed_audio\", \"failed_video\", \"stimulus\"], axis=1)\n",
    "print(df1_cleaned.info())"
   ]
  },
  {
   "cell_type": "code",
   "execution_count": 34,
   "metadata": {},
   "outputs": [
    {
     "data": {
      "text/html": [
       "<div>\n",
       "<style scoped>\n",
       "    .dataframe tbody tr th:only-of-type {\n",
       "        vertical-align: middle;\n",
       "    }\n",
       "\n",
       "    .dataframe tbody tr th {\n",
       "        vertical-align: top;\n",
       "    }\n",
       "\n",
       "    .dataframe thead th {\n",
       "        text-align: right;\n",
       "    }\n",
       "</style>\n",
       "<table border=\"1\" class=\"dataframe\">\n",
       "  <thead>\n",
       "    <tr style=\"text-align: right;\">\n",
       "      <th></th>\n",
       "      <th>rt</th>\n",
       "      <th>trial_type</th>\n",
       "      <th>response</th>\n",
       "      <th>nodes_order</th>\n",
       "      <th>correct_response</th>\n",
       "      <th>block_index</th>\n",
       "      <th>presentation_index</th>\n",
       "      <th>clique_size</th>\n",
       "      <th>graph_size</th>\n",
       "      <th>graphs_couple</th>\n",
       "      <th>accuracy</th>\n",
       "    </tr>\n",
       "  </thead>\n",
       "  <tbody>\n",
       "    <tr>\n",
       "      <th>424</th>\n",
       "      <td>310.0</td>\n",
       "      <td>canvas-keyboard-response</td>\n",
       "      <td></td>\n",
       "      <td>[13, 34, 226, 12, 71, 154, 240, 196, 106, 72, ...</td>\n",
       "      <td>arrowright</td>\n",
       "      <td>3.0</td>\n",
       "      <td>29.0</td>\n",
       "      <td>12.0</td>\n",
       "      <td>300.0</td>\n",
       "      <td>NaN</td>\n",
       "      <td>NaN</td>\n",
       "    </tr>\n",
       "    <tr>\n",
       "      <th>425</th>\n",
       "      <td>371.0</td>\n",
       "      <td>canvas-keyboard-response</td>\n",
       "      <td></td>\n",
       "      <td>[295, 296, 236, 75, 249, 150, 164, 24, 34, 192...</td>\n",
       "      <td>arrowright</td>\n",
       "      <td>3.0</td>\n",
       "      <td>29.0</td>\n",
       "      <td>12.0</td>\n",
       "      <td>300.0</td>\n",
       "      <td>NaN</td>\n",
       "      <td>NaN</td>\n",
       "    </tr>\n",
       "    <tr>\n",
       "      <th>426</th>\n",
       "      <td>382.0</td>\n",
       "      <td>canvas-keyboard-response</td>\n",
       "      <td></td>\n",
       "      <td>[136, 199, 72, 163, 168, 68, 30, 36, 200, 7, 2...</td>\n",
       "      <td>arrowright</td>\n",
       "      <td>3.0</td>\n",
       "      <td>29.0</td>\n",
       "      <td>12.0</td>\n",
       "      <td>300.0</td>\n",
       "      <td>NaN</td>\n",
       "      <td>NaN</td>\n",
       "    </tr>\n",
       "    <tr>\n",
       "      <th>427</th>\n",
       "      <td>509.0</td>\n",
       "      <td>canvas-keyboard-response</td>\n",
       "      <td></td>\n",
       "      <td>[13, 275, 91, 10, 60, 40, 6, 90, 86, 94, 248, ...</td>\n",
       "      <td>arrowright</td>\n",
       "      <td>3.0</td>\n",
       "      <td>29.0</td>\n",
       "      <td>12.0</td>\n",
       "      <td>300.0</td>\n",
       "      <td>NaN</td>\n",
       "      <td>NaN</td>\n",
       "    </tr>\n",
       "    <tr>\n",
       "      <th>428</th>\n",
       "      <td>873.0</td>\n",
       "      <td>canvas-keyboard-response</td>\n",
       "      <td>arrowright</td>\n",
       "      <td>[151, 14, 253, 65, 225, 183, 298, 126, 26, 76,...</td>\n",
       "      <td>arrowright</td>\n",
       "      <td>3.0</td>\n",
       "      <td>29.0</td>\n",
       "      <td>12.0</td>\n",
       "      <td>300.0</td>\n",
       "      <td>[{'1': [1], '2': [1, 1], '3': [0, 0, 0], '4': ...</td>\n",
       "      <td>1.0</td>\n",
       "    </tr>\n",
       "  </tbody>\n",
       "</table>\n",
       "</div>"
      ],
      "text/plain": [
       "        rt                trial_type    response  \\\n",
       "424  310.0  canvas-keyboard-response               \n",
       "425  371.0  canvas-keyboard-response               \n",
       "426  382.0  canvas-keyboard-response               \n",
       "427  509.0  canvas-keyboard-response               \n",
       "428  873.0  canvas-keyboard-response  arrowright   \n",
       "\n",
       "                                           nodes_order correct_response  \\\n",
       "424  [13, 34, 226, 12, 71, 154, 240, 196, 106, 72, ...       arrowright   \n",
       "425  [295, 296, 236, 75, 249, 150, 164, 24, 34, 192...       arrowright   \n",
       "426  [136, 199, 72, 163, 168, 68, 30, 36, 200, 7, 2...       arrowright   \n",
       "427  [13, 275, 91, 10, 60, 40, 6, 90, 86, 94, 248, ...       arrowright   \n",
       "428  [151, 14, 253, 65, 225, 183, 298, 126, 26, 76,...       arrowright   \n",
       "\n",
       "     block_index  presentation_index  clique_size  graph_size  \\\n",
       "424          3.0                29.0         12.0       300.0   \n",
       "425          3.0                29.0         12.0       300.0   \n",
       "426          3.0                29.0         12.0       300.0   \n",
       "427          3.0                29.0         12.0       300.0   \n",
       "428          3.0                29.0         12.0       300.0   \n",
       "\n",
       "                                         graphs_couple  accuracy  \n",
       "424                                                NaN       NaN  \n",
       "425                                                NaN       NaN  \n",
       "426                                                NaN       NaN  \n",
       "427                                                NaN       NaN  \n",
       "428  [{'1': [1], '2': [1, 1], '3': [0, 0, 0], '4': ...       1.0  "
      ]
     },
     "execution_count": 34,
     "metadata": {},
     "output_type": "execute_result"
    }
   ],
   "source": [
    "# visualizing the data\n",
    "df1_cleaned.tail()"
   ]
  },
  {
   "cell_type": "code",
   "execution_count": 35,
   "metadata": {},
   "outputs": [
    {
     "data": {
      "text/plain": [
       "(380, 11)"
      ]
     },
     "execution_count": 35,
     "metadata": {},
     "output_type": "execute_result"
    }
   ],
   "source": [
    "# checking size:\n",
    "df1_cleaned.shape"
   ]
  },
  {
   "cell_type": "code",
   "execution_count": 39,
   "metadata": {},
   "outputs": [
    {
     "name": "stdout",
     "output_type": "stream",
     "text": [
      "(120, 11)\n"
     ]
    },
    {
     "data": {
      "text/plain": [
       "175.0    8\n",
       "163.0    8\n",
       "152.0    8\n",
       "140.0    8\n",
       "128.0    8\n",
       "117.0    8\n",
       "105.0    8\n",
       "93.0     8\n",
       "82.0     8\n",
       "70.0     8\n",
       "58.0     8\n",
       "47.0     8\n",
       "35.0     8\n",
       "23.0     8\n",
       "12.0     8\n",
       "Name: clique_size, dtype: int64"
      ]
     },
     "execution_count": 39,
     "metadata": {},
     "output_type": "execute_result"
    }
   ],
   "source": [
    "# isolating trials were final responses were given:\n",
    "df1_cleaned_final_answers = df1_cleaned[df1_cleaned['response'].isin(['arrowright','arrowleft'])]\n",
    "print(df1_cleaned_final_answers.shape)     #final responses should be 120 (30 for each one of the 4 blocks)\n",
    "# counting the final answers for each clique size\n",
    "df1_cleaned_final_answers['clique_size'].value_counts()  #the clique sizes should be 15, and there should be 8 trials for each clique size"
   ]
  },
  {
   "attachments": {},
   "cell_type": "markdown",
   "metadata": {},
   "source": [
    "(TO ADAPT FROM NOW ON STARTING FROM THE CODE ABOVE)"
   ]
  },
  {
   "attachments": {},
   "cell_type": "markdown",
   "metadata": {},
   "source": [
    "Importing all the stored json files, combining them in a single dataframe and removing irrelvant variables:"
   ]
  },
  {
   "cell_type": "code",
   "execution_count": 4,
   "metadata": {},
   "outputs": [
    {
     "name": "stdout",
     "output_type": "stream",
     "text": [
      "(395, 18)\n",
      "['view_history', 'rt', 'trial_type', 'trial_index', 'time_elapsed', 'internal_node_id', 'success', 'timeout', 'failed_images', 'failed_audio', 'failed_video', 'stimulus', 'response', 'nodesOrdering', 'cliqueSize', 'correctResponse', 'presentationNumber', 'correctnessOfResponse']\n"
     ]
    }
   ],
   "source": [
    "from pathlib import Path\n",
    "\n",
    "# creating empty dataframe:\n",
    "data = pd.DataFrame()\n",
    "# accessing all json files in 'data' directory:\n",
    "files = Path('C:/Users/danie/OneDrive/Desktop/HUPLACLIP/data_analysis/json/data/N300_K200').glob('*.json')\n",
    "for file in files:\n",
    "    # reading single csv file as dataframe\n",
    "    df = pd.read_json(file)\n",
    "    # adding single dataframe to general dataframe:\n",
    "    data = pd.concat([data,df])\n",
    "\n",
    "# checking dimension of data and printing the names of the variables:\n",
    "print(data.shape)\n",
    "print(data.columns.tolist())\n",
    "\n",
    "data.drop([\"view_history\",\"internal_node_id\", \"trial_index\", \"failed_images\", \"failed_audio\", \"failed_video\", \"timeout\", \"success\", \"time_elapsed\"], axis=1, inplace=True)"
   ]
  },
  {
   "attachments": {},
   "cell_type": "markdown",
   "metadata": {},
   "source": [
    "Isolating trials of real experiment (\"canvas-keyboard-response\" trials)"
   ]
  },
  {
   "cell_type": "code",
   "execution_count": 5,
   "metadata": {},
   "outputs": [
    {
     "data": {
      "text/html": [
       "<div>\n",
       "<style scoped>\n",
       "    .dataframe tbody tr th:only-of-type {\n",
       "        vertical-align: middle;\n",
       "    }\n",
       "\n",
       "    .dataframe tbody tr th {\n",
       "        vertical-align: top;\n",
       "    }\n",
       "\n",
       "    .dataframe thead th {\n",
       "        text-align: right;\n",
       "    }\n",
       "</style>\n",
       "<table border=\"1\" class=\"dataframe\">\n",
       "  <thead>\n",
       "    <tr style=\"text-align: right;\">\n",
       "      <th></th>\n",
       "      <th>rt</th>\n",
       "      <th>trial_type</th>\n",
       "      <th>stimulus</th>\n",
       "      <th>response</th>\n",
       "      <th>nodesOrdering</th>\n",
       "      <th>cliqueSize</th>\n",
       "      <th>correctResponse</th>\n",
       "      <th>presentationNumber</th>\n",
       "      <th>correctnessOfResponse</th>\n",
       "    </tr>\n",
       "  </thead>\n",
       "  <tbody>\n",
       "    <tr>\n",
       "      <th>46</th>\n",
       "      <td>992.0</td>\n",
       "      <td>canvas-keyboard-response</td>\n",
       "      <td>NaN</td>\n",
       "      <td></td>\n",
       "      <td>[52, 71, 197, 38, 183, 83, 217, 205, 296, 186,...</td>\n",
       "      <td>200.0</td>\n",
       "      <td>arrowright</td>\n",
       "      <td>0.0</td>\n",
       "      <td>NaN</td>\n",
       "    </tr>\n",
       "    <tr>\n",
       "      <th>47</th>\n",
       "      <td>700.0</td>\n",
       "      <td>canvas-keyboard-response</td>\n",
       "      <td>NaN</td>\n",
       "      <td></td>\n",
       "      <td>[242, 4, 111, 247, 218, 160, 186, 58, 266, 51,...</td>\n",
       "      <td>200.0</td>\n",
       "      <td>arrowright</td>\n",
       "      <td>0.0</td>\n",
       "      <td>NaN</td>\n",
       "    </tr>\n",
       "    <tr>\n",
       "      <th>48</th>\n",
       "      <td>552.0</td>\n",
       "      <td>canvas-keyboard-response</td>\n",
       "      <td>NaN</td>\n",
       "      <td>arrowright</td>\n",
       "      <td>[33, 178, 50, 69, 35, 262, 42, 173, 144, 60, 2...</td>\n",
       "      <td>200.0</td>\n",
       "      <td>arrowright</td>\n",
       "      <td>0.0</td>\n",
       "      <td>1.0</td>\n",
       "    </tr>\n",
       "    <tr>\n",
       "      <th>49</th>\n",
       "      <td>770.0</td>\n",
       "      <td>canvas-keyboard-response</td>\n",
       "      <td>NaN</td>\n",
       "      <td></td>\n",
       "      <td>[293, 271, 200, 161, 205, 93, 130, 14, 170, 67...</td>\n",
       "      <td>190.0</td>\n",
       "      <td>arrowright</td>\n",
       "      <td>1.0</td>\n",
       "      <td>NaN</td>\n",
       "    </tr>\n",
       "    <tr>\n",
       "      <th>50</th>\n",
       "      <td>456.0</td>\n",
       "      <td>canvas-keyboard-response</td>\n",
       "      <td>NaN</td>\n",
       "      <td>arrowright</td>\n",
       "      <td>[150, 137, 93, 250, 219, 50, 288, 169, 284, 85...</td>\n",
       "      <td>190.0</td>\n",
       "      <td>arrowright</td>\n",
       "      <td>1.0</td>\n",
       "      <td>1.0</td>\n",
       "    </tr>\n",
       "  </tbody>\n",
       "</table>\n",
       "</div>"
      ],
      "text/plain": [
       "       rt                trial_type stimulus    response  \\\n",
       "46  992.0  canvas-keyboard-response      NaN               \n",
       "47  700.0  canvas-keyboard-response      NaN               \n",
       "48  552.0  canvas-keyboard-response      NaN  arrowright   \n",
       "49  770.0  canvas-keyboard-response      NaN               \n",
       "50  456.0  canvas-keyboard-response      NaN  arrowright   \n",
       "\n",
       "                                        nodesOrdering  cliqueSize  \\\n",
       "46  [52, 71, 197, 38, 183, 83, 217, 205, 296, 186,...       200.0   \n",
       "47  [242, 4, 111, 247, 218, 160, 186, 58, 266, 51,...       200.0   \n",
       "48  [33, 178, 50, 69, 35, 262, 42, 173, 144, 60, 2...       200.0   \n",
       "49  [293, 271, 200, 161, 205, 93, 130, 14, 170, 67...       190.0   \n",
       "50  [150, 137, 93, 250, 219, 50, 288, 169, 284, 85...       190.0   \n",
       "\n",
       "   correctResponse  presentationNumber  correctnessOfResponse  \n",
       "46      arrowright                 0.0                    NaN  \n",
       "47      arrowright                 0.0                    NaN  \n",
       "48      arrowright                 0.0                    1.0  \n",
       "49      arrowright                 1.0                    NaN  \n",
       "50      arrowright                 1.0                    1.0  "
      ]
     },
     "execution_count": 5,
     "metadata": {},
     "output_type": "execute_result"
    }
   ],
   "source": [
    "data_experiment = data[data.trial_type == \"canvas-keyboard-response\"]\n",
    "data_experiment.head()"
   ]
  },
  {
   "attachments": {},
   "cell_type": "markdown",
   "metadata": {},
   "source": [
    "- Accuracy:"
   ]
  },
  {
   "cell_type": "code",
   "execution_count": 6,
   "metadata": {},
   "outputs": [
    {
     "name": "stdout",
     "output_type": "stream",
     "text": [
      "0.825\n",
      "[200. 190. 180. 170. 160. 150. 140. 130. 120. 110. 100.  90.  80.  70.\n",
      "  60.  50.  40.  30.  20.  10.]\n"
     ]
    },
    {
     "data": {
      "image/png": "[encoded data removed]",
      "text/plain": [
       "<Figure size 640x480 with 1 Axes>"
      ]
     },
     "metadata": {},
     "output_type": "display_data"
    }
   ],
   "source": [
    "# 1. overall accuracy ( # correct answers / # final answers )\n",
    "overall_accuracy = sum(data_experiment.correctnessOfResponse == 1) / sum(~ data_experiment.correctnessOfResponse.isna())\n",
    "print(overall_accuracy)\n",
    "\n",
    "# 2. calculating accuracy for the levels of \"cliqueSize\"\n",
    "# - obtaining levels of \"cliqueSize\" (this should match with experiment parameters)\n",
    "print(data_experiment.cliqueSize.unique())\n",
    "# - calculating accuracy for the different levels of \"cliqueSize\"\n",
    "accuracy_dict = dict()\n",
    "for i in data_experiment.cliqueSize.unique():\n",
    "    # isolating data of current clique size:\n",
    "    current_data = data_experiment[data_experiment.cliqueSize == i]\n",
    "    accuracy_current_cliqueSize = sum(current_data.correctnessOfResponse == 1) / sum(~ current_data.correctnessOfResponse.isna())\n",
    "    accuracy_dict[str(round(i))] = accuracy_current_cliqueSize\n",
    "# plotting the results:\n",
    "x_values = accuracy_dict.keys()\n",
    "y_values = accuracy_dict.values()\n",
    "plt.plot(x_values,y_values)\n",
    "plt.xlabel(\"clique size in graph of 300 nodes\")\n",
    "plt.ylabel(\"accuracy\")\n",
    "plt.tick_params(axis='x', which='major', labelsize=7)"
   ]
  },
  {
   "attachments": {},
   "cell_type": "markdown",
   "metadata": {},
   "source": [
    "- Number of shuffles:"
   ]
  },
  {
   "cell_type": "code",
   "execution_count": 7,
   "metadata": {},
   "outputs": [],
   "source": [
    "# 1. average number of shuffles\n",
    "# 2. calculating number of shuffles for the levels of \"cliqueSize\"  (plotting the results)\n",
    "# note: if number of shuffles increases as a function of \"cliqueSize\", it could be helping subjects for difficult instances of the task"
   ]
  },
  {
   "attachments": {},
   "cell_type": "markdown",
   "metadata": {},
   "source": [
    "- Reaction times:"
   ]
  },
  {
   "cell_type": "code",
   "execution_count": 8,
   "metadata": {},
   "outputs": [
    {
     "name": "stdout",
     "output_type": "stream",
     "text": [
      "False    391\n",
      "True       4\n",
      "Name: rt, dtype: int64\n"
     ]
    },
    {
     "data": {
      "image/png": "[encoded data removed]",
      "text/plain": [
       "<Figure size 640x480 with 1 Axes>"
      ]
     },
     "metadata": {},
     "output_type": "display_data"
    },
    {
     "data": {
      "image/png": "[encoded data removed]",
      "text/plain": [
       "<Figure size 640x480 with 2 Axes>"
      ]
     },
     "metadata": {},
     "output_type": "display_data"
    }
   ],
   "source": [
    "# 1. average RT (for all trials, both final responses and shuffles)\n",
    "# 2. RT as a function of \"cliqueSize\"\n",
    "# note: if reaction time increases as a function of \"cliqueSize\", it could be an indication of increasing difficulty\n",
    "\n",
    "###########################################################\n",
    "\n",
    "\n",
    "# histogram of reaction times distribution (TO REVIEW):\n",
    "data.rt.hist(bins=100)\n",
    "# counting trials that were too slow and removing them (exclusion criterion: rt>7500)\n",
    "print((data.rt>=7500).value_counts())\n",
    "data_filtered = data.query('rt < 7500')\n",
    "\n",
    "#plotting unfiltered and filtered data:\n",
    "fig, (ax1,ax2) = plt.subplots(1, 2,sharex=True)\n",
    "min_ylim, max_ylim = plt.ylim()\n",
    "#unfiltered data\n",
    "ax1.hist(data.rt,bins=100)\n",
    "ax1.axvline(data.rt.mean(), color='k', linestyle='dashed', linewidth=1)\n",
    "ax1.text(data.rt.mean()*1.1,max_ylim*0.9, 'Mean: {:.2f}'.format(data.rt.mean()))\n",
    "ax1.set_title(\"RTs of Unfiltered data\")\n",
    "#filtered data\n",
    "ax2.hist(data_filtered.rt,bins=100)\n",
    "ax2.axvline(data_filtered.rt.mean(), color='k', linestyle='dashed', linewidth=1)\n",
    "ax2.text(data_filtered.rt.mean()*1.1,max_ylim*0.9, 'Mean: {:.2f}'.format(data_filtered.rt.mean()))\n",
    "ax2.set_title(\"RTs of Filtered data\")\n",
    "plt.show()"
   ]
  }
 ],
 "metadata": {
  "kernelspec": {
   "display_name": "Python 3",
   "language": "python",
   "name": "python3"
  },
  "language_info": {
   "codemirror_mode": {
    "name": "ipython",
    "version": 3
   },
   "file_extension": ".py",
   "mimetype": "text/x-python",
   "name": "python",
   "nbconvert_exporter": "python",
   "pygments_lexer": "ipython3",
   "version": "3.10.11"
  },
  "orig_nbformat": 4,
  "vscode": {
   "interpreter": {
    "hash": "2bf4de0ff22098ac7e3c49548bdd81cde03d0920bc2c90f4bd7508ddd9bf976b"
   }
  }
 },
 "nbformat": 4,
 "nbformat_minor": 2
}
