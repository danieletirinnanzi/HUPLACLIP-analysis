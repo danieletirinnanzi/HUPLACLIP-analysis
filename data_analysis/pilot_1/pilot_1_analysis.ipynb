{
 "cells": [
  {
   "attachments": {},
   "cell_type": "markdown",
   "metadata": {},
   "source": [
    "EXPLANATION OF OUTPUT VARIABLES (the relevant trials are the \"canvas-keyboard-response\" ones):\n",
    "\n",
    "Experiment flow:\n",
    "- *block_index* -> index of the block (NB: starts from zero)\n",
    "- *presentation_index* -> index of the presentation inside one block (NB: starts from zero)\n",
    "\n",
    "Experiment parameters:\n",
    "- *clique_size* -> size of the clique in one of the two displayed graphs\n",
    "- *graphs_size* -> size of the displayed graphs \n",
    "- *graphs_couple* -> couple of graphs shown in current trial\n",
    "- *nodes_order* -> order of the nodes in current trial\n",
    "\n",
    "Dependent variables:\n",
    "- *rt* -> response time in ms (collected automatically)\n",
    "- *response* -> in this experiment, the accepted keys are \" \"; \"arrowright\" or \"arrowleft\"\n",
    "- *accuracy* -> this variable is manually computed and added only to the trials where response was arrowright or arrowleft\n",
    "\n",
    "Comparison variables:\n",
    "- *correct_response* -> correct response for current trial\n",
    "\n",
    "Produced automatically / not relevant:\n",
    "\n",
    "For all trials:\n",
    "- *trial_type* -> the name of the plugin used to run the trial (the real trials of the experiment are \"canvas-keyboard-response\")\n",
    "- *trial_index* -> the index of the current trial across the whole experiment (it is a global counter of trials, it also includes instructions and tutorial ones)\n",
    "- *time_elapsed* -> the number of milliseconds between the start of the experiment and when the trial ended\n",
    "- *internal_node_id* -> string identifier for the current TimelineNode\n",
    "\n",
    "For preload plugin:\n",
    "- *success*\t-> if true, then all files loaded successfully within the max_load_time. If false, then one or more file requests returned a failure and/or the file loading did not complete within the max_load_time duration.\n",
    "- *timeout* -> \tif true, then the files did not finish loading within the max_load_time duration. If false, then the file loading did not timeout.\n",
    "- *failed_images* -> one or more image file paths that produced a loading failure before the trial ended.\n",
    "- *failed_audio* -> one or more audio file paths that produced a loading failure before the trial ended.\n",
    "- *failed_video* -> one or more video file paths that produced a loading failure before the trial ended.\n",
    "\n",
    "For instructions plugin:\n",
    "- *rt* -> the response time (in ms) for the subject to view all of the pages\n",
    "- *view_history* -> array containing the order of pages the subject viewed (collected only for \"instructions\" plugin)\n",
    "\n",
    "For image-keyboard-response plugin:\n",
    "- *stimulus* -> the path of the image that was displayed.\n",
    "\n"
   ]
  },
  {
   "attachments": {},
   "cell_type": "markdown",
   "metadata": {},
   "source": [
    "------------------------------------------------------------------------------------------------------------"
   ]
  },
  {
   "attachments": {},
   "cell_type": "markdown",
   "metadata": {},
   "source": [
    "Importing packages:"
   ]
  },
  {
   "cell_type": "code",
   "execution_count": 1,
   "metadata": {},
   "outputs": [],
   "source": [
    "import pandas as pd\n",
    "import numpy as np\n",
    "import math\n",
    "from matplotlib import pyplot as plt\n",
    "from pathlib import Path"
   ]
  },
  {
   "attachments": {},
   "cell_type": "markdown",
   "metadata": {},
   "source": [
    "Importing and \"cleaning\" a single experiment csv file:"
   ]
  },
  {
   "cell_type": "code",
   "execution_count": 3,
   "metadata": {},
   "outputs": [
    {
     "name": "stdout",
     "output_type": "stream",
     "text": [
      "(565, 21)\n",
      "<class 'pandas.core.frame.DataFrame'>\n",
      "RangeIndex: 565 entries, 0 to 564\n",
      "Data columns (total 21 columns):\n",
      " #   Column              Non-Null Count  Dtype  \n",
      "---  ------              --------------  -----  \n",
      " 0   trial_type          565 non-null    object \n",
      " 1   trial_index         565 non-null    int64  \n",
      " 2   time_elapsed        565 non-null    int64  \n",
      " 3   internal_node_id    565 non-null    object \n",
      " 4   view_history        8 non-null      object \n",
      " 5   rt                  561 non-null    float64\n",
      " 6   success             3 non-null      object \n",
      " 7   timeout             3 non-null      object \n",
      " 8   failed_images       3 non-null      object \n",
      " 9   failed_audio        3 non-null      object \n",
      " 10  failed_video        3 non-null      object \n",
      " 11  stimulus            39 non-null     object \n",
      " 12  response            553 non-null    object \n",
      " 13  nodes_order         514 non-null    object \n",
      " 14  correct_response    514 non-null    object \n",
      " 15  graphs_couple       120 non-null    object \n",
      " 16  accuracy            120 non-null    object \n",
      " 17  block_index         514 non-null    float64\n",
      " 18  presentation_index  514 non-null    float64\n",
      " 19  clique_size         514 non-null    float64\n",
      " 20  graph_size          514 non-null    float64\n",
      "dtypes: float64(5), int64(2), object(14)\n",
      "memory usage: 92.8+ KB\n",
      "None\n"
     ]
    }
   ],
   "source": [
    "file1Path = Path('C:/Users/danie/OneDrive/Desktop/HUPLACLIP-analysis/data_analysis/pilot_1/data/HUPLACLIP_pilot_subj4_2023-04-26_16h14.35.530.csv')\n",
    "df1 = pd.read_csv(file1Path)\n",
    "print(df1.shape)\n",
    "print(df1.info())"
   ]
  },
  {
   "cell_type": "code",
   "execution_count": 4,
   "metadata": {},
   "outputs": [
    {
     "name": "stdout",
     "output_type": "stream",
     "text": [
      "<class 'pandas.core.frame.DataFrame'>\n",
      "Int64Index: 514 entries, 47 to 563\n",
      "Data columns (total 21 columns):\n",
      " #   Column              Non-Null Count  Dtype  \n",
      "---  ------              --------------  -----  \n",
      " 0   trial_type          514 non-null    object \n",
      " 1   trial_index         514 non-null    int64  \n",
      " 2   time_elapsed        514 non-null    int64  \n",
      " 3   internal_node_id    514 non-null    object \n",
      " 4   view_history        0 non-null      object \n",
      " 5   rt                  514 non-null    float64\n",
      " 6   success             0 non-null      object \n",
      " 7   timeout             0 non-null      object \n",
      " 8   failed_images       0 non-null      object \n",
      " 9   failed_audio        0 non-null      object \n",
      " 10  failed_video        0 non-null      object \n",
      " 11  stimulus            0 non-null      object \n",
      " 12  response            514 non-null    object \n",
      " 13  nodes_order         514 non-null    object \n",
      " 14  correct_response    514 non-null    object \n",
      " 15  graphs_couple       120 non-null    object \n",
      " 16  accuracy            120 non-null    object \n",
      " 17  block_index         514 non-null    float64\n",
      " 18  presentation_index  514 non-null    float64\n",
      " 19  clique_size         514 non-null    float64\n",
      " 20  graph_size          514 non-null    float64\n",
      "dtypes: float64(5), int64(2), object(14)\n",
      "memory usage: 88.3+ KB\n",
      "None\n"
     ]
    }
   ],
   "source": [
    "# isolating experiment trials (\"canvas-keyboard-response\" ones)\n",
    "df1_experiment = df1[df1.trial_type == \"canvas-keyboard-response\"]\n",
    "df1_experiment.head()\n",
    "print(df1_experiment.info())"
   ]
  },
  {
   "cell_type": "code",
   "execution_count": 5,
   "metadata": {},
   "outputs": [
    {
     "name": "stdout",
     "output_type": "stream",
     "text": [
      "<class 'pandas.core.frame.DataFrame'>\n",
      "Int64Index: 514 entries, 47 to 563\n",
      "Data columns (total 11 columns):\n",
      " #   Column              Non-Null Count  Dtype  \n",
      "---  ------              --------------  -----  \n",
      " 0   trial_type          514 non-null    object \n",
      " 1   rt                  514 non-null    float64\n",
      " 2   response            514 non-null    object \n",
      " 3   nodes_order         514 non-null    object \n",
      " 4   correct_response    514 non-null    object \n",
      " 5   graphs_couple       120 non-null    object \n",
      " 6   accuracy            120 non-null    object \n",
      " 7   block_index         514 non-null    float64\n",
      " 8   presentation_index  514 non-null    float64\n",
      " 9   clique_size         514 non-null    float64\n",
      " 10  graph_size          514 non-null    float64\n",
      "dtypes: float64(5), object(6)\n",
      "memory usage: 48.2+ KB\n",
      "None\n"
     ]
    }
   ],
   "source": [
    "# dropping empty/irrelevant variables:\n",
    "df1_cleaned = df1_experiment.drop([\"view_history\",\"trial_index\", \"time_elapsed\",\"internal_node_id\" ,\"success\", \"timeout\", \"failed_images\", \"failed_audio\", \"failed_video\", \"stimulus\"], axis=1)\n",
    "print(df1_cleaned.info())"
   ]
  },
  {
   "cell_type": "code",
   "execution_count": 6,
   "metadata": {},
   "outputs": [
    {
     "data": {
      "text/html": [
       "<div>\n",
       "<style scoped>\n",
       "    .dataframe tbody tr th:only-of-type {\n",
       "        vertical-align: middle;\n",
       "    }\n",
       "\n",
       "    .dataframe tbody tr th {\n",
       "        vertical-align: top;\n",
       "    }\n",
       "\n",
       "    .dataframe thead th {\n",
       "        text-align: right;\n",
       "    }\n",
       "</style>\n",
       "<table border=\"1\" class=\"dataframe\">\n",
       "  <thead>\n",
       "    <tr style=\"text-align: right;\">\n",
       "      <th></th>\n",
       "      <th>trial_type</th>\n",
       "      <th>rt</th>\n",
       "      <th>response</th>\n",
       "      <th>nodes_order</th>\n",
       "      <th>correct_response</th>\n",
       "      <th>graphs_couple</th>\n",
       "      <th>accuracy</th>\n",
       "      <th>block_index</th>\n",
       "      <th>presentation_index</th>\n",
       "      <th>clique_size</th>\n",
       "      <th>graph_size</th>\n",
       "    </tr>\n",
       "  </thead>\n",
       "  <tbody>\n",
       "    <tr>\n",
       "      <th>559</th>\n",
       "      <td>canvas-keyboard-response</td>\n",
       "      <td>2142.0</td>\n",
       "      <td>arrowleft</td>\n",
       "      <td>[154,37,93,144,46,295,212,147,297,91,113,31,20...</td>\n",
       "      <td>arrowleft</td>\n",
       "      <td>[{\"1\":[1],\"2\":[1,1],\"3\":[1,1,1],\"4\":[1,1,1,0],...</td>\n",
       "      <td>True</td>\n",
       "      <td>3.0</td>\n",
       "      <td>28.0</td>\n",
       "      <td>12.0</td>\n",
       "      <td>300.0</td>\n",
       "    </tr>\n",
       "    <tr>\n",
       "      <th>560</th>\n",
       "      <td>canvas-keyboard-response</td>\n",
       "      <td>1644.0</td>\n",
       "      <td></td>\n",
       "      <td>[134,222,286,121,267,258,142,48,69,46,261,115,...</td>\n",
       "      <td>arrowleft</td>\n",
       "      <td>NaN</td>\n",
       "      <td>NaN</td>\n",
       "      <td>3.0</td>\n",
       "      <td>29.0</td>\n",
       "      <td>12.0</td>\n",
       "      <td>300.0</td>\n",
       "    </tr>\n",
       "    <tr>\n",
       "      <th>561</th>\n",
       "      <td>canvas-keyboard-response</td>\n",
       "      <td>1737.0</td>\n",
       "      <td></td>\n",
       "      <td>[237,213,182,107,156,247,66,127,288,155,192,8,...</td>\n",
       "      <td>arrowleft</td>\n",
       "      <td>NaN</td>\n",
       "      <td>NaN</td>\n",
       "      <td>3.0</td>\n",
       "      <td>29.0</td>\n",
       "      <td>12.0</td>\n",
       "      <td>300.0</td>\n",
       "    </tr>\n",
       "    <tr>\n",
       "      <th>562</th>\n",
       "      <td>canvas-keyboard-response</td>\n",
       "      <td>1080.0</td>\n",
       "      <td></td>\n",
       "      <td>[140,170,55,210,219,141,270,49,272,245,96,157,...</td>\n",
       "      <td>arrowleft</td>\n",
       "      <td>NaN</td>\n",
       "      <td>NaN</td>\n",
       "      <td>3.0</td>\n",
       "      <td>29.0</td>\n",
       "      <td>12.0</td>\n",
       "      <td>300.0</td>\n",
       "    </tr>\n",
       "    <tr>\n",
       "      <th>563</th>\n",
       "      <td>canvas-keyboard-response</td>\n",
       "      <td>518.0</td>\n",
       "      <td>arrowright</td>\n",
       "      <td>[262,34,131,106,2,250,161,294,208,249,285,224,...</td>\n",
       "      <td>arrowleft</td>\n",
       "      <td>[{\"1\":[0],\"2\":[0,0],\"3\":[0,1,1],\"4\":[0,0,0,0],...</td>\n",
       "      <td>False</td>\n",
       "      <td>3.0</td>\n",
       "      <td>29.0</td>\n",
       "      <td>12.0</td>\n",
       "      <td>300.0</td>\n",
       "    </tr>\n",
       "  </tbody>\n",
       "</table>\n",
       "</div>"
      ],
      "text/plain": [
       "                   trial_type      rt    response  \\\n",
       "559  canvas-keyboard-response  2142.0   arrowleft   \n",
       "560  canvas-keyboard-response  1644.0               \n",
       "561  canvas-keyboard-response  1737.0               \n",
       "562  canvas-keyboard-response  1080.0               \n",
       "563  canvas-keyboard-response   518.0  arrowright   \n",
       "\n",
       "                                           nodes_order correct_response  \\\n",
       "559  [154,37,93,144,46,295,212,147,297,91,113,31,20...        arrowleft   \n",
       "560  [134,222,286,121,267,258,142,48,69,46,261,115,...        arrowleft   \n",
       "561  [237,213,182,107,156,247,66,127,288,155,192,8,...        arrowleft   \n",
       "562  [140,170,55,210,219,141,270,49,272,245,96,157,...        arrowleft   \n",
       "563  [262,34,131,106,2,250,161,294,208,249,285,224,...        arrowleft   \n",
       "\n",
       "                                         graphs_couple accuracy  block_index  \\\n",
       "559  [{\"1\":[1],\"2\":[1,1],\"3\":[1,1,1],\"4\":[1,1,1,0],...     True          3.0   \n",
       "560                                                NaN      NaN          3.0   \n",
       "561                                                NaN      NaN          3.0   \n",
       "562                                                NaN      NaN          3.0   \n",
       "563  [{\"1\":[0],\"2\":[0,0],\"3\":[0,1,1],\"4\":[0,0,0,0],...    False          3.0   \n",
       "\n",
       "     presentation_index  clique_size  graph_size  \n",
       "559                28.0         12.0       300.0  \n",
       "560                29.0         12.0       300.0  \n",
       "561                29.0         12.0       300.0  \n",
       "562                29.0         12.0       300.0  \n",
       "563                29.0         12.0       300.0  "
      ]
     },
     "execution_count": 6,
     "metadata": {},
     "output_type": "execute_result"
    }
   ],
   "source": [
    "# visualizing the data\n",
    "df1_cleaned.tail()"
   ]
  },
  {
   "cell_type": "code",
   "execution_count": 7,
   "metadata": {},
   "outputs": [
    {
     "data": {
      "text/plain": [
       "(514, 11)"
      ]
     },
     "execution_count": 7,
     "metadata": {},
     "output_type": "execute_result"
    }
   ],
   "source": [
    "# checking size:\n",
    "df1_cleaned.shape"
   ]
  },
  {
   "cell_type": "code",
   "execution_count": 8,
   "metadata": {},
   "outputs": [
    {
     "name": "stdout",
     "output_type": "stream",
     "text": [
      "(120, 11)\n"
     ]
    },
    {
     "data": {
      "text/plain": [
       "175.0    8\n",
       "163.0    8\n",
       "152.0    8\n",
       "140.0    8\n",
       "128.0    8\n",
       "117.0    8\n",
       "105.0    8\n",
       "93.0     8\n",
       "82.0     8\n",
       "70.0     8\n",
       "58.0     8\n",
       "47.0     8\n",
       "35.0     8\n",
       "23.0     8\n",
       "12.0     8\n",
       "Name: clique_size, dtype: int64"
      ]
     },
     "execution_count": 8,
     "metadata": {},
     "output_type": "execute_result"
    }
   ],
   "source": [
    "# isolating trials were final responses were given (shuffles have \" \" as response):\n",
    "df1_cleaned_final_answers = df1_cleaned[df1_cleaned['response'].isin(['arrowright','arrowleft'])]\n",
    "print(df1_cleaned_final_answers.shape)     #final responses should be 120 (30 for each one of the 4 blocks)\n",
    "# counting the final answers for each clique size\n",
    "df1_cleaned_final_answers['clique_size'].value_counts()  #the clique sizes should be 15, and there should be 8 trials for each clique size"
   ]
  },
  {
   "cell_type": "code",
   "execution_count": 11,
   "metadata": {},
   "outputs": [
    {
     "data": {
      "text/plain": [
       "Text(0.5, 1.0, 'sample size = 1')"
      ]
     },
     "execution_count": 11,
     "metadata": {},
     "output_type": "execute_result"
    },
    {
     "data": {
      "image/png": "[encoded data removed]",
      "text/plain": [
       "<Figure size 640x480 with 1 Axes>"
      ]
     },
     "metadata": {},
     "output_type": "display_data"
    }
   ],
   "source": [
    "# plotting fraction correct as a function of \"clique_size\"\n",
    "# - calculating accuracy for the different levels of \"clique_size\"\n",
    "fraction_correct_dict = dict()\n",
    "# reversing the order of clique_size array:\n",
    "reversed_clique_size_array = df1_cleaned_final_answers.clique_size.unique()[::-1]\n",
    "for i in reversed_clique_size_array:\n",
    "    # isolating data of current clique size:\n",
    "    current_data = df1_cleaned_final_answers[df1_cleaned_final_answers.clique_size == i]\n",
    "    # calculating fraction correct for current clique size\n",
    "    fraction_correct_current_clique_size = sum(current_data.accuracy == True) / sum(~ current_data.accuracy.isna())\n",
    "    # adding to the dictionary\n",
    "    fraction_correct_dict[str(round(i))] = fraction_correct_current_clique_size\n",
    "    \n",
    "    # #DEBUG:\n",
    "    # print(\"clique size:\")\n",
    "    # print(i)\n",
    "    # print(\"fraction correct:\")\n",
    "    # print(fraction_correct_current_clique_size)\n",
    "    # print(current_data.accuracy)\n",
    "    \n",
    "# plotting the results:\n",
    "# - obtaining appropriate x and y values:\n",
    "x_values = list(fraction_correct_dict.keys())\n",
    "x_values = [int(x_value)/(math.sqrt(300))  for x_value in x_values]\n",
    "y_values = list(fraction_correct_dict.values())\n",
    "y_values = [y_value * 100 for y_value in y_values]\n",
    "# - drawing plot:\n",
    "plt.plot(x_values,y_values)\n",
    "plt.xlabel(\"k/sqrt(300)\")\n",
    "plt.ylabel(\"% of correct responses\")\n",
    "# plotting chance level line and adding legend\n",
    "plt.axhline(y = 50, color = 'r', linestyle = 'dashed', label = \"chance level\")\n",
    "plt.legend(loc = 'lower right')\n",
    "plt.suptitle(\"Accuracy as a function of K/sqrt(300)\", fontsize = 15)\n",
    "plt.title(\"sample size = 1\", fontstyle= \"italic\")"
   ]
  },
  {
   "attachments": {},
   "cell_type": "markdown",
   "metadata": {},
   "source": [
    "Importing multiple csv files, combining them in a single dataframe and removing irrelvant variables:"
   ]
  },
  {
   "cell_type": "code",
   "execution_count": 12,
   "metadata": {},
   "outputs": [
    {
     "name": "stdout",
     "output_type": "stream",
     "text": [
      "(1868, 21)\n",
      "['trial_type', 'trial_index', 'time_elapsed', 'internal_node_id', 'view_history', 'rt', 'success', 'timeout', 'failed_images', 'failed_audio', 'failed_video', 'stimulus', 'response', 'nodes_order', 'correct_response', 'graphs_couple', 'accuracy', 'block_index', 'presentation_index', 'clique_size', 'graph_size']\n",
      "(1562, 11)\n"
     ]
    },
    {
     "name": "stderr",
     "output_type": "stream",
     "text": [
      "C:\\Users\\danie\\AppData\\Local\\Temp\\ipykernel_11336\\818132131.py:22: SettingWithCopyWarning: \n",
      "A value is trying to be set on a copy of a slice from a DataFrame\n",
      "\n",
      "See the caveats in the documentation: https://pandas.pydata.org/pandas-docs/stable/user_guide/indexing.html#returning-a-view-versus-a-copy\n",
      "  data_experiment.drop([\"view_history\",\"trial_index\", \"time_elapsed\",\"internal_node_id\" ,\"success\", \"timeout\", \"failed_images\", \"failed_audio\", \"failed_video\", \"stimulus\"], axis=1, inplace=True)\n"
     ]
    },
    {
     "data": {
      "text/html": [
       "<div>\n",
       "<style scoped>\n",
       "    .dataframe tbody tr th:only-of-type {\n",
       "        vertical-align: middle;\n",
       "    }\n",
       "\n",
       "    .dataframe tbody tr th {\n",
       "        vertical-align: top;\n",
       "    }\n",
       "\n",
       "    .dataframe thead th {\n",
       "        text-align: right;\n",
       "    }\n",
       "</style>\n",
       "<table border=\"1\" class=\"dataframe\">\n",
       "  <thead>\n",
       "    <tr style=\"text-align: right;\">\n",
       "      <th></th>\n",
       "      <th>trial_type</th>\n",
       "      <th>rt</th>\n",
       "      <th>response</th>\n",
       "      <th>nodes_order</th>\n",
       "      <th>correct_response</th>\n",
       "      <th>graphs_couple</th>\n",
       "      <th>accuracy</th>\n",
       "      <th>block_index</th>\n",
       "      <th>presentation_index</th>\n",
       "      <th>clique_size</th>\n",
       "      <th>graph_size</th>\n",
       "    </tr>\n",
       "  </thead>\n",
       "  <tbody>\n",
       "    <tr>\n",
       "      <th>217</th>\n",
       "      <td>canvas-keyboard-response</td>\n",
       "      <td>657.0</td>\n",
       "      <td>arrowleft</td>\n",
       "      <td>[35,153,228,277,114,33,192,65,107,234,190,84,5...</td>\n",
       "      <td>arrowright</td>\n",
       "      <td>[{\"1\":[0],\"2\":[0,1],\"3\":[1,1,0],\"4\":[1,1,0,0],...</td>\n",
       "      <td>False</td>\n",
       "      <td>3.0</td>\n",
       "      <td>26.0</td>\n",
       "      <td>23.0</td>\n",
       "      <td>300.0</td>\n",
       "    </tr>\n",
       "    <tr>\n",
       "      <th>218</th>\n",
       "      <td>canvas-keyboard-response</td>\n",
       "      <td>1116.0</td>\n",
       "      <td></td>\n",
       "      <td>[129,239,0,233,149,246,59,27,133,267,209,117,1...</td>\n",
       "      <td>arrowright</td>\n",
       "      <td>NaN</td>\n",
       "      <td>NaN</td>\n",
       "      <td>3.0</td>\n",
       "      <td>27.0</td>\n",
       "      <td>23.0</td>\n",
       "      <td>300.0</td>\n",
       "    </tr>\n",
       "    <tr>\n",
       "      <th>219</th>\n",
       "      <td>canvas-keyboard-response</td>\n",
       "      <td>798.0</td>\n",
       "      <td>arrowright</td>\n",
       "      <td>[221,43,216,79,73,257,91,142,228,215,106,12,27...</td>\n",
       "      <td>arrowright</td>\n",
       "      <td>[{\"1\":[0],\"2\":[0,1],\"3\":[1,0,0],\"4\":[0,0,1,1],...</td>\n",
       "      <td>True</td>\n",
       "      <td>3.0</td>\n",
       "      <td>27.0</td>\n",
       "      <td>23.0</td>\n",
       "      <td>300.0</td>\n",
       "    </tr>\n",
       "    <tr>\n",
       "      <th>220</th>\n",
       "      <td>canvas-keyboard-response</td>\n",
       "      <td>1630.0</td>\n",
       "      <td>arrowleft</td>\n",
       "      <td>[108,156,119,91,77,262,201,165,118,229,152,240...</td>\n",
       "      <td>arrowleft</td>\n",
       "      <td>[{\"1\":[1],\"2\":[1,0],\"3\":[1,1,1],\"4\":[1,1,0,1],...</td>\n",
       "      <td>True</td>\n",
       "      <td>3.0</td>\n",
       "      <td>28.0</td>\n",
       "      <td>12.0</td>\n",
       "      <td>300.0</td>\n",
       "    </tr>\n",
       "    <tr>\n",
       "      <th>221</th>\n",
       "      <td>canvas-keyboard-response</td>\n",
       "      <td>1565.0</td>\n",
       "      <td>arrowright</td>\n",
       "      <td>[14,197,77,154,276,278,238,258,110,3,178,283,1...</td>\n",
       "      <td>arrowleft</td>\n",
       "      <td>[{\"1\":[0],\"2\":[1,1],\"3\":[1,1,0],\"4\":[1,1,1,1],...</td>\n",
       "      <td>False</td>\n",
       "      <td>3.0</td>\n",
       "      <td>29.0</td>\n",
       "      <td>12.0</td>\n",
       "      <td>300.0</td>\n",
       "    </tr>\n",
       "  </tbody>\n",
       "</table>\n",
       "</div>"
      ],
      "text/plain": [
       "                   trial_type      rt    response  \\\n",
       "217  canvas-keyboard-response   657.0   arrowleft   \n",
       "218  canvas-keyboard-response  1116.0               \n",
       "219  canvas-keyboard-response   798.0  arrowright   \n",
       "220  canvas-keyboard-response  1630.0   arrowleft   \n",
       "221  canvas-keyboard-response  1565.0  arrowright   \n",
       "\n",
       "                                           nodes_order correct_response  \\\n",
       "217  [35,153,228,277,114,33,192,65,107,234,190,84,5...       arrowright   \n",
       "218  [129,239,0,233,149,246,59,27,133,267,209,117,1...       arrowright   \n",
       "219  [221,43,216,79,73,257,91,142,228,215,106,12,27...       arrowright   \n",
       "220  [108,156,119,91,77,262,201,165,118,229,152,240...        arrowleft   \n",
       "221  [14,197,77,154,276,278,238,258,110,3,178,283,1...        arrowleft   \n",
       "\n",
       "                                         graphs_couple accuracy  block_index  \\\n",
       "217  [{\"1\":[0],\"2\":[0,1],\"3\":[1,1,0],\"4\":[1,1,0,0],...    False          3.0   \n",
       "218                                                NaN      NaN          3.0   \n",
       "219  [{\"1\":[0],\"2\":[0,1],\"3\":[1,0,0],\"4\":[0,0,1,1],...     True          3.0   \n",
       "220  [{\"1\":[1],\"2\":[1,0],\"3\":[1,1,1],\"4\":[1,1,0,1],...     True          3.0   \n",
       "221  [{\"1\":[0],\"2\":[1,1],\"3\":[1,1,0],\"4\":[1,1,1,1],...    False          3.0   \n",
       "\n",
       "     presentation_index  clique_size  graph_size  \n",
       "217                26.0         23.0       300.0  \n",
       "218                27.0         23.0       300.0  \n",
       "219                27.0         23.0       300.0  \n",
       "220                28.0         12.0       300.0  \n",
       "221                29.0         12.0       300.0  "
      ]
     },
     "execution_count": 12,
     "metadata": {},
     "output_type": "execute_result"
    }
   ],
   "source": [
    "# creating empty dataframe:\n",
    "data = pd.DataFrame()\n",
    "# accessing all json files in 'data' directory:\n",
    "files = Path('C:/Users/danie/OneDrive/Desktop/HUPLACLIP-analysis/data_analysis/pilot_1/data/').glob('*.csv')\n",
    "fileCounter = 0\n",
    "for file in files:\n",
    "    # reading single csv file as dataframe\n",
    "    df = pd.read_csv(file)\n",
    "    # adding single dataframe to general dataframe:\n",
    "    data = pd.concat([data,df])\n",
    "    # incrementing file counter (will be used to label the graph):\n",
    "    fileCounter += 1\n",
    "\n",
    "# checking dimension of data and printing the names of the variables:\n",
    "print(data.shape)\n",
    "print(data.columns.tolist())\n",
    "\n",
    "# isolating experiment trials (\"canvas-keyboard-response\" ones)\n",
    "data_experiment = data[data.trial_type == \"canvas-keyboard-response\"]\n",
    "\n",
    "# dropping irrelevant variables:\n",
    "data_experiment.drop([\"view_history\",\"trial_index\", \"time_elapsed\",\"internal_node_id\" ,\"success\", \"timeout\", \"failed_images\", \"failed_audio\", \"failed_video\", \"stimulus\"], axis=1, inplace=True)\n",
    "\n",
    "# checking that cleaning happened successfully:\n",
    "print(data_experiment.shape)\n",
    "data_experiment.tail()"
   ]
  },
  {
   "cell_type": "code",
   "execution_count": 13,
   "metadata": {},
   "outputs": [
    {
     "name": "stdout",
     "output_type": "stream",
     "text": [
      "(720, 11)\n",
      "175.0    48\n",
      "163.0    48\n",
      "152.0    48\n",
      "140.0    48\n",
      "128.0    48\n",
      "117.0    48\n",
      "105.0    48\n",
      "93.0     48\n",
      "82.0     48\n",
      "70.0     48\n",
      "58.0     48\n",
      "47.0     48\n",
      "35.0     48\n",
      "23.0     48\n",
      "12.0     48\n",
      "Name: clique_size, dtype: int64\n"
     ]
    }
   ],
   "source": [
    "# isolating trials were final responses were given (shuffles have \" \" as response):\n",
    "data_experiment_final = data_experiment[data_experiment['response'].isin(['arrowright','arrowleft'])]\n",
    "print(data_experiment_final.shape)     # final responses = 12*(number of csv files in data folder)\n",
    "# counting the final answers for each clique size\n",
    "print(data_experiment_final['clique_size'].value_counts()  )"
   ]
  },
  {
   "cell_type": "code",
   "execution_count": 16,
   "metadata": {},
   "outputs": [
    {
     "data": {
      "text/plain": [
       "Text(0.5, 1.0, 'sample size = 6')"
      ]
     },
     "execution_count": 16,
     "metadata": {},
     "output_type": "execute_result"
    },
    {
     "data": {
      "image/png": "[encoded data removed]",
      "text/plain": [
       "<Figure size 640x480 with 1 Axes>"
      ]
     },
     "metadata": {},
     "output_type": "display_data"
    }
   ],
   "source": [
    "# plotting fraction correct as a function of \"clique_size\"\n",
    "# - calculating accuracy for the different levels of \"clique_size\"\n",
    "fraction_correct_dict = dict()\n",
    "# reversing the order of clique_size array:\n",
    "reversed_clique_size_array = df1_cleaned_final_answers.clique_size.unique()[::-1]\n",
    "for i in reversed_clique_size_array:\n",
    "    # isolating data of current clique size:\n",
    "    current_data = data_experiment_final[data_experiment_final.clique_size == i]\n",
    "    # calculating fraction correct for current clique size\n",
    "    fraction_correct_current_clique_size = sum(current_data.accuracy == True) / sum(~ current_data.accuracy.isna())\n",
    "    # adding to the dictionary\n",
    "    fraction_correct_dict[str(round(i))] = fraction_correct_current_clique_size\n",
    "    \n",
    "    # # DEBUG:\n",
    "    # print(\"clique size:\")\n",
    "    # print(i)\n",
    "    # print(\"fraction correct:\")\n",
    "    # print(fraction_correct_current_clique_size)\n",
    "    # print(current_data.accuracy)\n",
    "    \n",
    "# plotting the results:\n",
    "# - obtaining appropriate x and y values:\n",
    "x_values = list(fraction_correct_dict.keys())\n",
    "x_values = [int(x_value)/(math.sqrt(300))  for x_value in x_values]\n",
    "y_values = list(fraction_correct_dict.values())\n",
    "y_values = [y_value * 100 for y_value in y_values]\n",
    "# - drawing plot:\n",
    "plt.plot(x_values,y_values)\n",
    "plt.xlabel(\"k/sqrt(300)\")\n",
    "plt.ylabel(\"% of correct responses\")\n",
    "# plotting chance level line and adding legend\n",
    "plt.axhline(y = 50, color = 'r', linestyle = 'dashed', label = \"chance level\")\n",
    "plt.legend(loc = 'lower right')\n",
    "plt.suptitle(\"Accuracy as a function of K/sqrt(300)\", fontsize = 15)\n",
    "plt.title('sample size = {}'.format(fileCounter), fontstyle= \"italic\")"
   ]
  },
  {
   "cell_type": "markdown",
   "metadata": {},
   "source": [
    "---------------------------------------------------------------------"
   ]
  },
  {
   "attachments": {},
   "cell_type": "markdown",
   "metadata": {},
   "source": [
    "(TO ADAPT FROM HERE ON)"
   ]
  },
  {
   "attachments": {},
   "cell_type": "markdown",
   "metadata": {},
   "source": [
    "- Accuracy:"
   ]
  },
  {
   "cell_type": "code",
   "execution_count": 6,
   "metadata": {},
   "outputs": [
    {
     "name": "stdout",
     "output_type": "stream",
     "text": [
      "0.825\n",
      "[200. 190. 180. 170. 160. 150. 140. 130. 120. 110. 100.  90.  80.  70.\n",
      "  60.  50.  40.  30.  20.  10.]\n"
     ]
    },
    {
     "data": {
      "image/png": "[encoded data removed]",
      "text/plain": [
       "<Figure size 640x480 with 1 Axes>"
      ]
     },
     "metadata": {},
     "output_type": "display_data"
    }
   ],
   "source": [
    "# 1. overall accuracy ( # correct answers / # final answers )\n",
    "overall_accuracy = sum(data_experiment.correctnessOfResponse == 1) / sum(~ data_experiment.correctnessOfResponse.isna())\n",
    "print(overall_accuracy)\n",
    "\n",
    "# 2. calculating accuracy for the levels of \"cliqueSize\"\n",
    "# - obtaining levels of \"cliqueSize\" (this should match with experiment parameters)\n",
    "print(data_experiment.cliqueSize.unique())\n",
    "# - calculating accuracy for the different levels of \"cliqueSize\"\n",
    "accuracy_dict = dict()\n",
    "for i in data_experiment.cliqueSize.unique():\n",
    "    # isolating data of current clique size:\n",
    "    current_data = data_experiment[data_experiment.cliqueSize == i]\n",
    "    accuracy_current_cliqueSize = sum(current_data.correctnessOfResponse == 1) / sum(~ current_data.correctnessOfResponse.isna())\n",
    "    accuracy_dict[str(round(i))] = accuracy_current_cliqueSize\n",
    "# plotting the results:\n",
    "x_values = accuracy_dict.keys()\n",
    "y_values = accuracy_dict.values()\n",
    "plt.plot(x_values,y_values)\n",
    "plt.xlabel(\"clique size in graph of 300 nodes\")\n",
    "plt.ylabel(\"accuracy\")\n",
    "plt.tick_params(axis='x', which='major', labelsize=7)"
   ]
  },
  {
   "attachments": {},
   "cell_type": "markdown",
   "metadata": {},
   "source": [
    "- Number of shuffles:"
   ]
  },
  {
   "cell_type": "code",
   "execution_count": 7,
   "metadata": {},
   "outputs": [],
   "source": [
    "# 1. average number of shuffles\n",
    "# 2. calculating number of shuffles for the levels of \"cliqueSize\"  (plotting the results)\n",
    "# note: if number of shuffles increases as a function of \"cliqueSize\", it could be helping subjects for difficult instances of the task"
   ]
  },
  {
   "attachments": {},
   "cell_type": "markdown",
   "metadata": {},
   "source": [
    "- Reaction times:"
   ]
  },
  {
   "cell_type": "code",
   "execution_count": 8,
   "metadata": {},
   "outputs": [
    {
     "name": "stdout",
     "output_type": "stream",
     "text": [
      "False    391\n",
      "True       4\n",
      "Name: rt, dtype: int64\n"
     ]
    },
    {
     "data": {
      "image/png": "[encoded data removed]",
      "text/plain": [
       "<Figure size 640x480 with 1 Axes>"
      ]
     },
     "metadata": {},
     "output_type": "display_data"
    },
    {
     "data": {
      "image/png": "[encoded data removed]",
      "text/plain": [
       "<Figure size 640x480 with 2 Axes>"
      ]
     },
     "metadata": {},
     "output_type": "display_data"
    }
   ],
   "source": [
    "# 1. average RT (for all trials, both final responses and shuffles)\n",
    "# 2. RT as a function of \"cliqueSize\"\n",
    "# note: if reaction time increases as a function of \"cliqueSize\", it could be an indication of increasing difficulty\n",
    "\n",
    "###########################################################\n",
    "\n",
    "\n",
    "# histogram of reaction times distribution (TO REVIEW):\n",
    "data.rt.hist(bins=100)\n",
    "# counting trials that were too slow and removing them (exclusion criterion: rt>7500)\n",
    "print((data.rt>=7500).value_counts())\n",
    "data_filtered = data.query('rt < 7500')\n",
    "\n",
    "#plotting unfiltered and filtered data:\n",
    "fig, (ax1,ax2) = plt.subplots(1, 2,sharex=True)\n",
    "min_ylim, max_ylim = plt.ylim()\n",
    "#unfiltered data\n",
    "ax1.hist(data.rt,bins=100)\n",
    "ax1.axvline(data.rt.mean(), color='k', linestyle='dashed', linewidth=1)\n",
    "ax1.text(data.rt.mean()*1.1,max_ylim*0.9, 'Mean: {:.2f}'.format(data.rt.mean()))\n",
    "ax1.set_title(\"RTs of Unfiltered data\")\n",
    "#filtered data\n",
    "ax2.hist(data_filtered.rt,bins=100)\n",
    "ax2.axvline(data_filtered.rt.mean(), color='k', linestyle='dashed', linewidth=1)\n",
    "ax2.text(data_filtered.rt.mean()*1.1,max_ylim*0.9, 'Mean: {:.2f}'.format(data_filtered.rt.mean()))\n",
    "ax2.set_title(\"RTs of Filtered data\")\n",
    "plt.show()"
   ]
  }
 ],
 "metadata": {
  "kernelspec": {
   "display_name": "Python 3",
   "language": "python",
   "name": "python3"
  },
  "language_info": {
   "codemirror_mode": {
    "name": "ipython",
    "version": 3
   },
   "file_extension": ".py",
   "mimetype": "text/x-python",
   "name": "python",
   "nbconvert_exporter": "python",
   "pygments_lexer": "ipython3",
   "version": "3.10.11"
  },
  "orig_nbformat": 4,
  "vscode": {
   "interpreter": {
    "hash": "2bf4de0ff22098ac7e3c49548bdd81cde03d0920bc2c90f4bd7508ddd9bf976b"
   }
  }
 },
 "nbformat": 4,
 "nbformat_minor": 2
}
