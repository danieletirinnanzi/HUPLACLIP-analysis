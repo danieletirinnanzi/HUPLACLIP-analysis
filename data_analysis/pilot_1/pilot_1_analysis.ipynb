{
 "cells": [
  {
   "attachments": {},
   "cell_type": "markdown",
   "metadata": {},
   "source": [
    "EXPLANATION OF OUTPUT VARIABLES (the relevant trials are the \"canvas-keyboard-response\" ones):\n",
    "\n",
    "Experiment flow:\n",
    "- *block_index* -> index of the block (NB: starts from zero)\n",
    "- *presentation_index* -> index of the presentation inside one block (NB: starts from zero)\n",
    "\n",
    "Experiment parameters:\n",
    "- *clique_size* -> size of the clique in one of the two displayed graphs\n",
    "- *graphs_size* -> size of the displayed graphs \n",
    "- *graphs_couple* -> couple of graphs shown in current trial\n",
    "- *nodes_order* -> order of the nodes in current trial\n",
    "\n",
    "Dependent variables:\n",
    "- *rt* -> response time in ms (collected automatically)\n",
    "- *response* -> in this experiment, the accepted keys are \" \"; \"arrowright\" or \"arrowleft\"\n",
    "- *accuracy* -> this variable is manually computed and added only to the trials where response was arrowright or arrowleft\n",
    "\n",
    "Comparison variables:\n",
    "- *correct_response* -> correct response for current trial\n",
    "\n",
    "Produced automatically / not relevant:\n",
    "\n",
    "For all trials:\n",
    "- *trial_type* -> the name of the plugin used to run the trial (the real trials of the experiment are \"canvas-keyboard-response\")\n",
    "- *trial_index* -> the index of the current trial across the whole experiment (it is a global counter of trials, it also includes instructions and tutorial ones)\n",
    "- *time_elapsed* -> the number of milliseconds between the start of the experiment and when the trial ended\n",
    "- *internal_node_id* -> string identifier for the current TimelineNode\n",
    "\n",
    "For preload plugin:\n",
    "- *success*\t-> if true, then all files loaded successfully within the max_load_time. If false, then one or more file requests returned a failure and/or the file loading did not complete within the max_load_time duration.\n",
    "- *timeout* -> \tif true, then the files did not finish loading within the max_load_time duration. If false, then the file loading did not timeout.\n",
    "- *failed_images* -> one or more image file paths that produced a loading failure before the trial ended.\n",
    "- *failed_audio* -> one or more audio file paths that produced a loading failure before the trial ended.\n",
    "- *failed_video* -> one or more video file paths that produced a loading failure before the trial ended.\n",
    "\n",
    "For instructions plugin:\n",
    "- *rt* -> the response time (in ms) for the subject to view all of the pages\n",
    "- *view_history* -> array containing the order of pages the subject viewed (collected only for \"instructions\" plugin)\n",
    "\n",
    "For image-keyboard-response plugin:\n",
    "- *stimulus* -> the path of the image that was displayed.\n",
    "\n"
   ]
  },
  {
   "attachments": {},
   "cell_type": "markdown",
   "metadata": {},
   "source": [
    "------------------------------------------------------------------------------------------------------------"
   ]
  },
  {
   "attachments": {},
   "cell_type": "markdown",
   "metadata": {},
   "source": [
    "Importing packages:"
   ]
  },
  {
   "cell_type": "code",
   "execution_count": 9,
   "metadata": {},
   "outputs": [],
   "source": [
    "import pandas as pd\n",
    "import numpy as np\n",
    "import math\n",
    "from matplotlib import pyplot as plt\n",
    "from pathlib import Path"
   ]
  },
  {
   "attachments": {},
   "cell_type": "markdown",
   "metadata": {},
   "source": [
    "Importing and \"cleaning\" a single experiment csv file:"
   ]
  },
  {
   "cell_type": "code",
   "execution_count": 10,
   "metadata": {},
   "outputs": [
    {
     "name": "stdout",
     "output_type": "stream",
     "text": [
      "(237, 21)\n",
      "<class 'pandas.core.frame.DataFrame'>\n",
      "RangeIndex: 237 entries, 0 to 236\n",
      "Data columns (total 21 columns):\n",
      " #   Column              Non-Null Count  Dtype  \n",
      "---  ------              --------------  -----  \n",
      " 0   trial_type          237 non-null    object \n",
      " 1   trial_index         237 non-null    int64  \n",
      " 2   time_elapsed        237 non-null    int64  \n",
      " 3   internal_node_id    237 non-null    object \n",
      " 4   view_history        8 non-null      object \n",
      " 5   rt                  233 non-null    float64\n",
      " 6   success             3 non-null      object \n",
      " 7   timeout             3 non-null      object \n",
      " 8   failed_images       3 non-null      object \n",
      " 9   failed_audio        3 non-null      object \n",
      " 10  failed_video        3 non-null      object \n",
      " 11  stimulus            39 non-null     object \n",
      " 12  response            225 non-null    object \n",
      " 13  nodes_order         186 non-null    object \n",
      " 14  correct_response    186 non-null    object \n",
      " 15  graphs_couple       120 non-null    object \n",
      " 16  accuracy            120 non-null    object \n",
      " 17  block_index         186 non-null    float64\n",
      " 18  presentation_index  186 non-null    float64\n",
      " 19  clique_size         186 non-null    float64\n",
      " 20  graph_size          186 non-null    float64\n",
      "dtypes: float64(5), int64(2), object(14)\n",
      "memory usage: 39.0+ KB\n",
      "None\n"
     ]
    }
   ],
   "source": [
    "file1Path = Path('C:/Users/danie/OneDrive/Desktop/HUPLACLIP-analysis/data_analysis/pilot_1/data/HUPLACLIP_pilot_subj2_2023-04-26_11h58.01.397.csv')\n",
    "df1 = pd.read_csv(file1Path)\n",
    "print(df1.shape)\n",
    "print(df1.info())"
   ]
  },
  {
   "cell_type": "code",
   "execution_count": 11,
   "metadata": {},
   "outputs": [
    {
     "name": "stdout",
     "output_type": "stream",
     "text": [
      "<class 'pandas.core.frame.DataFrame'>\n",
      "Int64Index: 186 entries, 47 to 235\n",
      "Data columns (total 21 columns):\n",
      " #   Column              Non-Null Count  Dtype  \n",
      "---  ------              --------------  -----  \n",
      " 0   trial_type          186 non-null    object \n",
      " 1   trial_index         186 non-null    int64  \n",
      " 2   time_elapsed        186 non-null    int64  \n",
      " 3   internal_node_id    186 non-null    object \n",
      " 4   view_history        0 non-null      object \n",
      " 5   rt                  186 non-null    float64\n",
      " 6   success             0 non-null      object \n",
      " 7   timeout             0 non-null      object \n",
      " 8   failed_images       0 non-null      object \n",
      " 9   failed_audio        0 non-null      object \n",
      " 10  failed_video        0 non-null      object \n",
      " 11  stimulus            0 non-null      object \n",
      " 12  response            186 non-null    object \n",
      " 13  nodes_order         186 non-null    object \n",
      " 14  correct_response    186 non-null    object \n",
      " 15  graphs_couple       120 non-null    object \n",
      " 16  accuracy            120 non-null    object \n",
      " 17  block_index         186 non-null    float64\n",
      " 18  presentation_index  186 non-null    float64\n",
      " 19  clique_size         186 non-null    float64\n",
      " 20  graph_size          186 non-null    float64\n",
      "dtypes: float64(5), int64(2), object(14)\n",
      "memory usage: 32.0+ KB\n",
      "None\n"
     ]
    }
   ],
   "source": [
    "# isolating experiment trials (\"canvas-keyboard-response\" ones)\n",
    "df1_experiment = df1[df1.trial_type == \"canvas-keyboard-response\"]\n",
    "df1_experiment.head()\n",
    "print(df1_experiment.info())"
   ]
  },
  {
   "cell_type": "code",
   "execution_count": 12,
   "metadata": {},
   "outputs": [
    {
     "name": "stdout",
     "output_type": "stream",
     "text": [
      "<class 'pandas.core.frame.DataFrame'>\n",
      "Int64Index: 186 entries, 47 to 235\n",
      "Data columns (total 11 columns):\n",
      " #   Column              Non-Null Count  Dtype  \n",
      "---  ------              --------------  -----  \n",
      " 0   trial_type          186 non-null    object \n",
      " 1   rt                  186 non-null    float64\n",
      " 2   response            186 non-null    object \n",
      " 3   nodes_order         186 non-null    object \n",
      " 4   correct_response    186 non-null    object \n",
      " 5   graphs_couple       120 non-null    object \n",
      " 6   accuracy            120 non-null    object \n",
      " 7   block_index         186 non-null    float64\n",
      " 8   presentation_index  186 non-null    float64\n",
      " 9   clique_size         186 non-null    float64\n",
      " 10  graph_size          186 non-null    float64\n",
      "dtypes: float64(5), object(6)\n",
      "memory usage: 17.4+ KB\n",
      "None\n"
     ]
    }
   ],
   "source": [
    "# dropping empty/irrelevant variables:\n",
    "df1_cleaned = df1_experiment.drop([\"view_history\",\"trial_index\", \"time_elapsed\",\"internal_node_id\" ,\"success\", \"timeout\", \"failed_images\", \"failed_audio\", \"failed_video\", \"stimulus\"], axis=1)\n",
    "print(df1_cleaned.info())"
   ]
  },
  {
   "cell_type": "code",
   "execution_count": 13,
   "metadata": {},
   "outputs": [
    {
     "data": {
      "text/html": [
       "<div>\n",
       "<style scoped>\n",
       "    .dataframe tbody tr th:only-of-type {\n",
       "        vertical-align: middle;\n",
       "    }\n",
       "\n",
       "    .dataframe tbody tr th {\n",
       "        vertical-align: top;\n",
       "    }\n",
       "\n",
       "    .dataframe thead th {\n",
       "        text-align: right;\n",
       "    }\n",
       "</style>\n",
       "<table border=\"1\" class=\"dataframe\">\n",
       "  <thead>\n",
       "    <tr style=\"text-align: right;\">\n",
       "      <th></th>\n",
       "      <th>trial_type</th>\n",
       "      <th>rt</th>\n",
       "      <th>response</th>\n",
       "      <th>nodes_order</th>\n",
       "      <th>correct_response</th>\n",
       "      <th>graphs_couple</th>\n",
       "      <th>accuracy</th>\n",
       "      <th>block_index</th>\n",
       "      <th>presentation_index</th>\n",
       "      <th>clique_size</th>\n",
       "      <th>graph_size</th>\n",
       "    </tr>\n",
       "  </thead>\n",
       "  <tbody>\n",
       "    <tr>\n",
       "      <th>231</th>\n",
       "      <td>canvas-keyboard-response</td>\n",
       "      <td>4234.0</td>\n",
       "      <td></td>\n",
       "      <td>[104,35,41,144,207,99,180,88,62,93,19,163,288,...</td>\n",
       "      <td>arrowleft</td>\n",
       "      <td>NaN</td>\n",
       "      <td>NaN</td>\n",
       "      <td>3.0</td>\n",
       "      <td>29.0</td>\n",
       "      <td>12.0</td>\n",
       "      <td>300.0</td>\n",
       "    </tr>\n",
       "    <tr>\n",
       "      <th>232</th>\n",
       "      <td>canvas-keyboard-response</td>\n",
       "      <td>5808.0</td>\n",
       "      <td></td>\n",
       "      <td>[31,280,249,64,268,205,166,40,145,282,150,8,10...</td>\n",
       "      <td>arrowleft</td>\n",
       "      <td>NaN</td>\n",
       "      <td>NaN</td>\n",
       "      <td>3.0</td>\n",
       "      <td>29.0</td>\n",
       "      <td>12.0</td>\n",
       "      <td>300.0</td>\n",
       "    </tr>\n",
       "    <tr>\n",
       "      <th>233</th>\n",
       "      <td>canvas-keyboard-response</td>\n",
       "      <td>5578.0</td>\n",
       "      <td></td>\n",
       "      <td>[129,72,14,143,285,124,194,103,175,276,26,39,7...</td>\n",
       "      <td>arrowleft</td>\n",
       "      <td>NaN</td>\n",
       "      <td>NaN</td>\n",
       "      <td>3.0</td>\n",
       "      <td>29.0</td>\n",
       "      <td>12.0</td>\n",
       "      <td>300.0</td>\n",
       "    </tr>\n",
       "    <tr>\n",
       "      <th>234</th>\n",
       "      <td>canvas-keyboard-response</td>\n",
       "      <td>4487.0</td>\n",
       "      <td></td>\n",
       "      <td>[65,146,22,81,108,182,42,53,106,266,91,68,86,1...</td>\n",
       "      <td>arrowleft</td>\n",
       "      <td>NaN</td>\n",
       "      <td>NaN</td>\n",
       "      <td>3.0</td>\n",
       "      <td>29.0</td>\n",
       "      <td>12.0</td>\n",
       "      <td>300.0</td>\n",
       "    </tr>\n",
       "    <tr>\n",
       "      <th>235</th>\n",
       "      <td>canvas-keyboard-response</td>\n",
       "      <td>7201.0</td>\n",
       "      <td>arrowleft</td>\n",
       "      <td>[246,122,226,30,77,80,17,214,103,217,64,144,15...</td>\n",
       "      <td>arrowleft</td>\n",
       "      <td>[{\"1\":[0],\"2\":[0,1],\"3\":[0,0,1],\"4\":[1,0,0,1],...</td>\n",
       "      <td>True</td>\n",
       "      <td>3.0</td>\n",
       "      <td>29.0</td>\n",
       "      <td>12.0</td>\n",
       "      <td>300.0</td>\n",
       "    </tr>\n",
       "  </tbody>\n",
       "</table>\n",
       "</div>"
      ],
      "text/plain": [
       "                   trial_type      rt   response  \\\n",
       "231  canvas-keyboard-response  4234.0              \n",
       "232  canvas-keyboard-response  5808.0              \n",
       "233  canvas-keyboard-response  5578.0              \n",
       "234  canvas-keyboard-response  4487.0              \n",
       "235  canvas-keyboard-response  7201.0  arrowleft   \n",
       "\n",
       "                                           nodes_order correct_response  \\\n",
       "231  [104,35,41,144,207,99,180,88,62,93,19,163,288,...        arrowleft   \n",
       "232  [31,280,249,64,268,205,166,40,145,282,150,8,10...        arrowleft   \n",
       "233  [129,72,14,143,285,124,194,103,175,276,26,39,7...        arrowleft   \n",
       "234  [65,146,22,81,108,182,42,53,106,266,91,68,86,1...        arrowleft   \n",
       "235  [246,122,226,30,77,80,17,214,103,217,64,144,15...        arrowleft   \n",
       "\n",
       "                                         graphs_couple accuracy  block_index  \\\n",
       "231                                                NaN      NaN          3.0   \n",
       "232                                                NaN      NaN          3.0   \n",
       "233                                                NaN      NaN          3.0   \n",
       "234                                                NaN      NaN          3.0   \n",
       "235  [{\"1\":[0],\"2\":[0,1],\"3\":[0,0,1],\"4\":[1,0,0,1],...     True          3.0   \n",
       "\n",
       "     presentation_index  clique_size  graph_size  \n",
       "231                29.0         12.0       300.0  \n",
       "232                29.0         12.0       300.0  \n",
       "233                29.0         12.0       300.0  \n",
       "234                29.0         12.0       300.0  \n",
       "235                29.0         12.0       300.0  "
      ]
     },
     "execution_count": 13,
     "metadata": {},
     "output_type": "execute_result"
    }
   ],
   "source": [
    "# visualizing the data\n",
    "df1_cleaned.tail()"
   ]
  },
  {
   "cell_type": "code",
   "execution_count": 8,
   "metadata": {},
   "outputs": [
    {
     "data": {
      "text/plain": [
       "(186, 11)"
      ]
     },
     "execution_count": 8,
     "metadata": {},
     "output_type": "execute_result"
    }
   ],
   "source": [
    "# checking size:\n",
    "df1_cleaned.shape"
   ]
  },
  {
   "cell_type": "code",
   "execution_count": 14,
   "metadata": {},
   "outputs": [
    {
     "name": "stdout",
     "output_type": "stream",
     "text": [
      "(120, 11)\n"
     ]
    },
    {
     "data": {
      "text/plain": [
       "175.0    8\n",
       "163.0    8\n",
       "152.0    8\n",
       "140.0    8\n",
       "128.0    8\n",
       "117.0    8\n",
       "105.0    8\n",
       "93.0     8\n",
       "82.0     8\n",
       "70.0     8\n",
       "58.0     8\n",
       "47.0     8\n",
       "35.0     8\n",
       "23.0     8\n",
       "12.0     8\n",
       "Name: clique_size, dtype: int64"
      ]
     },
     "execution_count": 14,
     "metadata": {},
     "output_type": "execute_result"
    }
   ],
   "source": [
    "# isolating trials were final responses were given (shuffles have \" \" as response):\n",
    "df1_cleaned_final_answers = df1_cleaned[df1_cleaned['response'].isin(['arrowright','arrowleft'])]\n",
    "print(df1_cleaned_final_answers.shape)     #final responses should be 120 (30 for each one of the 4 blocks)\n",
    "# counting the final answers for each clique size\n",
    "df1_cleaned_final_answers['clique_size'].value_counts()  #the clique sizes should be 15, and there should be 8 trials for each clique size"
   ]
  },
  {
   "cell_type": "code",
   "execution_count": 15,
   "metadata": {},
   "outputs": [
    {
     "data": {
      "text/plain": [
       "Text(0.5, 1.0, 'sample size = 1')"
      ]
     },
     "execution_count": 15,
     "metadata": {},
     "output_type": "execute_result"
    },
    {
     "data": {
      "image/png": "[encoded data removed]",
      "text/plain": [
       "<Figure size 640x480 with 1 Axes>"
      ]
     },
     "metadata": {},
     "output_type": "display_data"
    }
   ],
   "source": [
    "# plotting fraction correct as a function of \"clique_size\"\n",
    "# - calculating accuracy for the different levels of \"clique_size\"\n",
    "fraction_correct_dict = dict()\n",
    "# reversing the order of clique_size array:\n",
    "reversed_clique_size_array = df1_cleaned_final_answers.clique_size.unique()[::-1]\n",
    "for i in reversed_clique_size_array:\n",
    "    # isolating data of current clique size:\n",
    "    current_data = df1_cleaned_final_answers[df1_cleaned_final_answers.clique_size == i]\n",
    "    # calculating fraction correct for current clique size\n",
    "    fraction_correct_current_clique_size = sum(current_data.accuracy == True) / sum(~ current_data.accuracy.isna())\n",
    "    # adding to the dictionary\n",
    "    fraction_correct_dict[str(round(i))] = fraction_correct_current_clique_size\n",
    "    \n",
    "    # #DEBUG:\n",
    "    # print(\"clique size:\")\n",
    "    # print(i)\n",
    "    # print(\"fraction correct:\")\n",
    "    # print(fraction_correct_current_clique_size)\n",
    "    # print(current_data.accuracy)\n",
    "    \n",
    "# plotting the results:\n",
    "# - obtaining appropriate x and y values:\n",
    "x_values = list(fraction_correct_dict.keys())\n",
    "x_values = [int(x_value)/(math.sqrt(300))  for x_value in x_values]\n",
    "y_values = list(fraction_correct_dict.values())\n",
    "y_values = [y_value * 100 for y_value in y_values]\n",
    "# - drawing plot:\n",
    "plt.plot(x_values,y_values)\n",
    "plt.xlabel(\"k/sqrt(300)\")\n",
    "plt.ylabel(\"% of correct responses\")\n",
    "# plotting chance level line and adding legend\n",
    "plt.axhline(y = 50, color = 'r', linestyle = 'dashed', label = \"chance level\")\n",
    "plt.legend(loc = 'lower right')\n",
    "plt.suptitle(\"Accuracy as a function of K/sqrt(300)\", fontsize = 15)\n",
    "plt.title(\"sample size = 1\", fontstyle= \"italic\")"
   ]
  },
  {
   "attachments": {},
   "cell_type": "markdown",
   "metadata": {},
   "source": [
    "Importing multiple csv files, combining them in a single dataframe and removing irrelvant variables:"
   ]
  },
  {
   "cell_type": "code",
   "execution_count": 18,
   "metadata": {},
   "outputs": [
    {
     "name": "stdout",
     "output_type": "stream",
     "text": [
      "(839, 21)\n",
      "['trial_type', 'trial_index', 'time_elapsed', 'internal_node_id', 'view_history', 'rt', 'success', 'timeout', 'failed_images', 'failed_audio', 'failed_video', 'stimulus', 'response', 'nodes_order', 'correct_response', 'graphs_couple', 'accuracy', 'block_index', 'presentation_index', 'clique_size', 'graph_size']\n",
      "(686, 11)\n"
     ]
    },
    {
     "name": "stderr",
     "output_type": "stream",
     "text": [
      "C:\\Users\\danie\\AppData\\Local\\Temp\\ipykernel_2968\\818132131.py:22: SettingWithCopyWarning: \n",
      "A value is trying to be set on a copy of a slice from a DataFrame\n",
      "\n",
      "See the caveats in the documentation: https://pandas.pydata.org/pandas-docs/stable/user_guide/indexing.html#returning-a-view-versus-a-copy\n",
      "  data_experiment.drop([\"view_history\",\"trial_index\", \"time_elapsed\",\"internal_node_id\" ,\"success\", \"timeout\", \"failed_images\", \"failed_audio\", \"failed_video\", \"stimulus\"], axis=1, inplace=True)\n"
     ]
    },
    {
     "data": {
      "text/html": [
       "<div>\n",
       "<style scoped>\n",
       "    .dataframe tbody tr th:only-of-type {\n",
       "        vertical-align: middle;\n",
       "    }\n",
       "\n",
       "    .dataframe tbody tr th {\n",
       "        vertical-align: top;\n",
       "    }\n",
       "\n",
       "    .dataframe thead th {\n",
       "        text-align: right;\n",
       "    }\n",
       "</style>\n",
       "<table border=\"1\" class=\"dataframe\">\n",
       "  <thead>\n",
       "    <tr style=\"text-align: right;\">\n",
       "      <th></th>\n",
       "      <th>trial_type</th>\n",
       "      <th>rt</th>\n",
       "      <th>response</th>\n",
       "      <th>nodes_order</th>\n",
       "      <th>correct_response</th>\n",
       "      <th>graphs_couple</th>\n",
       "      <th>accuracy</th>\n",
       "      <th>block_index</th>\n",
       "      <th>presentation_index</th>\n",
       "      <th>clique_size</th>\n",
       "      <th>graph_size</th>\n",
       "    </tr>\n",
       "  </thead>\n",
       "  <tbody>\n",
       "    <tr>\n",
       "      <th>222</th>\n",
       "      <td>canvas-keyboard-response</td>\n",
       "      <td>725.0</td>\n",
       "      <td></td>\n",
       "      <td>[2,219,239,123,188,70,165,179,122,124,44,147,9...</td>\n",
       "      <td>arrowleft</td>\n",
       "      <td>NaN</td>\n",
       "      <td>NaN</td>\n",
       "      <td>3.0</td>\n",
       "      <td>28.0</td>\n",
       "      <td>12.0</td>\n",
       "      <td>300.0</td>\n",
       "    </tr>\n",
       "    <tr>\n",
       "      <th>223</th>\n",
       "      <td>canvas-keyboard-response</td>\n",
       "      <td>910.0</td>\n",
       "      <td></td>\n",
       "      <td>[177,68,231,202,125,105,211,13,72,262,74,205,1...</td>\n",
       "      <td>arrowleft</td>\n",
       "      <td>NaN</td>\n",
       "      <td>NaN</td>\n",
       "      <td>3.0</td>\n",
       "      <td>28.0</td>\n",
       "      <td>12.0</td>\n",
       "      <td>300.0</td>\n",
       "    </tr>\n",
       "    <tr>\n",
       "      <th>224</th>\n",
       "      <td>canvas-keyboard-response</td>\n",
       "      <td>615.0</td>\n",
       "      <td></td>\n",
       "      <td>[15,37,237,163,98,85,118,84,223,221,154,65,87,...</td>\n",
       "      <td>arrowleft</td>\n",
       "      <td>NaN</td>\n",
       "      <td>NaN</td>\n",
       "      <td>3.0</td>\n",
       "      <td>28.0</td>\n",
       "      <td>12.0</td>\n",
       "      <td>300.0</td>\n",
       "    </tr>\n",
       "    <tr>\n",
       "      <th>225</th>\n",
       "      <td>canvas-keyboard-response</td>\n",
       "      <td>887.0</td>\n",
       "      <td>arrowleft</td>\n",
       "      <td>[69,207,45,149,220,99,64,106,184,115,194,183,2...</td>\n",
       "      <td>arrowleft</td>\n",
       "      <td>[{\"1\":[0],\"2\":[0,0],\"3\":[1,1,0],\"4\":[1,1,0,1],...</td>\n",
       "      <td>True</td>\n",
       "      <td>3.0</td>\n",
       "      <td>28.0</td>\n",
       "      <td>12.0</td>\n",
       "      <td>300.0</td>\n",
       "    </tr>\n",
       "    <tr>\n",
       "      <th>226</th>\n",
       "      <td>canvas-keyboard-response</td>\n",
       "      <td>1258.0</td>\n",
       "      <td>arrowleft</td>\n",
       "      <td>[88,76,0,174,58,162,43,196,65,152,241,226,246,...</td>\n",
       "      <td>arrowleft</td>\n",
       "      <td>[{\"1\":[0],\"2\":[0,1],\"3\":[1,1,0],\"4\":[1,0,0,1],...</td>\n",
       "      <td>True</td>\n",
       "      <td>3.0</td>\n",
       "      <td>29.0</td>\n",
       "      <td>12.0</td>\n",
       "      <td>300.0</td>\n",
       "    </tr>\n",
       "  </tbody>\n",
       "</table>\n",
       "</div>"
      ],
      "text/plain": [
       "                   trial_type      rt   response  \\\n",
       "222  canvas-keyboard-response   725.0              \n",
       "223  canvas-keyboard-response   910.0              \n",
       "224  canvas-keyboard-response   615.0              \n",
       "225  canvas-keyboard-response   887.0  arrowleft   \n",
       "226  canvas-keyboard-response  1258.0  arrowleft   \n",
       "\n",
       "                                           nodes_order correct_response  \\\n",
       "222  [2,219,239,123,188,70,165,179,122,124,44,147,9...        arrowleft   \n",
       "223  [177,68,231,202,125,105,211,13,72,262,74,205,1...        arrowleft   \n",
       "224  [15,37,237,163,98,85,118,84,223,221,154,65,87,...        arrowleft   \n",
       "225  [69,207,45,149,220,99,64,106,184,115,194,183,2...        arrowleft   \n",
       "226  [88,76,0,174,58,162,43,196,65,152,241,226,246,...        arrowleft   \n",
       "\n",
       "                                         graphs_couple accuracy  block_index  \\\n",
       "222                                                NaN      NaN          3.0   \n",
       "223                                                NaN      NaN          3.0   \n",
       "224                                                NaN      NaN          3.0   \n",
       "225  [{\"1\":[0],\"2\":[0,0],\"3\":[1,1,0],\"4\":[1,1,0,1],...     True          3.0   \n",
       "226  [{\"1\":[0],\"2\":[0,1],\"3\":[1,1,0],\"4\":[1,0,0,1],...     True          3.0   \n",
       "\n",
       "     presentation_index  clique_size  graph_size  \n",
       "222                28.0         12.0       300.0  \n",
       "223                28.0         12.0       300.0  \n",
       "224                28.0         12.0       300.0  \n",
       "225                28.0         12.0       300.0  \n",
       "226                29.0         12.0       300.0  "
      ]
     },
     "execution_count": 18,
     "metadata": {},
     "output_type": "execute_result"
    }
   ],
   "source": [
    "# creating empty dataframe:\n",
    "data = pd.DataFrame()\n",
    "# accessing all json files in 'data' directory:\n",
    "files = Path('C:/Users/danie/OneDrive/Desktop/HUPLACLIP-analysis/data_analysis/pilot_1/data/').glob('*.csv')\n",
    "fileCounter = 0\n",
    "for file in files:\n",
    "    # reading single csv file as dataframe\n",
    "    df = pd.read_csv(file)\n",
    "    # adding single dataframe to general dataframe:\n",
    "    data = pd.concat([data,df])\n",
    "    # incrementing file counter (will be used to label the graph):\n",
    "    fileCounter += 1\n",
    "\n",
    "# checking dimension of data and printing the names of the variables:\n",
    "print(data.shape)\n",
    "print(data.columns.tolist())\n",
    "\n",
    "# isolating experiment trials (\"canvas-keyboard-response\" ones)\n",
    "data_experiment = data[data.trial_type == \"canvas-keyboard-response\"]\n",
    "\n",
    "# dropping irrelevant variables:\n",
    "data_experiment.drop([\"view_history\",\"trial_index\", \"time_elapsed\",\"internal_node_id\" ,\"success\", \"timeout\", \"failed_images\", \"failed_audio\", \"failed_video\", \"stimulus\"], axis=1, inplace=True)\n",
    "\n",
    "# checking that cleaning happened successfully:\n",
    "print(data_experiment.shape)\n",
    "data_experiment.tail()"
   ]
  },
  {
   "cell_type": "code",
   "execution_count": 19,
   "metadata": {},
   "outputs": [
    {
     "name": "stdout",
     "output_type": "stream",
     "text": [
      "(360, 11)\n",
      "175.0    24\n",
      "163.0    24\n",
      "152.0    24\n",
      "140.0    24\n",
      "128.0    24\n",
      "117.0    24\n",
      "105.0    24\n",
      "93.0     24\n",
      "82.0     24\n",
      "70.0     24\n",
      "58.0     24\n",
      "47.0     24\n",
      "35.0     24\n",
      "23.0     24\n",
      "12.0     24\n",
      "Name: clique_size, dtype: int64\n"
     ]
    }
   ],
   "source": [
    "# isolating trials were final responses were given (shuffles have \" \" as response):\n",
    "data_experiment_final = data_experiment[data_experiment['response'].isin(['arrowright','arrowleft'])]\n",
    "print(data_experiment_final.shape)     # final responses = 12*(number of csv files in data folder)\n",
    "# counting the final answers for each clique size\n",
    "print(data_experiment_final['clique_size'].value_counts()  )"
   ]
  },
  {
   "cell_type": "code",
   "execution_count": 20,
   "metadata": {},
   "outputs": [
    {
     "data": {
      "text/plain": [
       "Text(0.5, 1.0, 'sample size = 3')"
      ]
     },
     "execution_count": 20,
     "metadata": {},
     "output_type": "execute_result"
    },
    {
     "data": {
      "image/png": "[encoded data removed]",
      "text/plain": [
       "<Figure size 640x480 with 1 Axes>"
      ]
     },
     "metadata": {},
     "output_type": "display_data"
    }
   ],
   "source": [
    "# plotting fraction correct as a function of \"clique_size\"\n",
    "# - calculating accuracy for the different levels of \"clique_size\"\n",
    "fraction_correct_dict = dict()\n",
    "# reversing the order of clique_size array:\n",
    "reversed_clique_size_array = df1_cleaned_final_answers.clique_size.unique()[::-1]\n",
    "for i in reversed_clique_size_array:\n",
    "    # isolating data of current clique size:\n",
    "    current_data = data_experiment_final[data_experiment_final.clique_size == i]\n",
    "    # calculating fraction correct for current clique size\n",
    "    fraction_correct_current_clique_size = sum(current_data.accuracy == True) / sum(~ current_data.accuracy.isna())\n",
    "    # adding to the dictionary\n",
    "    fraction_correct_dict[str(round(i))] = fraction_correct_current_clique_size\n",
    "    \n",
    "    # #DEBUG:\n",
    "    # print(\"clique size:\")\n",
    "    # print(i)\n",
    "    # print(\"fraction correct:\")\n",
    "    # print(fraction_correct_current_clique_size)\n",
    "    # print(current_data.accuracy)\n",
    "    \n",
    "# plotting the results:\n",
    "# - obtaining appropriate x and y values:\n",
    "x_values = list(fraction_correct_dict.keys())\n",
    "x_values = [int(x_value)/(math.sqrt(300))  for x_value in x_values]\n",
    "y_values = list(fraction_correct_dict.values())\n",
    "y_values = [y_value * 100 for y_value in y_values]\n",
    "# - drawing plot:\n",
    "plt.plot(x_values,y_values)\n",
    "plt.xlabel(\"k/sqrt(300)\")\n",
    "plt.ylabel(\"% of correct responses\")\n",
    "# plotting chance level line and adding legend\n",
    "plt.axhline(y = 50, color = 'r', linestyle = 'dashed', label = \"chance level\")\n",
    "plt.legend(loc = 'lower right')\n",
    "plt.suptitle(\"Accuracy as a function of K/sqrt(300)\", fontsize = 15)\n",
    "plt.title('sample size = {}'.format(fileCounter), fontstyle= \"italic\")"
   ]
  },
  {
   "cell_type": "markdown",
   "metadata": {},
   "source": [
    "---------------------------------------------------------------------"
   ]
  },
  {
   "attachments": {},
   "cell_type": "markdown",
   "metadata": {},
   "source": [
    "(TO ADAPT FROM HERE ON)"
   ]
  },
  {
   "attachments": {},
   "cell_type": "markdown",
   "metadata": {},
   "source": [
    "- Accuracy:"
   ]
  },
  {
   "cell_type": "code",
   "execution_count": 6,
   "metadata": {},
   "outputs": [
    {
     "name": "stdout",
     "output_type": "stream",
     "text": [
      "0.825\n",
      "[200. 190. 180. 170. 160. 150. 140. 130. 120. 110. 100.  90.  80.  70.\n",
      "  60.  50.  40.  30.  20.  10.]\n"
     ]
    },
    {
     "data": {
      "image/png": "[encoded data removed]",
      "text/plain": [
       "<Figure size 640x480 with 1 Axes>"
      ]
     },
     "metadata": {},
     "output_type": "display_data"
    }
   ],
   "source": [
    "# 1. overall accuracy ( # correct answers / # final answers )\n",
    "overall_accuracy = sum(data_experiment.correctnessOfResponse == 1) / sum(~ data_experiment.correctnessOfResponse.isna())\n",
    "print(overall_accuracy)\n",
    "\n",
    "# 2. calculating accuracy for the levels of \"cliqueSize\"\n",
    "# - obtaining levels of \"cliqueSize\" (this should match with experiment parameters)\n",
    "print(data_experiment.cliqueSize.unique())\n",
    "# - calculating accuracy for the different levels of \"cliqueSize\"\n",
    "accuracy_dict = dict()\n",
    "for i in data_experiment.cliqueSize.unique():\n",
    "    # isolating data of current clique size:\n",
    "    current_data = data_experiment[data_experiment.cliqueSize == i]\n",
    "    accuracy_current_cliqueSize = sum(current_data.correctnessOfResponse == 1) / sum(~ current_data.correctnessOfResponse.isna())\n",
    "    accuracy_dict[str(round(i))] = accuracy_current_cliqueSize\n",
    "# plotting the results:\n",
    "x_values = accuracy_dict.keys()\n",
    "y_values = accuracy_dict.values()\n",
    "plt.plot(x_values,y_values)\n",
    "plt.xlabel(\"clique size in graph of 300 nodes\")\n",
    "plt.ylabel(\"accuracy\")\n",
    "plt.tick_params(axis='x', which='major', labelsize=7)"
   ]
  },
  {
   "attachments": {},
   "cell_type": "markdown",
   "metadata": {},
   "source": [
    "- Number of shuffles:"
   ]
  },
  {
   "cell_type": "code",
   "execution_count": 7,
   "metadata": {},
   "outputs": [],
   "source": [
    "# 1. average number of shuffles\n",
    "# 2. calculating number of shuffles for the levels of \"cliqueSize\"  (plotting the results)\n",
    "# note: if number of shuffles increases as a function of \"cliqueSize\", it could be helping subjects for difficult instances of the task"
   ]
  },
  {
   "attachments": {},
   "cell_type": "markdown",
   "metadata": {},
   "source": [
    "- Reaction times:"
   ]
  },
  {
   "cell_type": "code",
   "execution_count": 8,
   "metadata": {},
   "outputs": [
    {
     "name": "stdout",
     "output_type": "stream",
     "text": [
      "False    391\n",
      "True       4\n",
      "Name: rt, dtype: int64\n"
     ]
    },
    {
     "data": {
      "image/png": "[encoded data removed]",
      "text/plain": [
       "<Figure size 640x480 with 1 Axes>"
      ]
     },
     "metadata": {},
     "output_type": "display_data"
    },
    {
     "data": {
      "image/png": "[encoded data removed]",
      "text/plain": [
       "<Figure size 640x480 with 2 Axes>"
      ]
     },
     "metadata": {},
     "output_type": "display_data"
    }
   ],
   "source": [
    "# 1. average RT (for all trials, both final responses and shuffles)\n",
    "# 2. RT as a function of \"cliqueSize\"\n",
    "# note: if reaction time increases as a function of \"cliqueSize\", it could be an indication of increasing difficulty\n",
    "\n",
    "###########################################################\n",
    "\n",
    "\n",
    "# histogram of reaction times distribution (TO REVIEW):\n",
    "data.rt.hist(bins=100)\n",
    "# counting trials that were too slow and removing them (exclusion criterion: rt>7500)\n",
    "print((data.rt>=7500).value_counts())\n",
    "data_filtered = data.query('rt < 7500')\n",
    "\n",
    "#plotting unfiltered and filtered data:\n",
    "fig, (ax1,ax2) = plt.subplots(1, 2,sharex=True)\n",
    "min_ylim, max_ylim = plt.ylim()\n",
    "#unfiltered data\n",
    "ax1.hist(data.rt,bins=100)\n",
    "ax1.axvline(data.rt.mean(), color='k', linestyle='dashed', linewidth=1)\n",
    "ax1.text(data.rt.mean()*1.1,max_ylim*0.9, 'Mean: {:.2f}'.format(data.rt.mean()))\n",
    "ax1.set_title(\"RTs of Unfiltered data\")\n",
    "#filtered data\n",
    "ax2.hist(data_filtered.rt,bins=100)\n",
    "ax2.axvline(data_filtered.rt.mean(), color='k', linestyle='dashed', linewidth=1)\n",
    "ax2.text(data_filtered.rt.mean()*1.1,max_ylim*0.9, 'Mean: {:.2f}'.format(data_filtered.rt.mean()))\n",
    "ax2.set_title(\"RTs of Filtered data\")\n",
    "plt.show()"
   ]
  }
 ],
 "metadata": {
  "kernelspec": {
   "display_name": "Python 3",
   "language": "python",
   "name": "python3"
  },
  "language_info": {
   "codemirror_mode": {
    "name": "ipython",
    "version": 3
   },
   "file_extension": ".py",
   "mimetype": "text/x-python",
   "name": "python",
   "nbconvert_exporter": "python",
   "pygments_lexer": "ipython3",
   "version": "3.10.11"
  },
  "orig_nbformat": 4,
  "vscode": {
   "interpreter": {
    "hash": "2bf4de0ff22098ac7e3c49548bdd81cde03d0920bc2c90f4bd7508ddd9bf976b"
   }
  }
 },
 "nbformat": 4,
 "nbformat_minor": 2
}
