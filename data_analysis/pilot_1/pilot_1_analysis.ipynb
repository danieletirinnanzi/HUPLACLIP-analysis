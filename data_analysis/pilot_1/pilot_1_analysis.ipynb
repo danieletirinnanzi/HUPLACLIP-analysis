{
 "cells": [
  {
   "attachments": {},
   "cell_type": "markdown",
   "metadata": {},
   "source": [
    "EXPLANATION OF OUTPUT VARIABLES (the relevant trials are the \"canvas-keyboard-response\" ones):\n",
    "\n",
    "Experiment flow:\n",
    "- *block_index* -> index of the block (NB: starts from zero)\n",
    "- *presentation_index* -> index of the presentation inside one block (NB: starts from zero)\n",
    "\n",
    "Experiment parameters:\n",
    "- *clique_size* -> size of the clique in one of the two displayed graphs\n",
    "- *graphs_size* -> size of the displayed graphs \n",
    "- *graphs_couple* -> couple of graphs shown in current trial\n",
    "- *nodes_order* -> order of the nodes in current trial\n",
    "\n",
    "Dependent variables:\n",
    "- *rt* -> response time in ms (collected automatically)\n",
    "- *response* -> in this experiment, the accepted keys are \" \"; \"arrowright\" or \"arrowleft\"\n",
    "- *accuracy* -> this variable is manually computed and added only to the trials where response was arrowright or arrowleft\n",
    "\n",
    "Comparison variables:\n",
    "- *correct_response* -> correct response for current trial\n",
    "\n",
    "Produced automatically / not relevant:\n",
    "\n",
    "For all trials:\n",
    "- *trial_type* -> the name of the plugin used to run the trial (the real trials of the experiment are \"canvas-keyboard-response\")\n",
    "- *trial_index* -> the index of the current trial across the whole experiment (it is a global counter of trials, it also includes instructions and tutorial ones)\n",
    "- *time_elapsed* -> the number of milliseconds between the start of the experiment and when the trial ended\n",
    "- *internal_node_id* -> string identifier for the current TimelineNode\n",
    "\n",
    "For preload plugin:\n",
    "- *success*\t-> if true, then all files loaded successfully within the max_load_time. If false, then one or more file requests returned a failure and/or the file loading did not complete within the max_load_time duration.\n",
    "- *timeout* -> \tif true, then the files did not finish loading within the max_load_time duration. If false, then the file loading did not timeout.\n",
    "- *failed_images* -> one or more image file paths that produced a loading failure before the trial ended.\n",
    "- *failed_audio* -> one or more audio file paths that produced a loading failure before the trial ended.\n",
    "- *failed_video* -> one or more video file paths that produced a loading failure before the trial ended.\n",
    "\n",
    "For instructions plugin:\n",
    "- *rt* -> the response time (in ms) for the subject to view all of the pages\n",
    "- *view_history* -> array containing the order of pages the subject viewed (collected only for \"instructions\" plugin)\n",
    "\n",
    "For image-keyboard-response plugin:\n",
    "- *stimulus* -> the path of the image that was displayed.\n",
    "\n"
   ]
  },
  {
   "attachments": {},
   "cell_type": "markdown",
   "metadata": {},
   "source": [
    "------------------------------------------------------------------------------------------------------------"
   ]
  },
  {
   "attachments": {},
   "cell_type": "markdown",
   "metadata": {},
   "source": [
    "Importing packages:"
   ]
  },
  {
   "cell_type": "code",
   "execution_count": 1,
   "metadata": {},
   "outputs": [],
   "source": [
    "import pandas as pd\n",
    "import numpy as np\n",
    "import math\n",
    "from matplotlib import pyplot as plt\n",
    "from pathlib import Path"
   ]
  },
  {
   "attachments": {},
   "cell_type": "markdown",
   "metadata": {},
   "source": [
    "Importing and \"cleaning\" a single experiment csv file:"
   ]
  },
  {
   "cell_type": "code",
   "execution_count": 2,
   "metadata": {},
   "outputs": [
    {
     "name": "stdout",
     "output_type": "stream",
     "text": [
      "(403, 21)\n",
      "<class 'pandas.core.frame.DataFrame'>\n",
      "RangeIndex: 403 entries, 0 to 402\n",
      "Data columns (total 21 columns):\n",
      " #   Column              Non-Null Count  Dtype  \n",
      "---  ------              --------------  -----  \n",
      " 0   trial_type          403 non-null    object \n",
      " 1   trial_index         403 non-null    int64  \n",
      " 2   time_elapsed        403 non-null    int64  \n",
      " 3   internal_node_id    403 non-null    object \n",
      " 4   view_history        8 non-null      object \n",
      " 5   rt                  399 non-null    float64\n",
      " 6   success             3 non-null      object \n",
      " 7   timeout             3 non-null      object \n",
      " 8   failed_images       3 non-null      object \n",
      " 9   failed_audio        3 non-null      object \n",
      " 10  failed_video        3 non-null      object \n",
      " 11  stimulus            39 non-null     object \n",
      " 12  response            391 non-null    object \n",
      " 13  nodes_order         352 non-null    object \n",
      " 14  correct_response    352 non-null    object \n",
      " 15  graphs_couple       120 non-null    object \n",
      " 16  accuracy            120 non-null    object \n",
      " 17  block_index         352 non-null    float64\n",
      " 18  presentation_index  352 non-null    float64\n",
      " 19  clique_size         352 non-null    float64\n",
      " 20  graph_size          352 non-null    float64\n",
      "dtypes: float64(5), int64(2), object(14)\n",
      "memory usage: 66.2+ KB\n",
      "None\n"
     ]
    }
   ],
   "source": [
    "file1Path = Path('C:/Users/danie/OneDrive/Desktop/HUPLACLIP-analysis/data_analysis/pilot_1/data/HUPLACLIP_pilot_subj10_2023-04-27_18h19.29.962.csv')\n",
    "df1 = pd.read_csv(file1Path)\n",
    "print(df1.shape)\n",
    "print(df1.info())"
   ]
  },
  {
   "cell_type": "code",
   "execution_count": 3,
   "metadata": {},
   "outputs": [
    {
     "name": "stdout",
     "output_type": "stream",
     "text": [
      "<class 'pandas.core.frame.DataFrame'>\n",
      "Int64Index: 352 entries, 47 to 401\n",
      "Data columns (total 21 columns):\n",
      " #   Column              Non-Null Count  Dtype  \n",
      "---  ------              --------------  -----  \n",
      " 0   trial_type          352 non-null    object \n",
      " 1   trial_index         352 non-null    int64  \n",
      " 2   time_elapsed        352 non-null    int64  \n",
      " 3   internal_node_id    352 non-null    object \n",
      " 4   view_history        0 non-null      object \n",
      " 5   rt                  352 non-null    float64\n",
      " 6   success             0 non-null      object \n",
      " 7   timeout             0 non-null      object \n",
      " 8   failed_images       0 non-null      object \n",
      " 9   failed_audio        0 non-null      object \n",
      " 10  failed_video        0 non-null      object \n",
      " 11  stimulus            0 non-null      object \n",
      " 12  response            352 non-null    object \n",
      " 13  nodes_order         352 non-null    object \n",
      " 14  correct_response    352 non-null    object \n",
      " 15  graphs_couple       120 non-null    object \n",
      " 16  accuracy            120 non-null    object \n",
      " 17  block_index         352 non-null    float64\n",
      " 18  presentation_index  352 non-null    float64\n",
      " 19  clique_size         352 non-null    float64\n",
      " 20  graph_size          352 non-null    float64\n",
      "dtypes: float64(5), int64(2), object(14)\n",
      "memory usage: 60.5+ KB\n",
      "None\n"
     ]
    }
   ],
   "source": [
    "# isolating experiment trials (\"canvas-keyboard-response\" ones)\n",
    "df1_experiment = df1[df1.trial_type == \"canvas-keyboard-response\"]\n",
    "df1_experiment.head()\n",
    "print(df1_experiment.info())"
   ]
  },
  {
   "cell_type": "code",
   "execution_count": 4,
   "metadata": {},
   "outputs": [
    {
     "name": "stdout",
     "output_type": "stream",
     "text": [
      "<class 'pandas.core.frame.DataFrame'>\n",
      "Int64Index: 352 entries, 47 to 401\n",
      "Data columns (total 11 columns):\n",
      " #   Column              Non-Null Count  Dtype  \n",
      "---  ------              --------------  -----  \n",
      " 0   trial_type          352 non-null    object \n",
      " 1   rt                  352 non-null    float64\n",
      " 2   response            352 non-null    object \n",
      " 3   nodes_order         352 non-null    object \n",
      " 4   correct_response    352 non-null    object \n",
      " 5   graphs_couple       120 non-null    object \n",
      " 6   accuracy            120 non-null    object \n",
      " 7   block_index         352 non-null    float64\n",
      " 8   presentation_index  352 non-null    float64\n",
      " 9   clique_size         352 non-null    float64\n",
      " 10  graph_size          352 non-null    float64\n",
      "dtypes: float64(5), object(6)\n",
      "memory usage: 33.0+ KB\n",
      "None\n"
     ]
    }
   ],
   "source": [
    "# dropping empty/irrelevant variables:\n",
    "df1_cleaned = df1_experiment.drop([\"view_history\",\"trial_index\", \"time_elapsed\",\"internal_node_id\" ,\"success\", \"timeout\", \"failed_images\", \"failed_audio\", \"failed_video\", \"stimulus\"], axis=1)\n",
    "print(df1_cleaned.info())"
   ]
  },
  {
   "cell_type": "code",
   "execution_count": 5,
   "metadata": {},
   "outputs": [
    {
     "data": {
      "text/html": [
       "<div>\n",
       "<style scoped>\n",
       "    .dataframe tbody tr th:only-of-type {\n",
       "        vertical-align: middle;\n",
       "    }\n",
       "\n",
       "    .dataframe tbody tr th {\n",
       "        vertical-align: top;\n",
       "    }\n",
       "\n",
       "    .dataframe thead th {\n",
       "        text-align: right;\n",
       "    }\n",
       "</style>\n",
       "<table border=\"1\" class=\"dataframe\">\n",
       "  <thead>\n",
       "    <tr style=\"text-align: right;\">\n",
       "      <th></th>\n",
       "      <th>trial_type</th>\n",
       "      <th>rt</th>\n",
       "      <th>response</th>\n",
       "      <th>nodes_order</th>\n",
       "      <th>correct_response</th>\n",
       "      <th>graphs_couple</th>\n",
       "      <th>accuracy</th>\n",
       "      <th>block_index</th>\n",
       "      <th>presentation_index</th>\n",
       "      <th>clique_size</th>\n",
       "      <th>graph_size</th>\n",
       "    </tr>\n",
       "  </thead>\n",
       "  <tbody>\n",
       "    <tr>\n",
       "      <th>397</th>\n",
       "      <td>canvas-keyboard-response</td>\n",
       "      <td>2035.0</td>\n",
       "      <td></td>\n",
       "      <td>[293,118,130,117,64,111,50,78,291,120,160,204,...</td>\n",
       "      <td>arrowright</td>\n",
       "      <td>NaN</td>\n",
       "      <td>NaN</td>\n",
       "      <td>3.0</td>\n",
       "      <td>29.0</td>\n",
       "      <td>12.0</td>\n",
       "      <td>300.0</td>\n",
       "    </tr>\n",
       "    <tr>\n",
       "      <th>398</th>\n",
       "      <td>canvas-keyboard-response</td>\n",
       "      <td>957.0</td>\n",
       "      <td></td>\n",
       "      <td>[219,297,233,234,273,103,278,55,283,37,244,284...</td>\n",
       "      <td>arrowright</td>\n",
       "      <td>NaN</td>\n",
       "      <td>NaN</td>\n",
       "      <td>3.0</td>\n",
       "      <td>29.0</td>\n",
       "      <td>12.0</td>\n",
       "      <td>300.0</td>\n",
       "    </tr>\n",
       "    <tr>\n",
       "      <th>399</th>\n",
       "      <td>canvas-keyboard-response</td>\n",
       "      <td>826.0</td>\n",
       "      <td></td>\n",
       "      <td>[274,174,236,178,117,119,123,209,240,60,146,72...</td>\n",
       "      <td>arrowright</td>\n",
       "      <td>NaN</td>\n",
       "      <td>NaN</td>\n",
       "      <td>3.0</td>\n",
       "      <td>29.0</td>\n",
       "      <td>12.0</td>\n",
       "      <td>300.0</td>\n",
       "    </tr>\n",
       "    <tr>\n",
       "      <th>400</th>\n",
       "      <td>canvas-keyboard-response</td>\n",
       "      <td>1492.0</td>\n",
       "      <td></td>\n",
       "      <td>[184,277,45,164,214,74,272,75,292,9,160,271,27...</td>\n",
       "      <td>arrowright</td>\n",
       "      <td>NaN</td>\n",
       "      <td>NaN</td>\n",
       "      <td>3.0</td>\n",
       "      <td>29.0</td>\n",
       "      <td>12.0</td>\n",
       "      <td>300.0</td>\n",
       "    </tr>\n",
       "    <tr>\n",
       "      <th>401</th>\n",
       "      <td>canvas-keyboard-response</td>\n",
       "      <td>2215.0</td>\n",
       "      <td>arrowright</td>\n",
       "      <td>[239,114,52,18,140,139,64,42,45,131,39,217,144...</td>\n",
       "      <td>arrowright</td>\n",
       "      <td>[{\"1\":[0],\"2\":[0,0],\"3\":[1,1,1],\"4\":[1,0,0,0],...</td>\n",
       "      <td>True</td>\n",
       "      <td>3.0</td>\n",
       "      <td>29.0</td>\n",
       "      <td>12.0</td>\n",
       "      <td>300.0</td>\n",
       "    </tr>\n",
       "  </tbody>\n",
       "</table>\n",
       "</div>"
      ],
      "text/plain": [
       "                   trial_type      rt    response  \\\n",
       "397  canvas-keyboard-response  2035.0               \n",
       "398  canvas-keyboard-response   957.0               \n",
       "399  canvas-keyboard-response   826.0               \n",
       "400  canvas-keyboard-response  1492.0               \n",
       "401  canvas-keyboard-response  2215.0  arrowright   \n",
       "\n",
       "                                           nodes_order correct_response  \\\n",
       "397  [293,118,130,117,64,111,50,78,291,120,160,204,...       arrowright   \n",
       "398  [219,297,233,234,273,103,278,55,283,37,244,284...       arrowright   \n",
       "399  [274,174,236,178,117,119,123,209,240,60,146,72...       arrowright   \n",
       "400  [184,277,45,164,214,74,272,75,292,9,160,271,27...       arrowright   \n",
       "401  [239,114,52,18,140,139,64,42,45,131,39,217,144...       arrowright   \n",
       "\n",
       "                                         graphs_couple accuracy  block_index  \\\n",
       "397                                                NaN      NaN          3.0   \n",
       "398                                                NaN      NaN          3.0   \n",
       "399                                                NaN      NaN          3.0   \n",
       "400                                                NaN      NaN          3.0   \n",
       "401  [{\"1\":[0],\"2\":[0,0],\"3\":[1,1,1],\"4\":[1,0,0,0],...     True          3.0   \n",
       "\n",
       "     presentation_index  clique_size  graph_size  \n",
       "397                29.0         12.0       300.0  \n",
       "398                29.0         12.0       300.0  \n",
       "399                29.0         12.0       300.0  \n",
       "400                29.0         12.0       300.0  \n",
       "401                29.0         12.0       300.0  "
      ]
     },
     "execution_count": 5,
     "metadata": {},
     "output_type": "execute_result"
    }
   ],
   "source": [
    "# visualizing the data\n",
    "df1_cleaned.tail()"
   ]
  },
  {
   "cell_type": "code",
   "execution_count": 6,
   "metadata": {},
   "outputs": [
    {
     "data": {
      "text/plain": [
       "(352, 11)"
      ]
     },
     "execution_count": 6,
     "metadata": {},
     "output_type": "execute_result"
    }
   ],
   "source": [
    "# checking size:\n",
    "df1_cleaned.shape"
   ]
  },
  {
   "cell_type": "code",
   "execution_count": 7,
   "metadata": {},
   "outputs": [
    {
     "name": "stdout",
     "output_type": "stream",
     "text": [
      "(120, 11)\n"
     ]
    },
    {
     "data": {
      "text/plain": [
       "175.0    8\n",
       "163.0    8\n",
       "152.0    8\n",
       "140.0    8\n",
       "128.0    8\n",
       "117.0    8\n",
       "105.0    8\n",
       "93.0     8\n",
       "82.0     8\n",
       "70.0     8\n",
       "58.0     8\n",
       "47.0     8\n",
       "35.0     8\n",
       "23.0     8\n",
       "12.0     8\n",
       "Name: clique_size, dtype: int64"
      ]
     },
     "execution_count": 7,
     "metadata": {},
     "output_type": "execute_result"
    }
   ],
   "source": [
    "# isolating trials were final responses were given (shuffles have \" \" as response):\n",
    "df1_cleaned_final_answers = df1_cleaned[df1_cleaned['response'].isin(['arrowright','arrowleft'])]\n",
    "print(df1_cleaned_final_answers.shape)     #final responses should be 120 (30 for each one of the 4 blocks)\n",
    "# counting the final answers for each clique size\n",
    "df1_cleaned_final_answers['clique_size'].value_counts()  #the clique sizes should be 15, and there should be 8 trials for each clique size"
   ]
  },
  {
   "cell_type": "code",
   "execution_count": 8,
   "metadata": {},
   "outputs": [
    {
     "name": "stdout",
     "output_type": "stream",
     "text": [
      "clique size:\n",
      "12.0\n",
      "fraction correct:\n",
      "0.625\n",
      "112    False\n",
      "124    False\n",
      "197     True\n",
      "207    False\n",
      "272     True\n",
      "284     True\n",
      "392     True\n",
      "401     True\n",
      "Name: accuracy, dtype: object\n",
      "clique size:\n",
      "23.0\n",
      "fraction correct:\n",
      "0.375\n",
      "97     False\n",
      "99     False\n",
      "182     True\n",
      "186    False\n",
      "263    False\n",
      "270    False\n",
      "370     True\n",
      "384     True\n",
      "Name: accuracy, dtype: object\n",
      "clique size:\n",
      "35.0\n",
      "fraction correct:\n",
      "0.625\n",
      "84      True\n",
      "87      True\n",
      "164     True\n",
      "174    False\n",
      "253     True\n",
      "259     True\n",
      "339    False\n",
      "351    False\n",
      "Name: accuracy, dtype: object\n",
      "clique size:\n",
      "47.0\n",
      "fraction correct:\n",
      "0.75\n",
      "75     False\n",
      "83      True\n",
      "155     True\n",
      "161     True\n",
      "244    False\n",
      "247     True\n",
      "329     True\n",
      "335     True\n",
      "Name: accuracy, dtype: object\n",
      "clique size:\n",
      "58.0\n",
      "fraction correct:\n",
      "0.75\n",
      "67      True\n",
      "68      True\n",
      "150    False\n",
      "151     True\n",
      "231    False\n",
      "241     True\n",
      "317     True\n",
      "324     True\n",
      "Name: accuracy, dtype: object\n",
      "clique size:\n",
      "70.0\n",
      "fraction correct:\n",
      "1.0\n",
      "65     True\n",
      "66     True\n",
      "144    True\n",
      "148    True\n",
      "227    True\n",
      "229    True\n",
      "305    True\n",
      "309    True\n",
      "Name: accuracy, dtype: object\n",
      "clique size:\n",
      "82.0\n",
      "fraction correct:\n",
      "1.0\n",
      "63     True\n",
      "64     True\n",
      "142    True\n",
      "143    True\n",
      "225    True\n",
      "226    True\n",
      "302    True\n",
      "303    True\n",
      "Name: accuracy, dtype: object\n",
      "clique size:\n",
      "93.0\n",
      "fraction correct:\n",
      "1.0\n",
      "61     True\n",
      "62     True\n",
      "140    True\n",
      "141    True\n",
      "223    True\n",
      "224    True\n",
      "300    True\n",
      "301    True\n",
      "Name: accuracy, dtype: object\n",
      "clique size:\n",
      "105.0\n",
      "fraction correct:\n",
      "1.0\n",
      "59     True\n",
      "60     True\n",
      "138    True\n",
      "139    True\n",
      "221    True\n",
      "222    True\n",
      "298    True\n",
      "299    True\n",
      "Name: accuracy, dtype: object\n",
      "clique size:\n",
      "117.0\n",
      "fraction correct:\n",
      "1.0\n",
      "57     True\n",
      "58     True\n",
      "136    True\n",
      "137    True\n",
      "219    True\n",
      "220    True\n",
      "296    True\n",
      "297    True\n",
      "Name: accuracy, dtype: object\n",
      "clique size:\n",
      "128.0\n",
      "fraction correct:\n",
      "1.0\n",
      "55     True\n",
      "56     True\n",
      "134    True\n",
      "135    True\n",
      "217    True\n",
      "218    True\n",
      "294    True\n",
      "295    True\n",
      "Name: accuracy, dtype: object\n",
      "clique size:\n",
      "140.0\n",
      "fraction correct:\n",
      "1.0\n",
      "53     True\n",
      "54     True\n",
      "132    True\n",
      "133    True\n",
      "215    True\n",
      "216    True\n",
      "292    True\n",
      "293    True\n",
      "Name: accuracy, dtype: object\n",
      "clique size:\n",
      "152.0\n",
      "fraction correct:\n",
      "1.0\n",
      "51     True\n",
      "52     True\n",
      "130    True\n",
      "131    True\n",
      "213    True\n",
      "214    True\n",
      "290    True\n",
      "291    True\n",
      "Name: accuracy, dtype: object\n",
      "clique size:\n",
      "163.0\n",
      "fraction correct:\n",
      "1.0\n",
      "49     True\n",
      "50     True\n",
      "128    True\n",
      "129    True\n",
      "211    True\n",
      "212    True\n",
      "288    True\n",
      "289    True\n",
      "Name: accuracy, dtype: object\n",
      "clique size:\n",
      "175.0\n",
      "fraction correct:\n",
      "1.0\n",
      "47     True\n",
      "48     True\n",
      "126    True\n",
      "127    True\n",
      "209    True\n",
      "210    True\n",
      "286    True\n",
      "287    True\n",
      "Name: accuracy, dtype: object\n"
     ]
    },
    {
     "data": {
      "text/plain": [
       "Text(0.5, 1.0, 'sample size = 1')"
      ]
     },
     "execution_count": 8,
     "metadata": {},
     "output_type": "execute_result"
    },
    {
     "data": {
      "image/png": "[encoded data removed]",
      "text/plain": [
       "<Figure size 640x480 with 1 Axes>"
      ]
     },
     "metadata": {},
     "output_type": "display_data"
    }
   ],
   "source": [
    "# plotting fraction correct as a function of \"clique_size\"\n",
    "# - calculating accuracy for the different levels of \"clique_size\"\n",
    "fraction_correct_dict = dict()\n",
    "# reversing the order of clique_size array:\n",
    "reversed_clique_size_array = df1_cleaned_final_answers.clique_size.unique()[::-1]\n",
    "for i in reversed_clique_size_array:\n",
    "    # isolating data of current clique size:\n",
    "    current_data = df1_cleaned_final_answers[df1_cleaned_final_answers.clique_size == i]\n",
    "    # calculating fraction correct for current clique size\n",
    "    fraction_correct_current_clique_size = sum(current_data.accuracy == True) / sum(~ current_data.accuracy.isna())\n",
    "    # adding to the dictionary\n",
    "    fraction_correct_dict[str(round(i))] = fraction_correct_current_clique_size\n",
    "    \n",
    "    #DEBUG:\n",
    "    print(\"clique size:\")\n",
    "    print(i)\n",
    "    print(\"fraction correct:\")\n",
    "    print(fraction_correct_current_clique_size)\n",
    "    print(current_data.accuracy)\n",
    "    \n",
    "# plotting the results:\n",
    "# - obtaining appropriate x and y values:\n",
    "x_values = list(fraction_correct_dict.keys())\n",
    "x_values = [int(x_value)/(math.sqrt(300))  for x_value in x_values]\n",
    "y_values = list(fraction_correct_dict.values())\n",
    "y_values = [y_value * 100 for y_value in y_values]\n",
    "# - drawing plot:\n",
    "plt.plot(x_values,y_values)\n",
    "plt.xlabel(\"k/sqrt(300)\")\n",
    "plt.ylabel(\"% of correct responses\")\n",
    "# plotting chance level line and adding legend\n",
    "plt.axhline(y = 50, color = 'r', linestyle = 'dashed', label = \"chance level\")\n",
    "plt.legend(loc = 'lower right')\n",
    "plt.suptitle(\"Accuracy as a function of K/sqrt(300)\", fontsize = 15)\n",
    "plt.title(\"sample size = 1\", fontstyle= \"italic\")"
   ]
  },
  {
   "attachments": {},
   "cell_type": "markdown",
   "metadata": {},
   "source": [
    "Importing multiple csv files, combining them in a single dataframe and removing irrelvant variables:"
   ]
  },
  {
   "cell_type": "code",
   "execution_count": 15,
   "metadata": {},
   "outputs": [
    {
     "name": "stdout",
     "output_type": "stream",
     "text": [
      "['trial_type', 'trial_index', 'time_elapsed', 'internal_node_id', 'view_history', 'rt', 'success', 'timeout', 'failed_images', 'failed_audio', 'failed_video', 'stimulus', 'response', 'nodes_order', 'correct_response', 'graphs_couple', 'accuracy', 'block_index', 'presentation_index', 'clique_size', 'graph_size']\n",
      "(3572, 21)\n",
      "['trial_type', 'rt', 'response', 'nodes_order', 'correct_response', 'graphs_couple', 'accuracy', 'block_index', 'presentation_index', 'clique_size', 'graph_size']\n",
      "(3062, 11)\n"
     ]
    },
    {
     "name": "stderr",
     "output_type": "stream",
     "text": [
      "C:\\Users\\danie\\AppData\\Local\\Temp\\ipykernel_3044\\1317111911.py:23: SettingWithCopyWarning: \n",
      "A value is trying to be set on a copy of a slice from a DataFrame\n",
      "\n",
      "See the caveats in the documentation: https://pandas.pydata.org/pandas-docs/stable/user_guide/indexing.html#returning-a-view-versus-a-copy\n",
      "  data_experiment.drop([\"view_history\",\"trial_index\", \"time_elapsed\",\"internal_node_id\" ,\"success\", \"timeout\", \"failed_images\", \"failed_audio\", \"failed_video\", \"stimulus\"], axis=1, inplace=True)\n"
     ]
    },
    {
     "data": {
      "text/html": [
       "<div>\n",
       "<style scoped>\n",
       "    .dataframe tbody tr th:only-of-type {\n",
       "        vertical-align: middle;\n",
       "    }\n",
       "\n",
       "    .dataframe tbody tr th {\n",
       "        vertical-align: top;\n",
       "    }\n",
       "\n",
       "    .dataframe thead th {\n",
       "        text-align: right;\n",
       "    }\n",
       "</style>\n",
       "<table border=\"1\" class=\"dataframe\">\n",
       "  <thead>\n",
       "    <tr style=\"text-align: right;\">\n",
       "      <th></th>\n",
       "      <th>trial_type</th>\n",
       "      <th>rt</th>\n",
       "      <th>response</th>\n",
       "      <th>nodes_order</th>\n",
       "      <th>correct_response</th>\n",
       "      <th>graphs_couple</th>\n",
       "      <th>accuracy</th>\n",
       "      <th>block_index</th>\n",
       "      <th>presentation_index</th>\n",
       "      <th>clique_size</th>\n",
       "      <th>graph_size</th>\n",
       "    </tr>\n",
       "  </thead>\n",
       "  <tbody>\n",
       "    <tr>\n",
       "      <th>658</th>\n",
       "      <td>canvas-keyboard-response</td>\n",
       "      <td>649.0</td>\n",
       "      <td></td>\n",
       "      <td>[225,28,261,48,283,108,148,84,54,124,280,251,4...</td>\n",
       "      <td>arrowleft</td>\n",
       "      <td>NaN</td>\n",
       "      <td>NaN</td>\n",
       "      <td>3.0</td>\n",
       "      <td>29.0</td>\n",
       "      <td>12.0</td>\n",
       "      <td>300.0</td>\n",
       "    </tr>\n",
       "    <tr>\n",
       "      <th>659</th>\n",
       "      <td>canvas-keyboard-response</td>\n",
       "      <td>1208.0</td>\n",
       "      <td></td>\n",
       "      <td>[151,31,216,63,230,184,202,234,115,58,211,240,...</td>\n",
       "      <td>arrowleft</td>\n",
       "      <td>NaN</td>\n",
       "      <td>NaN</td>\n",
       "      <td>3.0</td>\n",
       "      <td>29.0</td>\n",
       "      <td>12.0</td>\n",
       "      <td>300.0</td>\n",
       "    </tr>\n",
       "    <tr>\n",
       "      <th>660</th>\n",
       "      <td>canvas-keyboard-response</td>\n",
       "      <td>1134.0</td>\n",
       "      <td></td>\n",
       "      <td>[93,287,285,237,262,181,113,170,63,229,202,209...</td>\n",
       "      <td>arrowleft</td>\n",
       "      <td>NaN</td>\n",
       "      <td>NaN</td>\n",
       "      <td>3.0</td>\n",
       "      <td>29.0</td>\n",
       "      <td>12.0</td>\n",
       "      <td>300.0</td>\n",
       "    </tr>\n",
       "    <tr>\n",
       "      <th>661</th>\n",
       "      <td>canvas-keyboard-response</td>\n",
       "      <td>753.0</td>\n",
       "      <td></td>\n",
       "      <td>[23,239,260,157,151,154,290,53,63,206,64,209,1...</td>\n",
       "      <td>arrowleft</td>\n",
       "      <td>NaN</td>\n",
       "      <td>NaN</td>\n",
       "      <td>3.0</td>\n",
       "      <td>29.0</td>\n",
       "      <td>12.0</td>\n",
       "      <td>300.0</td>\n",
       "    </tr>\n",
       "    <tr>\n",
       "      <th>662</th>\n",
       "      <td>canvas-keyboard-response</td>\n",
       "      <td>650.0</td>\n",
       "      <td>arrowright</td>\n",
       "      <td>[6,198,142,184,147,230,28,208,67,189,261,125,2...</td>\n",
       "      <td>arrowleft</td>\n",
       "      <td>[{\"1\":[0],\"2\":[1,0],\"3\":[1,0,1],\"4\":[0,0,1,0],...</td>\n",
       "      <td>False</td>\n",
       "      <td>3.0</td>\n",
       "      <td>29.0</td>\n",
       "      <td>12.0</td>\n",
       "      <td>300.0</td>\n",
       "    </tr>\n",
       "  </tbody>\n",
       "</table>\n",
       "</div>"
      ],
      "text/plain": [
       "                   trial_type      rt    response  \\\n",
       "658  canvas-keyboard-response   649.0               \n",
       "659  canvas-keyboard-response  1208.0               \n",
       "660  canvas-keyboard-response  1134.0               \n",
       "661  canvas-keyboard-response   753.0               \n",
       "662  canvas-keyboard-response   650.0  arrowright   \n",
       "\n",
       "                                           nodes_order correct_response  \\\n",
       "658  [225,28,261,48,283,108,148,84,54,124,280,251,4...        arrowleft   \n",
       "659  [151,31,216,63,230,184,202,234,115,58,211,240,...        arrowleft   \n",
       "660  [93,287,285,237,262,181,113,170,63,229,202,209...        arrowleft   \n",
       "661  [23,239,260,157,151,154,290,53,63,206,64,209,1...        arrowleft   \n",
       "662  [6,198,142,184,147,230,28,208,67,189,261,125,2...        arrowleft   \n",
       "\n",
       "                                         graphs_couple accuracy  block_index  \\\n",
       "658                                                NaN      NaN          3.0   \n",
       "659                                                NaN      NaN          3.0   \n",
       "660                                                NaN      NaN          3.0   \n",
       "661                                                NaN      NaN          3.0   \n",
       "662  [{\"1\":[0],\"2\":[1,0],\"3\":[1,0,1],\"4\":[0,0,1,0],...    False          3.0   \n",
       "\n",
       "     presentation_index  clique_size  graph_size  \n",
       "658                29.0         12.0       300.0  \n",
       "659                29.0         12.0       300.0  \n",
       "660                29.0         12.0       300.0  \n",
       "661                29.0         12.0       300.0  \n",
       "662                29.0         12.0       300.0  "
      ]
     },
     "execution_count": 15,
     "metadata": {},
     "output_type": "execute_result"
    }
   ],
   "source": [
    "# creating empty dataframe:\n",
    "data = pd.DataFrame()\n",
    "# accessing all json files in 'data' directory:\n",
    "files = Path('C:/Users/danie/OneDrive/Desktop/HUPLACLIP-analysis/data_analysis/pilot_1/data/').glob('*.csv')\n",
    "fileCounter = 0\n",
    "for file in files:\n",
    "    # reading single csv file as dataframe\n",
    "    df = pd.read_csv(file)\n",
    "    # adding single dataframe to general dataframe:\n",
    "    data = pd.concat([data,df])\n",
    "    # incrementing file counter (will be used to label the graph):\n",
    "    fileCounter += 1\n",
    "\n",
    "# checking dimension of data and printing the names of the variables:\n",
    "print(data.columns.tolist())\n",
    "print(data.shape)\n",
    "\n",
    "\n",
    "# isolating experiment trials (\"canvas-keyboard-response\" ones)\n",
    "data_experiment = data[data.trial_type == \"canvas-keyboard-response\"]\n",
    "\n",
    "# dropping irrelevant variables:\n",
    "data_experiment.drop([\"view_history\",\"trial_index\", \"time_elapsed\",\"internal_node_id\" ,\"success\", \"timeout\", \"failed_images\", \"failed_audio\", \"failed_video\", \"stimulus\"], axis=1, inplace=True)\n",
    "\n",
    "# checking that cleaning happened successfully:\n",
    "print(data_experiment.columns.tolist())\n",
    "print(data_experiment.shape)\n",
    "data_experiment.tail()"
   ]
  },
  {
   "cell_type": "code",
   "execution_count": 10,
   "metadata": {},
   "outputs": [
    {
     "name": "stdout",
     "output_type": "stream",
     "text": [
      "(1200, 11)\n",
      "175.0    80\n",
      "163.0    80\n",
      "152.0    80\n",
      "140.0    80\n",
      "128.0    80\n",
      "117.0    80\n",
      "105.0    80\n",
      "93.0     80\n",
      "82.0     80\n",
      "70.0     80\n",
      "58.0     80\n",
      "47.0     80\n",
      "35.0     80\n",
      "23.0     80\n",
      "12.0     80\n",
      "Name: clique_size, dtype: int64\n"
     ]
    }
   ],
   "source": [
    "# isolating trials were final responses were given (shuffles have \" \" as response):\n",
    "data_experiment_final = data_experiment[data_experiment['response'].isin(['arrowright','arrowleft'])]\n",
    "print(data_experiment_final.shape)     # final responses = 12*(number of csv files in data folder)\n",
    "# counting the final answers for each clique size\n",
    "print(data_experiment_final['clique_size'].value_counts()  )"
   ]
  },
  {
   "cell_type": "code",
   "execution_count": 16,
   "metadata": {},
   "outputs": [
    {
     "data": {
      "text/plain": [
       "Text(0.5, 1.0, 'sample size = 10')"
      ]
     },
     "execution_count": 16,
     "metadata": {},
     "output_type": "execute_result"
    },
    {
     "data": {
      "image/png": "[encoded data removed]",
      "text/plain": [
       "<Figure size 640x480 with 1 Axes>"
      ]
     },
     "metadata": {},
     "output_type": "display_data"
    }
   ],
   "source": [
    "# plotting fraction correct as a function of \"clique_size\"\n",
    "# - calculating accuracy for the different levels of \"clique_size\"\n",
    "fraction_correct_dict = dict()\n",
    "# reversing the order of clique_size array:\n",
    "reversed_clique_size_array = df1_cleaned_final_answers.clique_size.unique()[::-1]\n",
    "for i in reversed_clique_size_array:\n",
    "    # isolating data of current clique size:\n",
    "    current_data = data_experiment_final[data_experiment_final.clique_size == i]\n",
    "    # calculating fraction correct for current clique size\n",
    "    fraction_correct_current_clique_size = sum(current_data.accuracy == True) / sum(~ current_data.accuracy.isna())\n",
    "    # adding to the dictionary\n",
    "    fraction_correct_dict[str(round(i))] = fraction_correct_current_clique_size\n",
    "    \n",
    "    # # DEBUG:\n",
    "    # print(\"clique size:\")\n",
    "    # print(i)\n",
    "    # print(\"fraction correct:\")\n",
    "    # print(fraction_correct_current_clique_size)\n",
    "    # print(current_data.accuracy)\n",
    "    \n",
    "# plotting the results:\n",
    "# - obtaining appropriate x and y values:\n",
    "x_values = list(fraction_correct_dict.keys())\n",
    "x_values = [int(x_value)/(math.sqrt(300))  for x_value in x_values]\n",
    "y_values = list(fraction_correct_dict.values())\n",
    "y_values = [y_value * 100 for y_value in y_values]\n",
    "# - drawing plot:\n",
    "plt.plot(x_values,y_values)\n",
    "plt.xlabel(\"k/sqrt(300)\")\n",
    "plt.ylabel(\"% of correct responses\")\n",
    "# plotting chance level line and adding legend\n",
    "plt.axhline(y = 50, color = 'r', linestyle = 'dashed', label = \"chance level\")\n",
    "plt.legend(loc = 'lower right')\n",
    "plt.suptitle(\"Accuracy as a function of K/sqrt(300)\", fontsize = 15)\n",
    "plt.title('sample size = {}'.format(fileCounter), fontstyle= \"italic\")"
   ]
  },
  {
   "cell_type": "markdown",
   "metadata": {},
   "source": [
    "---------------------------------------------------------------------"
   ]
  },
  {
   "attachments": {},
   "cell_type": "markdown",
   "metadata": {},
   "source": [
    "(TO ADAPT FROM HERE ON)"
   ]
  },
  {
   "attachments": {},
   "cell_type": "markdown",
   "metadata": {},
   "source": [
    "- Accuracy:"
   ]
  },
  {
   "cell_type": "code",
   "execution_count": 6,
   "metadata": {},
   "outputs": [
    {
     "name": "stdout",
     "output_type": "stream",
     "text": [
      "0.825\n",
      "[200. 190. 180. 170. 160. 150. 140. 130. 120. 110. 100.  90.  80.  70.\n",
      "  60.  50.  40.  30.  20.  10.]\n"
     ]
    },
    {
     "data": {
      "image/png": "[encoded data removed]",
      "text/plain": [
       "<Figure size 640x480 with 1 Axes>"
      ]
     },
     "metadata": {},
     "output_type": "display_data"
    }
   ],
   "source": [
    "# 1. overall accuracy ( # correct answers / # final answers )\n",
    "overall_accuracy = sum(data_experiment.correctnessOfResponse == 1) / sum(~ data_experiment.correctnessOfResponse.isna())\n",
    "print(overall_accuracy)\n",
    "\n",
    "# 2. calculating accuracy for the levels of \"cliqueSize\"\n",
    "# - obtaining levels of \"cliqueSize\" (this should match with experiment parameters)\n",
    "print(data_experiment.cliqueSize.unique())\n",
    "# - calculating accuracy for the different levels of \"cliqueSize\"\n",
    "accuracy_dict = dict()\n",
    "for i in data_experiment.cliqueSize.unique():\n",
    "    # isolating data of current clique size:\n",
    "    current_data = data_experiment[data_experiment.cliqueSize == i]\n",
    "    accuracy_current_cliqueSize = sum(current_data.correctnessOfResponse == 1) / sum(~ current_data.correctnessOfResponse.isna())\n",
    "    accuracy_dict[str(round(i))] = accuracy_current_cliqueSize\n",
    "# plotting the results:\n",
    "x_values = accuracy_dict.keys()\n",
    "y_values = accuracy_dict.values()\n",
    "plt.plot(x_values,y_values)\n",
    "plt.xlabel(\"clique size in graph of 300 nodes\")\n",
    "plt.ylabel(\"accuracy\")\n",
    "plt.tick_params(axis='x', which='major', labelsize=7)"
   ]
  },
  {
   "attachments": {},
   "cell_type": "markdown",
   "metadata": {},
   "source": [
    "- Number of shuffles:"
   ]
  },
  {
   "cell_type": "code",
   "execution_count": 7,
   "metadata": {},
   "outputs": [],
   "source": [
    "# 1. average number of shuffles\n",
    "# 2. calculating number of shuffles for the levels of \"cliqueSize\"  (plotting the results)\n",
    "# note: if number of shuffles increases as a function of \"cliqueSize\", it could be helping subjects for difficult instances of the task"
   ]
  },
  {
   "attachments": {},
   "cell_type": "markdown",
   "metadata": {},
   "source": [
    "- Reaction times:"
   ]
  },
  {
   "cell_type": "code",
   "execution_count": 8,
   "metadata": {},
   "outputs": [
    {
     "name": "stdout",
     "output_type": "stream",
     "text": [
      "False    391\n",
      "True       4\n",
      "Name: rt, dtype: int64\n"
     ]
    },
    {
     "data": {
      "image/png": "[encoded data removed]",
      "text/plain": [
       "<Figure size 640x480 with 1 Axes>"
      ]
     },
     "metadata": {},
     "output_type": "display_data"
    },
    {
     "data": {
      "image/png": "[encoded data removed]",
      "text/plain": [
       "<Figure size 640x480 with 2 Axes>"
      ]
     },
     "metadata": {},
     "output_type": "display_data"
    }
   ],
   "source": [
    "# 1. average RT (for all trials, both final responses and shuffles)\n",
    "# 2. RT as a function of \"cliqueSize\"\n",
    "# note: if reaction time increases as a function of \"cliqueSize\", it could be an indication of increasing difficulty\n",
    "\n",
    "###########################################################\n",
    "\n",
    "\n",
    "# histogram of reaction times distribution (TO REVIEW):\n",
    "data.rt.hist(bins=100)\n",
    "# counting trials that were too slow and removing them (exclusion criterion: rt>7500)\n",
    "print((data.rt>=7500).value_counts())\n",
    "data_filtered = data.query('rt < 7500')\n",
    "\n",
    "#plotting unfiltered and filtered data:\n",
    "fig, (ax1,ax2) = plt.subplots(1, 2,sharex=True)\n",
    "min_ylim, max_ylim = plt.ylim()\n",
    "#unfiltered data\n",
    "ax1.hist(data.rt,bins=100)\n",
    "ax1.axvline(data.rt.mean(), color='k', linestyle='dashed', linewidth=1)\n",
    "ax1.text(data.rt.mean()*1.1,max_ylim*0.9, 'Mean: {:.2f}'.format(data.rt.mean()))\n",
    "ax1.set_title(\"RTs of Unfiltered data\")\n",
    "#filtered data\n",
    "ax2.hist(data_filtered.rt,bins=100)\n",
    "ax2.axvline(data_filtered.rt.mean(), color='k', linestyle='dashed', linewidth=1)\n",
    "ax2.text(data_filtered.rt.mean()*1.1,max_ylim*0.9, 'Mean: {:.2f}'.format(data_filtered.rt.mean()))\n",
    "ax2.set_title(\"RTs of Filtered data\")\n",
    "plt.show()"
   ]
  }
 ],
 "metadata": {
  "kernelspec": {
   "display_name": "Python 3",
   "language": "python",
   "name": "python3"
  },
  "language_info": {
   "codemirror_mode": {
    "name": "ipython",
    "version": 3
   },
   "file_extension": ".py",
   "mimetype": "text/x-python",
   "name": "python",
   "nbconvert_exporter": "python",
   "pygments_lexer": "ipython3",
   "version": "3.10.11"
  },
  "orig_nbformat": 4,
  "vscode": {
   "interpreter": {
    "hash": "2bf4de0ff22098ac7e3c49548bdd81cde03d0920bc2c90f4bd7508ddd9bf976b"
   }
  }
 },
 "nbformat": 4,
 "nbformat_minor": 2
}
