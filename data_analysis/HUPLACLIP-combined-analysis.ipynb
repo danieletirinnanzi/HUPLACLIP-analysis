{
 "cells": [
  {
   "cell_type": "markdown",
   "metadata": {},
   "source": [
    "PLAN:\n",
    "* HUMAN data:\n",
    "   - adapt analysis scripts from NNDL folder (create functions and call them);\n",
    "   - check that all info can be retrieved from output files\n",
    "\n",
    "* MACHINES data:\n",
    "   - report functions, should be called on raw data from experiments\n",
    "\n",
    "* COMBINED analysis:\n",
    "   - create and save plot for comparing human and machines results (with problem phases)"
   ]
  }
 ],
 "metadata": {
  "language_info": {
   "name": "python"
  }
 },
 "nbformat": 4,
 "nbformat_minor": 2
}
