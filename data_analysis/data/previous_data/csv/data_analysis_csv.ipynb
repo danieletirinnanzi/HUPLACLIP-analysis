{
 "cells": [
  {
   "attachments": {},
   "cell_type": "markdown",
   "metadata": {},
   "source": [
    "Importing packages:"
   ]
  },
  {
   "cell_type": "code",
   "execution_count": 1,
   "metadata": {},
   "outputs": [],
   "source": [
    "import pandas as pd\n",
    "from matplotlib import pyplot as plt"
   ]
  },
  {
   "attachments": {},
   "cell_type": "markdown",
   "metadata": {},
   "source": [
    "Importing the dataframes and combining them:"
   ]
  },
  {
   "cell_type": "code",
   "execution_count": 2,
   "metadata": {},
   "outputs": [
    {
     "name": "stdout",
     "output_type": "stream",
     "text": [
      "(367, 11)\n",
      "<bound method IndexOpsMixin.tolist of Index(['rt', 'trial_type', 'trial_index', 'time_elapsed', 'internal_node_id',\n",
      "       'response', 'nodesOrdering', 'cliqueSize', 'correctResponse',\n",
      "       'presentationNumber', 'correctnessOfResponse'],\n",
      "      dtype='object')>\n"
     ]
    }
   ],
   "source": [
    "from pathlib import Path\n",
    "\n",
    "# creating empty dataframe:\n",
    "data = pd.DataFrame()\n",
    "# accessing all csv files in 'data' directory:\n",
    "files = Path('C:/Users/danie/OneDrive/Desktop/HUPLACLIP/data_analysis/csv/data').glob('*.csv')\n",
    "for file in files:\n",
    "    # reading single csv file as dataframe\n",
    "    df = pd.read_csv(file,index_col = 0)\n",
    "    # adding single dataframe to general dataframe:\n",
    "    data = pd.concat([data,df])\n",
    "\n",
    "# checking dimension of data and printing the names of the variables:\n",
    "print(data.shape)\n",
    "print(data.columns.tolist)"
   ]
  },
  {
   "attachments": {},
   "cell_type": "markdown",
   "metadata": {},
   "source": [
    "Removing useless observations and variables:"
   ]
  },
  {
   "cell_type": "code",
   "execution_count": 3,
   "metadata": {},
   "outputs": [
    {
     "name": "stdout",
     "output_type": "stream",
     "text": [
      "(357, 11)\n",
      "(357, 8)\n"
     ]
    }
   ],
   "source": [
    "# removing instruction trials:\n",
    "data = data[data[\"trial_type\"] != \"instructions\"]\n",
    "print(data.shape)\n",
    "\n",
    "# removing irrelevant variables:\n",
    "data.drop([\"internal_node_id\", \"trial_index\", \"trial_type\"], axis=1, inplace=True)\n",
    "print(data.shape)"
   ]
  },
  {
   "attachments": {},
   "cell_type": "markdown",
   "metadata": {},
   "source": [
    "Exploring the data:"
   ]
  },
  {
   "cell_type": "code",
   "execution_count": 20,
   "metadata": {},
   "outputs": [
    {
     "data": {
      "text/html": [
       "<div>\n",
       "<style scoped>\n",
       "    .dataframe tbody tr th:only-of-type {\n",
       "        vertical-align: middle;\n",
       "    }\n",
       "\n",
       "    .dataframe tbody tr th {\n",
       "        vertical-align: top;\n",
       "    }\n",
       "\n",
       "    .dataframe thead th {\n",
       "        text-align: right;\n",
       "    }\n",
       "</style>\n",
       "<table border=\"1\" class=\"dataframe\">\n",
       "  <thead>\n",
       "    <tr style=\"text-align: right;\">\n",
       "      <th></th>\n",
       "      <th>rt</th>\n",
       "      <th>time_elapsed</th>\n",
       "      <th>response</th>\n",
       "      <th>nodesOrdering</th>\n",
       "      <th>cliqueSize</th>\n",
       "      <th>correctResponse</th>\n",
       "      <th>presentationNumber</th>\n",
       "      <th>correctnessOfResponse</th>\n",
       "    </tr>\n",
       "    <tr>\n",
       "      <th>view_history</th>\n",
       "      <th></th>\n",
       "      <th></th>\n",
       "      <th></th>\n",
       "      <th></th>\n",
       "      <th></th>\n",
       "      <th></th>\n",
       "      <th></th>\n",
       "      <th></th>\n",
       "    </tr>\n",
       "  </thead>\n",
       "  <tbody>\n",
       "    <tr>\n",
       "      <th>NaN</th>\n",
       "      <td>4152</td>\n",
       "      <td>7251</td>\n",
       "      <td></td>\n",
       "      <td>[146,24,286,154,213,118,215,1,68,178,2,93,237,...</td>\n",
       "      <td>100.0</td>\n",
       "      <td>arrowright</td>\n",
       "      <td>0.0</td>\n",
       "      <td>NaN</td>\n",
       "    </tr>\n",
       "    <tr>\n",
       "      <th>NaN</th>\n",
       "      <td>282</td>\n",
       "      <td>9234</td>\n",
       "      <td></td>\n",
       "      <td>[225,80,177,111,1,159,59,275,108,281,7,248,36,...</td>\n",
       "      <td>100.0</td>\n",
       "      <td>arrowright</td>\n",
       "      <td>0.0</td>\n",
       "      <td>NaN</td>\n",
       "    </tr>\n",
       "    <tr>\n",
       "      <th>NaN</th>\n",
       "      <td>358</td>\n",
       "      <td>11283</td>\n",
       "      <td>arrowright</td>\n",
       "      <td>[258,110,119,295,13,144,293,188,29,274,271,31,...</td>\n",
       "      <td>100.0</td>\n",
       "      <td>arrowright</td>\n",
       "      <td>0.0</td>\n",
       "      <td>True</td>\n",
       "    </tr>\n",
       "    <tr>\n",
       "      <th>NaN</th>\n",
       "      <td>493</td>\n",
       "      <td>13443</td>\n",
       "      <td></td>\n",
       "      <td>[179,263,228,190,212,106,88,257,26,213,95,186,...</td>\n",
       "      <td>95.0</td>\n",
       "      <td>arrowleft</td>\n",
       "      <td>1.0</td>\n",
       "      <td>NaN</td>\n",
       "    </tr>\n",
       "    <tr>\n",
       "      <th>NaN</th>\n",
       "      <td>450</td>\n",
       "      <td>15570</td>\n",
       "      <td>arrowleft</td>\n",
       "      <td>[215,270,22,12,137,228,209,59,55,62,97,140,216...</td>\n",
       "      <td>95.0</td>\n",
       "      <td>arrowleft</td>\n",
       "      <td>1.0</td>\n",
       "      <td>True</td>\n",
       "    </tr>\n",
       "  </tbody>\n",
       "</table>\n",
       "</div>"
      ],
      "text/plain": [
       "                rt  time_elapsed    response  \\\n",
       "view_history                                   \n",
       "NaN           4152          7251               \n",
       "NaN            282          9234               \n",
       "NaN            358         11283  arrowright   \n",
       "NaN            493         13443               \n",
       "NaN            450         15570   arrowleft   \n",
       "\n",
       "                                                  nodesOrdering  cliqueSize  \\\n",
       "view_history                                                                  \n",
       "NaN           [146,24,286,154,213,118,215,1,68,178,2,93,237,...       100.0   \n",
       "NaN           [225,80,177,111,1,159,59,275,108,281,7,248,36,...       100.0   \n",
       "NaN           [258,110,119,295,13,144,293,188,29,274,271,31,...       100.0   \n",
       "NaN           [179,263,228,190,212,106,88,257,26,213,95,186,...        95.0   \n",
       "NaN           [215,270,22,12,137,228,209,59,55,62,97,140,216...        95.0   \n",
       "\n",
       "             correctResponse  presentationNumber correctnessOfResponse  \n",
       "view_history                                                            \n",
       "NaN               arrowright                 0.0                   NaN  \n",
       "NaN               arrowright                 0.0                   NaN  \n",
       "NaN               arrowright                 0.0                  True  \n",
       "NaN                arrowleft                 1.0                   NaN  \n",
       "NaN                arrowleft                 1.0                  True  "
      ]
     },
     "execution_count": 20,
     "metadata": {},
     "output_type": "execute_result"
    }
   ],
   "source": [
    "data.head()"
   ]
  },
  {
   "attachments": {},
   "cell_type": "markdown",
   "metadata": {},
   "source": [
    "- exploring reaction times distribution and filtering the data"
   ]
  },
  {
   "cell_type": "code",
   "execution_count": 14,
   "metadata": {},
   "outputs": [
    {
     "name": "stdout",
     "output_type": "stream",
     "text": [
      "False    351\n",
      "True       6\n",
      "Name: rt, dtype: int64\n"
     ]
    },
    {
     "data": {
      "image/png": "[encoded data removed]",
      "text/plain": [
       "<Figure size 640x480 with 1 Axes>"
      ]
     },
     "metadata": {},
     "output_type": "display_data"
    },
    {
     "data": {
      "image/png": "[encoded data removed]",
      "text/plain": [
       "<Figure size 640x480 with 2 Axes>"
      ]
     },
     "metadata": {},
     "output_type": "display_data"
    }
   ],
   "source": [
    "# histogram of reaction times:\n",
    "data.rt.hist(bins=100)\n",
    "# counting trials that were too slow and removing them (exclusion criterion: rt>7500)\n",
    "print((data.rt>=7500).value_counts())\n",
    "data_filtered = data.query('rt < 7500')\n",
    "\n",
    "#plotting unfiltered and filtered data:\n",
    "fig, (ax1,ax2) = plt.subplots(1, 2,sharex=True)\n",
    "min_ylim, max_ylim = plt.ylim()\n",
    "#unfiltered data\n",
    "ax1.hist(data.rt,bins=100)\n",
    "ax1.axvline(data.rt.mean(), color='k', linestyle='dashed', linewidth=1)\n",
    "ax1.text(data.rt.mean()*1.1,max_ylim*0.9, 'Mean: {:.2f}'.format(data.rt.mean()))\n",
    "ax1.set_title(\"RTs of Unfiltered data\")\n",
    "#filtered data\n",
    "ax2.hist(data_filtered.rt,bins=100)\n",
    "ax2.axvline(data_filtered.rt.mean(), color='k', linestyle='dashed', linewidth=1)\n",
    "ax2.text(data_filtered.rt.mean()*1.1,max_ylim*0.9, 'Mean: {:.2f}'.format(data_filtered.rt.mean()))\n",
    "ax2.set_title(\"RTs of Filtered data\")\n",
    "plt.show()"
   ]
  },
  {
   "attachments": {},
   "cell_type": "markdown",
   "metadata": {},
   "source": [
    "- grouping trials of same clique size and calculating:\n",
    "    - accuracy as a function of clique size\n",
    "    - number of moves as a function of clique size\n",
    "    - reaction time as function of clique size (all trials, both space presses and arrow presses, maybe indicating more processing)"
   ]
  },
  {
   "cell_type": "code",
   "execution_count": 24,
   "metadata": {},
   "outputs": [
    {
     "ename": "TypeError",
     "evalue": "'method' object is not subscriptable",
     "output_type": "error",
     "traceback": [
      "\u001b[1;31m---------------------------------------------------------------------------\u001b[0m",
      "\u001b[1;31mTypeError\u001b[0m                                 Traceback (most recent call last)",
      "Cell \u001b[1;32mIn[24], line 1\u001b[0m\n\u001b[1;32m----> 1\u001b[0m data\u001b[39m.\u001b[39;49mhead[\u001b[39m0\u001b[39;49m,:]\n\u001b[0;32m      3\u001b[0m \u001b[39m# REMOVE \"view_history\"!!\u001b[39;00m\n\u001b[0;32m      4\u001b[0m \n\u001b[0;32m      5\u001b[0m \u001b[39m# ACCURACY:\u001b[39;00m\n\u001b[1;32m   (...)\u001b[0m\n\u001b[0;32m     12\u001b[0m \u001b[39m# 2) calculating mean(reaction time) for the existing levels of \"cliqueSize\" variable\u001b[39;00m\n\u001b[0;32m     13\u001b[0m \u001b[39m# 3) plotting reaction time (y axis) as a function of cliqueSize (x axis)\u001b[39;00m\n",
      "\u001b[1;31mTypeError\u001b[0m: 'method' object is not subscriptable"
     ]
    }
   ],
   "source": [
    "data.head()\n",
    "\n",
    "# REMOVE \"view_history\"!!\n",
    "\n",
    "# ACCURACY:\n",
    "# 1) calculating overall accuracy ( sum(correctnessOfResponse == True) / sum(!isnan(correctnessOfResponse)) )\n",
    "# 2) calculating accuracy for the existing levels of \"cliqueSize\" variable\n",
    "# 3) plotting accuracy (y axis) as a function of cliqueSize (x axis)\n",
    "\n",
    "# REACTION TIMES\n",
    "# 1) calculating mean(reaction time) for all trials\n",
    "# 2) calculating mean(reaction time) for the existing levels of \"cliqueSize\" variable\n",
    "# 3) plotting reaction time (y axis) as a function of cliqueSize (x axis)"
   ]
  }
 ],
 "metadata": {
  "kernelspec": {
   "display_name": "Python 3",
   "language": "python",
   "name": "python3"
  },
  "language_info": {
   "codemirror_mode": {
    "name": "ipython",
    "version": 3
   },
   "file_extension": ".py",
   "mimetype": "text/x-python",
   "name": "python",
   "nbconvert_exporter": "python",
   "pygments_lexer": "ipython3",
   "version": "3.10.10"
  },
  "orig_nbformat": 4,
  "vscode": {
   "interpreter": {
    "hash": "2bf4de0ff22098ac7e3c49548bdd81cde03d0920bc2c90f4bd7508ddd9bf976b"
   }
  }
 },
 "nbformat": 4,
 "nbformat_minor": 2
}
