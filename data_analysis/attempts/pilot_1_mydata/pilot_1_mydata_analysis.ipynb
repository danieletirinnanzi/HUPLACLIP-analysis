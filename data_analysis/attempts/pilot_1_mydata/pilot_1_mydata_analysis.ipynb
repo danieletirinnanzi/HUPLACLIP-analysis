{
 "cells": [
  {
   "attachments": {},
   "cell_type": "markdown",
   "metadata": {},
   "source": [
    "EXPLANATION OF OUTPUT VARIABLES (the relevant trials are the \"canvas-keyboard-response\" ones):\n",
    "\n",
    "Experiment flow:\n",
    "- *block_index* -> index of the block (NB: starts from zero)\n",
    "- *presentation_index* -> index of the presentation inside one block (NB: starts from zero)\n",
    "\n",
    "Experiment parameters:\n",
    "- *clique_size* -> size of the clique in one of the two displayed graphs\n",
    "- *graphs_size* -> size of the displayed graphs \n",
    "- *graphs_couple* -> couple of graphs shown in current trial\n",
    "- *nodes_order* -> order of the nodes in current trial\n",
    "\n",
    "Dependent variables:\n",
    "- *rt* -> response time in ms (collected automatically)\n",
    "- *response* -> in this experiment, the accepted keys are \" \"; \"arrowright\" or \"arrowleft\"\n",
    "- *accuracy* -> this variable is manually computed and added only to the trials where response was arrowright or arrowleft\n",
    "\n",
    "Comparison variables:\n",
    "- *correct_response* -> correct response for current trial\n",
    "\n",
    "Produced automatically / not relevant:\n",
    "\n",
    "For all trials:\n",
    "- *trial_type* -> the name of the plugin used to run the trial (the real trials of the experiment are \"canvas-keyboard-response\")\n",
    "- *trial_index* -> the index of the current trial across the whole experiment (it is a global counter of trials, it also includes instructions and tutorial ones)\n",
    "- *time_elapsed* -> the number of milliseconds between the start of the experiment and when the trial ended\n",
    "- *internal_node_id* -> string identifier for the current TimelineNode\n",
    "\n",
    "For preload plugin:\n",
    "- *success*\t-> if true, then all files loaded successfully within the max_load_time. If false, then one or more file requests returned a failure and/or the file loading did not complete within the max_load_time duration.\n",
    "- *timeout* -> \tif true, then the files did not finish loading within the max_load_time duration. If false, then the file loading did not timeout.\n",
    "- *failed_images* -> one or more image file paths that produced a loading failure before the trial ended.\n",
    "- *failed_audio* -> one or more audio file paths that produced a loading failure before the trial ended.\n",
    "- *failed_video* -> one or more video file paths that produced a loading failure before the trial ended.\n",
    "\n",
    "For instructions plugin:\n",
    "- *rt* -> the response time (in ms) for the subject to view all of the pages\n",
    "- *view_history* -> array containing the order of pages the subject viewed (collected only for \"instructions\" plugin)\n",
    "\n",
    "For image-keyboard-response plugin:\n",
    "- *stimulus* -> the path of the image that was displayed.\n",
    "\n"
   ]
  },
  {
   "attachments": {},
   "cell_type": "markdown",
   "metadata": {},
   "source": [
    "------------------------------------------------------------------------------------------------------------"
   ]
  },
  {
   "attachments": {},
   "cell_type": "markdown",
   "metadata": {},
   "source": [
    "Importing packages:"
   ]
  },
  {
   "cell_type": "code",
   "execution_count": 1,
   "metadata": {},
   "outputs": [],
   "source": [
    "import pandas as pd\n",
    "import numpy as np\n",
    "import math\n",
    "from matplotlib import pyplot as plt\n",
    "from pathlib import Path"
   ]
  },
  {
   "attachments": {},
   "cell_type": "markdown",
   "metadata": {},
   "source": [
    "Importing and \"cleaning\" a single csv file:"
   ]
  },
  {
   "cell_type": "code",
   "execution_count": 5,
   "metadata": {},
   "outputs": [
    {
     "name": "stdout",
     "output_type": "stream",
     "text": [
      "(395, 21)\n",
      "<class 'pandas.core.frame.DataFrame'>\n",
      "RangeIndex: 395 entries, 0 to 394\n",
      "Data columns (total 21 columns):\n",
      " #   Column              Non-Null Count  Dtype  \n",
      "---  ------              --------------  -----  \n",
      " 0   trial_type          395 non-null    object \n",
      " 1   trial_index         395 non-null    int64  \n",
      " 2   time_elapsed        395 non-null    int64  \n",
      " 3   internal_node_id    395 non-null    object \n",
      " 4   view_history        8 non-null      object \n",
      " 5   rt                  391 non-null    float64\n",
      " 6   success             3 non-null      object \n",
      " 7   timeout             3 non-null      object \n",
      " 8   failed_images       3 non-null      object \n",
      " 9   failed_audio        3 non-null      object \n",
      " 10  failed_video        3 non-null      object \n",
      " 11  stimulus            39 non-null     object \n",
      " 12  response            383 non-null    object \n",
      " 13  nodes_order         344 non-null    object \n",
      " 14  correct_response    344 non-null    object \n",
      " 15  block_index         344 non-null    float64\n",
      " 16  presentation_index  344 non-null    float64\n",
      " 17  clique_size         344 non-null    float64\n",
      " 18  graph_size          344 non-null    float64\n",
      " 19  graphs_couple       120 non-null    object \n",
      " 20  accuracy            120 non-null    object \n",
      "dtypes: float64(5), int64(2), object(14)\n",
      "memory usage: 64.9+ KB\n",
      "None\n"
     ]
    }
   ],
   "source": [
    "file1Path = Path('./data/HUPLACLIP_my_pilot_SESSION_2023-04-18_17h39.36.582.csv')\n",
    "df1 = pd.read_csv(file1Path)\n",
    "print(df1.shape)\n",
    "print(df1.info())"
   ]
  },
  {
   "cell_type": "code",
   "execution_count": 6,
   "metadata": {},
   "outputs": [
    {
     "name": "stdout",
     "output_type": "stream",
     "text": [
      "<class 'pandas.core.frame.DataFrame'>\n",
      "Int64Index: 344 entries, 47 to 393\n",
      "Data columns (total 21 columns):\n",
      " #   Column              Non-Null Count  Dtype  \n",
      "---  ------              --------------  -----  \n",
      " 0   trial_type          344 non-null    object \n",
      " 1   trial_index         344 non-null    int64  \n",
      " 2   time_elapsed        344 non-null    int64  \n",
      " 3   internal_node_id    344 non-null    object \n",
      " 4   view_history        0 non-null      object \n",
      " 5   rt                  344 non-null    float64\n",
      " 6   success             0 non-null      object \n",
      " 7   timeout             0 non-null      object \n",
      " 8   failed_images       0 non-null      object \n",
      " 9   failed_audio        0 non-null      object \n",
      " 10  failed_video        0 non-null      object \n",
      " 11  stimulus            0 non-null      object \n",
      " 12  response            344 non-null    object \n",
      " 13  nodes_order         344 non-null    object \n",
      " 14  correct_response    344 non-null    object \n",
      " 15  block_index         344 non-null    float64\n",
      " 16  presentation_index  344 non-null    float64\n",
      " 17  clique_size         344 non-null    float64\n",
      " 18  graph_size          344 non-null    float64\n",
      " 19  graphs_couple       120 non-null    object \n",
      " 20  accuracy            120 non-null    object \n",
      "dtypes: float64(5), int64(2), object(14)\n",
      "memory usage: 59.1+ KB\n",
      "None\n"
     ]
    }
   ],
   "source": [
    "# isolating experiment trials (\"canvas-keyboard-response\" ones)\n",
    "df1_experiment = df1[df1.trial_type == \"canvas-keyboard-response\"]\n",
    "df1_experiment.head()\n",
    "print(df1_experiment.info())"
   ]
  },
  {
   "cell_type": "code",
   "execution_count": 7,
   "metadata": {},
   "outputs": [
    {
     "name": "stdout",
     "output_type": "stream",
     "text": [
      "<class 'pandas.core.frame.DataFrame'>\n",
      "Int64Index: 344 entries, 47 to 393\n",
      "Data columns (total 11 columns):\n",
      " #   Column              Non-Null Count  Dtype  \n",
      "---  ------              --------------  -----  \n",
      " 0   trial_type          344 non-null    object \n",
      " 1   rt                  344 non-null    float64\n",
      " 2   response            344 non-null    object \n",
      " 3   nodes_order         344 non-null    object \n",
      " 4   correct_response    344 non-null    object \n",
      " 5   block_index         344 non-null    float64\n",
      " 6   presentation_index  344 non-null    float64\n",
      " 7   clique_size         344 non-null    float64\n",
      " 8   graph_size          344 non-null    float64\n",
      " 9   graphs_couple       120 non-null    object \n",
      " 10  accuracy            120 non-null    object \n",
      "dtypes: float64(5), object(6)\n",
      "memory usage: 32.2+ KB\n",
      "None\n"
     ]
    }
   ],
   "source": [
    "# dropping empty/irrelevant variables:\n",
    "df1_cleaned = df1_experiment.drop([\"view_history\",\"trial_index\", \"time_elapsed\",\"internal_node_id\" ,\"success\", \"timeout\", \"failed_images\", \"failed_audio\", \"failed_video\", \"stimulus\"], axis=1)\n",
    "print(df1_cleaned.info())"
   ]
  },
  {
   "cell_type": "code",
   "execution_count": 8,
   "metadata": {},
   "outputs": [
    {
     "data": {
      "text/html": [
       "<div>\n",
       "<style scoped>\n",
       "    .dataframe tbody tr th:only-of-type {\n",
       "        vertical-align: middle;\n",
       "    }\n",
       "\n",
       "    .dataframe tbody tr th {\n",
       "        vertical-align: top;\n",
       "    }\n",
       "\n",
       "    .dataframe thead th {\n",
       "        text-align: right;\n",
       "    }\n",
       "</style>\n",
       "<table border=\"1\" class=\"dataframe\">\n",
       "  <thead>\n",
       "    <tr style=\"text-align: right;\">\n",
       "      <th></th>\n",
       "      <th>trial_type</th>\n",
       "      <th>rt</th>\n",
       "      <th>response</th>\n",
       "      <th>nodes_order</th>\n",
       "      <th>correct_response</th>\n",
       "      <th>block_index</th>\n",
       "      <th>presentation_index</th>\n",
       "      <th>clique_size</th>\n",
       "      <th>graph_size</th>\n",
       "      <th>graphs_couple</th>\n",
       "      <th>accuracy</th>\n",
       "    </tr>\n",
       "  </thead>\n",
       "  <tbody>\n",
       "    <tr>\n",
       "      <th>389</th>\n",
       "      <td>canvas-keyboard-response</td>\n",
       "      <td>622.0</td>\n",
       "      <td></td>\n",
       "      <td>[219,281,251,213,67,118,23,3,132,42,116,288,20...</td>\n",
       "      <td>arrowleft</td>\n",
       "      <td>3.0</td>\n",
       "      <td>29.0</td>\n",
       "      <td>12.0</td>\n",
       "      <td>300.0</td>\n",
       "      <td>NaN</td>\n",
       "      <td>NaN</td>\n",
       "    </tr>\n",
       "    <tr>\n",
       "      <th>390</th>\n",
       "      <td>canvas-keyboard-response</td>\n",
       "      <td>619.0</td>\n",
       "      <td></td>\n",
       "      <td>[164,198,158,118,124,192,262,16,57,250,167,88,...</td>\n",
       "      <td>arrowleft</td>\n",
       "      <td>3.0</td>\n",
       "      <td>29.0</td>\n",
       "      <td>12.0</td>\n",
       "      <td>300.0</td>\n",
       "      <td>NaN</td>\n",
       "      <td>NaN</td>\n",
       "    </tr>\n",
       "    <tr>\n",
       "      <th>391</th>\n",
       "      <td>canvas-keyboard-response</td>\n",
       "      <td>736.0</td>\n",
       "      <td></td>\n",
       "      <td>[172,132,209,134,41,50,7,11,293,71,124,20,153,...</td>\n",
       "      <td>arrowleft</td>\n",
       "      <td>3.0</td>\n",
       "      <td>29.0</td>\n",
       "      <td>12.0</td>\n",
       "      <td>300.0</td>\n",
       "      <td>NaN</td>\n",
       "      <td>NaN</td>\n",
       "    </tr>\n",
       "    <tr>\n",
       "      <th>392</th>\n",
       "      <td>canvas-keyboard-response</td>\n",
       "      <td>818.0</td>\n",
       "      <td></td>\n",
       "      <td>[0,7,4,264,87,246,162,119,69,168,234,228,96,45...</td>\n",
       "      <td>arrowleft</td>\n",
       "      <td>3.0</td>\n",
       "      <td>29.0</td>\n",
       "      <td>12.0</td>\n",
       "      <td>300.0</td>\n",
       "      <td>NaN</td>\n",
       "      <td>NaN</td>\n",
       "    </tr>\n",
       "    <tr>\n",
       "      <th>393</th>\n",
       "      <td>canvas-keyboard-response</td>\n",
       "      <td>759.0</td>\n",
       "      <td>arrowright</td>\n",
       "      <td>[151,166,122,249,90,218,63,10,289,160,205,297,...</td>\n",
       "      <td>arrowleft</td>\n",
       "      <td>3.0</td>\n",
       "      <td>29.0</td>\n",
       "      <td>12.0</td>\n",
       "      <td>300.0</td>\n",
       "      <td>[{\"1\":[1],\"2\":[0,0],\"3\":[1,0,1],\"4\":[1,1,1,1],...</td>\n",
       "      <td>False</td>\n",
       "    </tr>\n",
       "  </tbody>\n",
       "</table>\n",
       "</div>"
      ],
      "text/plain": [
       "                   trial_type     rt    response  \\\n",
       "389  canvas-keyboard-response  622.0               \n",
       "390  canvas-keyboard-response  619.0               \n",
       "391  canvas-keyboard-response  736.0               \n",
       "392  canvas-keyboard-response  818.0               \n",
       "393  canvas-keyboard-response  759.0  arrowright   \n",
       "\n",
       "                                           nodes_order correct_response  \\\n",
       "389  [219,281,251,213,67,118,23,3,132,42,116,288,20...        arrowleft   \n",
       "390  [164,198,158,118,124,192,262,16,57,250,167,88,...        arrowleft   \n",
       "391  [172,132,209,134,41,50,7,11,293,71,124,20,153,...        arrowleft   \n",
       "392  [0,7,4,264,87,246,162,119,69,168,234,228,96,45...        arrowleft   \n",
       "393  [151,166,122,249,90,218,63,10,289,160,205,297,...        arrowleft   \n",
       "\n",
       "     block_index  presentation_index  clique_size  graph_size  \\\n",
       "389          3.0                29.0         12.0       300.0   \n",
       "390          3.0                29.0         12.0       300.0   \n",
       "391          3.0                29.0         12.0       300.0   \n",
       "392          3.0                29.0         12.0       300.0   \n",
       "393          3.0                29.0         12.0       300.0   \n",
       "\n",
       "                                         graphs_couple accuracy  \n",
       "389                                                NaN      NaN  \n",
       "390                                                NaN      NaN  \n",
       "391                                                NaN      NaN  \n",
       "392                                                NaN      NaN  \n",
       "393  [{\"1\":[1],\"2\":[0,0],\"3\":[1,0,1],\"4\":[1,1,1,1],...    False  "
      ]
     },
     "execution_count": 8,
     "metadata": {},
     "output_type": "execute_result"
    }
   ],
   "source": [
    "# visualizing the data\n",
    "df1_cleaned.tail()"
   ]
  },
  {
   "cell_type": "code",
   "execution_count": 9,
   "metadata": {},
   "outputs": [
    {
     "data": {
      "text/plain": [
       "(344, 11)"
      ]
     },
     "execution_count": 9,
     "metadata": {},
     "output_type": "execute_result"
    }
   ],
   "source": [
    "# checking size:\n",
    "df1_cleaned.shape"
   ]
  },
  {
   "cell_type": "code",
   "execution_count": 10,
   "metadata": {},
   "outputs": [
    {
     "name": "stdout",
     "output_type": "stream",
     "text": [
      "(120, 11)\n"
     ]
    },
    {
     "data": {
      "text/plain": [
       "175.0    8\n",
       "163.0    8\n",
       "152.0    8\n",
       "140.0    8\n",
       "128.0    8\n",
       "117.0    8\n",
       "105.0    8\n",
       "93.0     8\n",
       "82.0     8\n",
       "70.0     8\n",
       "58.0     8\n",
       "47.0     8\n",
       "35.0     8\n",
       "23.0     8\n",
       "12.0     8\n",
       "Name: clique_size, dtype: int64"
      ]
     },
     "execution_count": 10,
     "metadata": {},
     "output_type": "execute_result"
    }
   ],
   "source": [
    "# isolating trials were final responses were given (shuffles have \" \" as response):\n",
    "df1_cleaned_final_answers = df1_cleaned[df1_cleaned['response'].isin(['arrowright','arrowleft'])]\n",
    "print(df1_cleaned_final_answers.shape)     #final responses should be 120 (30 for each one of the 4 blocks)\n",
    "# counting the final answers for each clique size\n",
    "df1_cleaned_final_answers['clique_size'].value_counts()  #the clique sizes should be 15, and there should be 8 trials for each clique size"
   ]
  },
  {
   "cell_type": "code",
   "execution_count": 11,
   "metadata": {},
   "outputs": [
    {
     "data": {
      "text/plain": [
       "Text(0.5, 1.0, 'sample size = 1')"
      ]
     },
     "execution_count": 11,
     "metadata": {},
     "output_type": "execute_result"
    },
    {
     "data": {
      "image/png": "[encoded data removed]",
      "text/plain": [
       "<Figure size 432x288 with 1 Axes>"
      ]
     },
     "metadata": {
      "needs_background": "light"
     },
     "output_type": "display_data"
    }
   ],
   "source": [
    "# plotting fraction correct as a function of \"clique_size\"\n",
    "# - calculating accuracy for the different levels of \"clique_size\"\n",
    "fraction_correct_dict = dict()\n",
    "# reversing the order of clique_size array:\n",
    "reversed_clique_size_array = df1_cleaned_final_answers.clique_size.unique()[::-1]\n",
    "for i in reversed_clique_size_array:\n",
    "    # isolating data of current clique size:\n",
    "    current_data = df1_cleaned_final_answers[df1_cleaned_final_answers.clique_size == i]\n",
    "    # calculating fraction correct for current clique size\n",
    "    fraction_correct_current_clique_size = sum(current_data.accuracy == True) / sum(~ current_data.accuracy.isna())\n",
    "    # adding to the dictionary\n",
    "    fraction_correct_dict[str(round(i))] = fraction_correct_current_clique_size\n",
    "    \n",
    "    ##DEBUG:\n",
    "    #print(\"clique size:\")\n",
    "    #print(i)\n",
    "    #print(\"fraction correct:\")\n",
    "    #print(fraction_correct_current_clique_size)\n",
    "    #print(current_data.accuracy)\n",
    "    \n",
    "# plotting the results:\n",
    "# - obtaining appropriate x and y values:\n",
    "x_values = list(fraction_correct_dict.keys())\n",
    "x_values = [int(x_value)/(math.sqrt(300))  for x_value in x_values]\n",
    "y_values = list(fraction_correct_dict.values())\n",
    "y_values = [y_value * 100 for y_value in y_values]\n",
    "# - drawing plot:\n",
    "plt.plot(x_values,y_values)\n",
    "plt.xlabel(\"k/sqrt(300)\")\n",
    "plt.ylabel(\"% of correct responses\")\n",
    "# plotting chance level line and adding legend\n",
    "plt.axhline(y = 50, color = 'r', linestyle = 'dashed', label = \"chance level\")\n",
    "plt.legend(loc = 'lower right')\n",
    "plt.suptitle(\"Accuracy as a function of K/sqrt(300)\", fontsize = 15)\n",
    "plt.title(\"sample size = 1\", fontstyle= \"italic\")"
   ]
  },
  {
   "attachments": {},
   "cell_type": "markdown",
   "metadata": {},
   "source": [
    "Importing multiple csv files, combining them in a single dataframe and removing irrelvant variables:"
   ]
  },
  {
   "cell_type": "code",
   "execution_count": 12,
   "metadata": {},
   "outputs": [
    {
     "name": "stdout",
     "output_type": "stream",
     "text": [
      "<generator object Path.glob at 0x000002D0AF4484A0>\n",
      "(834, 21)\n",
      "['trial_type', 'trial_index', 'time_elapsed', 'internal_node_id', 'view_history', 'rt', 'success', 'timeout', 'failed_images', 'failed_audio', 'failed_video', 'stimulus', 'response', 'nodes_order', 'correct_response', 'block_index', 'presentation_index', 'clique_size', 'graph_size', 'graphs_couple', 'accuracy']\n",
      "(732, 11)\n"
     ]
    },
    {
     "name": "stderr",
     "output_type": "stream",
     "text": [
      "d:\\dtirinna\\Anaconda3\\lib\\site-packages\\pandas\\core\\frame.py:4906: SettingWithCopyWarning: \n",
      "A value is trying to be set on a copy of a slice from a DataFrame\n",
      "\n",
      "See the caveats in the documentation: https://pandas.pydata.org/pandas-docs/stable/user_guide/indexing.html#returning-a-view-versus-a-copy\n",
      "  return super().drop(\n"
     ]
    },
    {
     "data": {
      "text/html": [
       "<div>\n",
       "<style scoped>\n",
       "    .dataframe tbody tr th:only-of-type {\n",
       "        vertical-align: middle;\n",
       "    }\n",
       "\n",
       "    .dataframe tbody tr th {\n",
       "        vertical-align: top;\n",
       "    }\n",
       "\n",
       "    .dataframe thead th {\n",
       "        text-align: right;\n",
       "    }\n",
       "</style>\n",
       "<table border=\"1\" class=\"dataframe\">\n",
       "  <thead>\n",
       "    <tr style=\"text-align: right;\">\n",
       "      <th></th>\n",
       "      <th>trial_type</th>\n",
       "      <th>rt</th>\n",
       "      <th>response</th>\n",
       "      <th>nodes_order</th>\n",
       "      <th>correct_response</th>\n",
       "      <th>block_index</th>\n",
       "      <th>presentation_index</th>\n",
       "      <th>clique_size</th>\n",
       "      <th>graph_size</th>\n",
       "      <th>graphs_couple</th>\n",
       "      <th>accuracy</th>\n",
       "    </tr>\n",
       "  </thead>\n",
       "  <tbody>\n",
       "    <tr>\n",
       "      <th>433</th>\n",
       "      <td>canvas-keyboard-response</td>\n",
       "      <td>263.0</td>\n",
       "      <td></td>\n",
       "      <td>[202,59,124,180,70,84,144,168,122,58,206,52,48...</td>\n",
       "      <td>arrowleft</td>\n",
       "      <td>3.0</td>\n",
       "      <td>29.0</td>\n",
       "      <td>12.0</td>\n",
       "      <td>300.0</td>\n",
       "      <td>NaN</td>\n",
       "      <td>NaN</td>\n",
       "    </tr>\n",
       "    <tr>\n",
       "      <th>434</th>\n",
       "      <td>canvas-keyboard-response</td>\n",
       "      <td>301.0</td>\n",
       "      <td></td>\n",
       "      <td>[291,59,230,292,247,294,107,227,242,193,270,47...</td>\n",
       "      <td>arrowleft</td>\n",
       "      <td>3.0</td>\n",
       "      <td>29.0</td>\n",
       "      <td>12.0</td>\n",
       "      <td>300.0</td>\n",
       "      <td>NaN</td>\n",
       "      <td>NaN</td>\n",
       "    </tr>\n",
       "    <tr>\n",
       "      <th>435</th>\n",
       "      <td>canvas-keyboard-response</td>\n",
       "      <td>372.0</td>\n",
       "      <td></td>\n",
       "      <td>[59,2,93,201,188,91,268,48,293,203,126,281,31,...</td>\n",
       "      <td>arrowleft</td>\n",
       "      <td>3.0</td>\n",
       "      <td>29.0</td>\n",
       "      <td>12.0</td>\n",
       "      <td>300.0</td>\n",
       "      <td>NaN</td>\n",
       "      <td>NaN</td>\n",
       "    </tr>\n",
       "    <tr>\n",
       "      <th>436</th>\n",
       "      <td>canvas-keyboard-response</td>\n",
       "      <td>456.0</td>\n",
       "      <td></td>\n",
       "      <td>[98,113,160,287,121,217,156,293,27,268,257,25,...</td>\n",
       "      <td>arrowleft</td>\n",
       "      <td>3.0</td>\n",
       "      <td>29.0</td>\n",
       "      <td>12.0</td>\n",
       "      <td>300.0</td>\n",
       "      <td>NaN</td>\n",
       "      <td>NaN</td>\n",
       "    </tr>\n",
       "    <tr>\n",
       "      <th>437</th>\n",
       "      <td>canvas-keyboard-response</td>\n",
       "      <td>383.0</td>\n",
       "      <td>arrowright</td>\n",
       "      <td>[293,6,160,115,38,284,113,127,190,245,86,114,2...</td>\n",
       "      <td>arrowleft</td>\n",
       "      <td>3.0</td>\n",
       "      <td>29.0</td>\n",
       "      <td>12.0</td>\n",
       "      <td>300.0</td>\n",
       "      <td>[{\"1\":[1],\"2\":[0,0],\"3\":[0,0,0],\"4\":[1,0,1,0],...</td>\n",
       "      <td>False</td>\n",
       "    </tr>\n",
       "  </tbody>\n",
       "</table>\n",
       "</div>"
      ],
      "text/plain": [
       "                   trial_type     rt    response  \\\n",
       "433  canvas-keyboard-response  263.0               \n",
       "434  canvas-keyboard-response  301.0               \n",
       "435  canvas-keyboard-response  372.0               \n",
       "436  canvas-keyboard-response  456.0               \n",
       "437  canvas-keyboard-response  383.0  arrowright   \n",
       "\n",
       "                                           nodes_order correct_response  \\\n",
       "433  [202,59,124,180,70,84,144,168,122,58,206,52,48...        arrowleft   \n",
       "434  [291,59,230,292,247,294,107,227,242,193,270,47...        arrowleft   \n",
       "435  [59,2,93,201,188,91,268,48,293,203,126,281,31,...        arrowleft   \n",
       "436  [98,113,160,287,121,217,156,293,27,268,257,25,...        arrowleft   \n",
       "437  [293,6,160,115,38,284,113,127,190,245,86,114,2...        arrowleft   \n",
       "\n",
       "     block_index  presentation_index  clique_size  graph_size  \\\n",
       "433          3.0                29.0         12.0       300.0   \n",
       "434          3.0                29.0         12.0       300.0   \n",
       "435          3.0                29.0         12.0       300.0   \n",
       "436          3.0                29.0         12.0       300.0   \n",
       "437          3.0                29.0         12.0       300.0   \n",
       "\n",
       "                                         graphs_couple accuracy  \n",
       "433                                                NaN      NaN  \n",
       "434                                                NaN      NaN  \n",
       "435                                                NaN      NaN  \n",
       "436                                                NaN      NaN  \n",
       "437  [{\"1\":[1],\"2\":[0,0],\"3\":[0,0,0],\"4\":[1,0,1,0],...    False  "
      ]
     },
     "execution_count": 12,
     "metadata": {},
     "output_type": "execute_result"
    }
   ],
   "source": [
    "# creating empty dataframe:\n",
    "data = pd.DataFrame()\n",
    "# accessing all json files in 'data' directory:\n",
    "files = Path('./data/').glob('*.csv')\n",
    "print(files)\n",
    "for file in files:\n",
    "    # reading single csv file as dataframe\n",
    "    df = pd.read_csv(file)\n",
    "    # adding single dataframe to general dataframe:\n",
    "    data = pd.concat([data,df])\n",
    "\n",
    "# checking dimension of data and printing the names of the variables:\n",
    "print(data.shape)\n",
    "print(data.columns.tolist())\n",
    "\n",
    "# isolating experiment trials (\"canvas-keyboard-response\" ones)\n",
    "data_experiment = data[data.trial_type == \"canvas-keyboard-response\"]\n",
    "\n",
    "# dropping irrelevant variables:\n",
    "data_experiment.drop([\"view_history\",\"trial_index\", \"time_elapsed\",\"internal_node_id\" ,\"success\", \"timeout\", \"failed_images\", \"failed_audio\", \"failed_video\", \"stimulus\"], axis=1, inplace=True)\n",
    "\n",
    "# checking that cleaning happened successfully:\n",
    "print(data_experiment.shape)\n",
    "data_experiment.tail()"
   ]
  },
  {
   "cell_type": "code",
   "execution_count": 13,
   "metadata": {},
   "outputs": [
    {
     "name": "stdout",
     "output_type": "stream",
     "text": [
      "(240, 11)\n",
      "175.0    16\n",
      "163.0    16\n",
      "152.0    16\n",
      "140.0    16\n",
      "128.0    16\n",
      "117.0    16\n",
      "105.0    16\n",
      "93.0     16\n",
      "82.0     16\n",
      "70.0     16\n",
      "58.0     16\n",
      "47.0     16\n",
      "35.0     16\n",
      "23.0     16\n",
      "12.0     16\n",
      "Name: clique_size, dtype: int64\n"
     ]
    }
   ],
   "source": [
    "# isolating trials were final responses were given (shuffles have \" \" as response):\n",
    "data_experiment_final = data_experiment[data_experiment['response'].isin(['arrowright','arrowleft'])]\n",
    "print(data_experiment_final.shape)     # final responses = 12*(number of csv files in data folder)\n",
    "# counting the final answers for each clique size\n",
    "print(data_experiment_final['clique_size'].value_counts()  )"
   ]
  },
  {
   "cell_type": "code",
   "execution_count": 14,
   "metadata": {},
   "outputs": [
    {
     "data": {
      "text/plain": [
       "Text(0.5, 1.0, 'sample size = 2')"
      ]
     },
     "execution_count": 14,
     "metadata": {},
     "output_type": "execute_result"
    },
    {
     "data": {
      "image/png": "[encoded data removed]",
      "text/plain": [
       "<Figure size 432x288 with 1 Axes>"
      ]
     },
     "metadata": {
      "needs_background": "light"
     },
     "output_type": "display_data"
    }
   ],
   "source": [
    "# plotting fraction correct as a function of \"clique_size\"\n",
    "# - calculating accuracy for the different levels of \"clique_size\"\n",
    "fraction_correct_dict = dict()\n",
    "# reversing the order of clique_size array:\n",
    "reversed_clique_size_array = df1_cleaned_final_answers.clique_size.unique()[::-1]\n",
    "for i in reversed_clique_size_array:\n",
    "    # isolating data of current clique size:\n",
    "    current_data = data_experiment_final[data_experiment_final.clique_size == i]\n",
    "    # calculating fraction correct for current clique size\n",
    "    fraction_correct_current_clique_size = sum(current_data.accuracy == True) / sum(~ current_data.accuracy.isna())\n",
    "    # adding to the dictionary\n",
    "    fraction_correct_dict[str(round(i))] = fraction_correct_current_clique_size\n",
    "    \n",
    "    # #DEBUG:\n",
    "    # print(\"clique size:\")\n",
    "    # print(i)\n",
    "    # print(\"fraction correct:\")\n",
    "    # print(fraction_correct_current_clique_size)\n",
    "    # print(current_data.accuracy)\n",
    "    \n",
    "# plotting the results:\n",
    "# - obtaining appropriate x and y values:\n",
    "x_values = list(fraction_correct_dict.keys())\n",
    "x_values = [int(x_value)/(math.sqrt(300))  for x_value in x_values]\n",
    "y_values = list(fraction_correct_dict.values())\n",
    "y_values = [y_value * 100 for y_value in y_values]\n",
    "# - drawing plot:\n",
    "plt.plot(x_values,y_values)\n",
    "plt.xlabel(\"k/sqrt(300)\")\n",
    "plt.ylabel(\"% of correct responses\")\n",
    "# plotting chance level line and adding legend\n",
    "plt.axhline(y = 50, color = 'r', linestyle = 'dashed', label = \"chance level\")\n",
    "plt.legend(loc = 'lower right')\n",
    "plt.suptitle(\"Accuracy as a function of K/sqrt(300)\", fontsize = 15)\n",
    "plt.title(\"sample size = 2\", fontstyle= \"italic\")"
   ]
  },
  {
   "cell_type": "markdown",
   "metadata": {},
   "source": [
    "---------------------------------------------------------------------"
   ]
  },
  {
   "attachments": {},
   "cell_type": "markdown",
   "metadata": {},
   "source": [
    "(TO ADAPT FROM HERE ON)"
   ]
  },
  {
   "attachments": {},
   "cell_type": "markdown",
   "metadata": {},
   "source": [
    "- Accuracy:"
   ]
  },
  {
   "cell_type": "code",
   "execution_count": 6,
   "metadata": {},
   "outputs": [
    {
     "name": "stdout",
     "output_type": "stream",
     "text": [
      "0.825\n",
      "[200. 190. 180. 170. 160. 150. 140. 130. 120. 110. 100.  90.  80.  70.\n",
      "  60.  50.  40.  30.  20.  10.]\n"
     ]
    },
    {
     "data": {
      "image/png": "[encoded data removed]",
      "text/plain": [
       "<Figure size 640x480 with 1 Axes>"
      ]
     },
     "metadata": {},
     "output_type": "display_data"
    }
   ],
   "source": [
    "# 1. overall accuracy ( # correct answers / # final answers )\n",
    "overall_accuracy = sum(data_experiment.correctnessOfResponse == 1) / sum(~ data_experiment.correctnessOfResponse.isna())\n",
    "print(overall_accuracy)\n",
    "\n",
    "# 2. calculating accuracy for the levels of \"cliqueSize\"\n",
    "# - obtaining levels of \"cliqueSize\" (this should match with experiment parameters)\n",
    "print(data_experiment.cliqueSize.unique())\n",
    "# - calculating accuracy for the different levels of \"cliqueSize\"\n",
    "accuracy_dict = dict()\n",
    "for i in data_experiment.cliqueSize.unique():\n",
    "    # isolating data of current clique size:\n",
    "    current_data = data_experiment[data_experiment.cliqueSize == i]\n",
    "    accuracy_current_cliqueSize = sum(current_data.correctnessOfResponse == 1) / sum(~ current_data.correctnessOfResponse.isna())\n",
    "    accuracy_dict[str(round(i))] = accuracy_current_cliqueSize\n",
    "# plotting the results:\n",
    "x_values = accuracy_dict.keys()\n",
    "y_values = accuracy_dict.values()\n",
    "plt.plot(x_values,y_values)\n",
    "plt.xlabel(\"clique size in graph of 300 nodes\")\n",
    "plt.ylabel(\"accuracy\")\n",
    "plt.tick_params(axis='x', which='major', labelsize=7)"
   ]
  },
  {
   "attachments": {},
   "cell_type": "markdown",
   "metadata": {},
   "source": [
    "- Number of shuffles:"
   ]
  },
  {
   "cell_type": "code",
   "execution_count": 7,
   "metadata": {},
   "outputs": [],
   "source": [
    "# 1. average number of shuffles\n",
    "# 2. calculating number of shuffles for the levels of \"cliqueSize\"  (plotting the results)\n",
    "# note: if number of shuffles increases as a function of \"cliqueSize\", it could be helping subjects for difficult instances of the task"
   ]
  },
  {
   "attachments": {},
   "cell_type": "markdown",
   "metadata": {},
   "source": [
    "- Reaction times:"
   ]
  },
  {
   "cell_type": "code",
   "execution_count": 8,
   "metadata": {},
   "outputs": [
    {
     "name": "stdout",
     "output_type": "stream",
     "text": [
      "False    391\n",
      "True       4\n",
      "Name: rt, dtype: int64\n"
     ]
    },
    {
     "data": {
      "image/png": "[encoded data removed]",
      "text/plain": [
       "<Figure size 640x480 with 1 Axes>"
      ]
     },
     "metadata": {},
     "output_type": "display_data"
    },
    {
     "data": {
      "image/png": "[encoded data removed]",
      "text/plain": [
       "<Figure size 640x480 with 2 Axes>"
      ]
     },
     "metadata": {},
     "output_type": "display_data"
    }
   ],
   "source": [
    "# 1. average RT (for all trials, both final responses and shuffles)\n",
    "# 2. RT as a function of \"cliqueSize\"\n",
    "# note: if reaction time increases as a function of \"cliqueSize\", it could be an indication of increasing difficulty\n",
    "\n",
    "###########################################################\n",
    "\n",
    "\n",
    "# histogram of reaction times distribution (TO REVIEW):\n",
    "data.rt.hist(bins=100)\n",
    "# counting trials that were too slow and removing them (exclusion criterion: rt>7500)\n",
    "print((data.rt>=7500).value_counts())\n",
    "data_filtered = data.query('rt < 7500')\n",
    "\n",
    "#plotting unfiltered and filtered data:\n",
    "fig, (ax1,ax2) = plt.subplots(1, 2,sharex=True)\n",
    "min_ylim, max_ylim = plt.ylim()\n",
    "#unfiltered data\n",
    "ax1.hist(data.rt,bins=100)\n",
    "ax1.axvline(data.rt.mean(), color='k', linestyle='dashed', linewidth=1)\n",
    "ax1.text(data.rt.mean()*1.1,max_ylim*0.9, 'Mean: {:.2f}'.format(data.rt.mean()))\n",
    "ax1.set_title(\"RTs of Unfiltered data\")\n",
    "#filtered data\n",
    "ax2.hist(data_filtered.rt,bins=100)\n",
    "ax2.axvline(data_filtered.rt.mean(), color='k', linestyle='dashed', linewidth=1)\n",
    "ax2.text(data_filtered.rt.mean()*1.1,max_ylim*0.9, 'Mean: {:.2f}'.format(data_filtered.rt.mean()))\n",
    "ax2.set_title(\"RTs of Filtered data\")\n",
    "plt.show()"
   ]
  }
 ],
 "metadata": {
  "kernelspec": {
   "display_name": "Python 3.9.7 64-bit",
   "language": "python",
   "name": "python3"
  },
  "language_info": {
   "codemirror_mode": {
    "name": "ipython",
    "version": 3
   },
   "file_extension": ".py",
   "mimetype": "text/x-python",
   "name": "python",
   "nbconvert_exporter": "python",
   "pygments_lexer": "ipython3",
   "version": "3.9.7"
  },
  "orig_nbformat": 4,
  "vscode": {
   "interpreter": {
    "hash": "cd949ed4b94748d1150ad3fc7911325c390d4bc9b8bde526abb5c33ea40c1078"
   }
  }
 },
 "nbformat": 4,
 "nbformat_minor": 2
}
